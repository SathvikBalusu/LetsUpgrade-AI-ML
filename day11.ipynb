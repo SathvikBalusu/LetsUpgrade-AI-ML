{
  "nbformat": 4,
  "nbformat_minor": 0,
  "metadata": {
    "colab": {
      "name": "day11.ipynb",
      "provenance": [],
      "collapsed_sections": []
    },
    "kernelspec": {
      "name": "python3",
      "display_name": "Python 3"
    }
  },
  "cells": [
    {
      "cell_type": "code",
      "metadata": {
        "id": "remgqygVf2gY",
        "colab_type": "code",
        "colab": {
          "base_uri": "https://localhost:8080/",
          "height": 1000
        },
        "outputId": "6d41e331-23e6-47ee-a54a-fa13d5ecf7bf"
      },
      "source": [
        "import pandas as pd\n",
        "dataset=pd.read_csv(\"general_data.csv\")\n",
        "with pd.option_context('display.max_columns',40):\n",
        "  print(dataset[['MonthlyIncome','YearsAtCompany','Age','DistanceFromHome','PercentSalaryHike','JobLevel','NumCompaniesWorked','TotalWorkingYears','YearsSinceLastPromotion','TrainingTimesLastYear']].describe())\n",
        "dataset.drop_duplicates\n",
        "dataset.dropna(inplace=True)\n",
        "print(dataset.isnull())\n",
        "print(dataset.dtypes)\n",
        "print(dataset)\n",
        "\n"
      ],
      "execution_count": 62,
      "outputs": [
        {
          "output_type": "stream",
          "text": [
            "       MonthlyIncome  YearsAtCompany          Age  DistanceFromHome  \\\n",
            "count    4410.000000     4410.000000  4410.000000       4410.000000   \n",
            "mean    65029.312925        7.008163    36.923810          9.192517   \n",
            "std     47068.888559        6.125135     9.133301          8.105026   \n",
            "min     10090.000000        0.000000    18.000000          1.000000   \n",
            "25%     29110.000000        3.000000    30.000000          2.000000   \n",
            "50%     49190.000000        5.000000    36.000000          7.000000   \n",
            "75%     83800.000000        9.000000    43.000000         14.000000   \n",
            "max    199990.000000       40.000000    60.000000         29.000000   \n",
            "\n",
            "       PercentSalaryHike     JobLevel  NumCompaniesWorked  TotalWorkingYears  \\\n",
            "count        4410.000000  4410.000000         4391.000000        4401.000000   \n",
            "mean           15.209524     2.063946            2.694830          11.279936   \n",
            "std             3.659108     1.106689            2.498887           7.782222   \n",
            "min            11.000000     1.000000            0.000000           0.000000   \n",
            "25%            12.000000     1.000000            1.000000           6.000000   \n",
            "50%            14.000000     2.000000            2.000000          10.000000   \n",
            "75%            18.000000     3.000000            4.000000          15.000000   \n",
            "max            25.000000     5.000000            9.000000          40.000000   \n",
            "\n",
            "       YearsSinceLastPromotion  TrainingTimesLastYear  \n",
            "count              4410.000000            4410.000000  \n",
            "mean                  2.187755               2.799320  \n",
            "std                   3.221699               1.288978  \n",
            "min                   0.000000               0.000000  \n",
            "25%                   0.000000               2.000000  \n",
            "50%                   1.000000               3.000000  \n",
            "75%                   3.000000               3.000000  \n",
            "max                  15.000000               6.000000  \n",
            "        Age  Attrition  ...  YearsSinceLastPromotion  YearsWithCurrManager\n",
            "0     False      False  ...                    False                 False\n",
            "1     False      False  ...                    False                 False\n",
            "2     False      False  ...                    False                 False\n",
            "3     False      False  ...                    False                 False\n",
            "4     False      False  ...                    False                 False\n",
            "...     ...        ...  ...                      ...                   ...\n",
            "4404  False      False  ...                    False                 False\n",
            "4405  False      False  ...                    False                 False\n",
            "4406  False      False  ...                    False                 False\n",
            "4407  False      False  ...                    False                 False\n",
            "4408  False      False  ...                    False                 False\n",
            "\n",
            "[4382 rows x 24 columns]\n",
            "Age                          int64\n",
            "Attrition                   object\n",
            "BusinessTravel              object\n",
            "Department                  object\n",
            "DistanceFromHome             int64\n",
            "Education                    int64\n",
            "EducationField              object\n",
            "EmployeeCount                int64\n",
            "EmployeeID                   int64\n",
            "Gender                      object\n",
            "JobLevel                     int64\n",
            "JobRole                     object\n",
            "MaritalStatus               object\n",
            "MonthlyIncome                int64\n",
            "NumCompaniesWorked         float64\n",
            "Over18                      object\n",
            "PercentSalaryHike            int64\n",
            "StandardHours                int64\n",
            "StockOptionLevel             int64\n",
            "TotalWorkingYears          float64\n",
            "TrainingTimesLastYear        int64\n",
            "YearsAtCompany               int64\n",
            "YearsSinceLastPromotion      int64\n",
            "YearsWithCurrManager         int64\n",
            "dtype: object\n",
            "      Age Attrition  ... YearsSinceLastPromotion YearsWithCurrManager\n",
            "0      51        No  ...                       0                    0\n",
            "1      31       Yes  ...                       1                    4\n",
            "2      32        No  ...                       0                    3\n",
            "3      38        No  ...                       7                    5\n",
            "4      32        No  ...                       0                    4\n",
            "...   ...       ...  ...                     ...                  ...\n",
            "4404   29        No  ...                       1                    5\n",
            "4405   42        No  ...                       0                    2\n",
            "4406   29        No  ...                       0                    2\n",
            "4407   25        No  ...                       1                    2\n",
            "4408   42        No  ...                       7                    8\n",
            "\n",
            "[4382 rows x 24 columns]\n"
          ],
          "name": "stdout"
        }
      ]
    },
    {
      "cell_type": "code",
      "metadata": {
        "id": "zW7MwYySs5YD",
        "colab_type": "code",
        "colab": {
          "base_uri": "https://localhost:8080/",
          "height": 609
        },
        "outputId": "cad6f88d-581f-40b1-991c-e4490930c529"
      },
      "source": [
        "\n",
        "num_val={\"Yes\":1,\"No\":0}\n",
        "dataset['Attrition']=dataset['Attrition'].apply(lambda x:num_val[x])\n",
        "dataset"
      ],
      "execution_count": 63,
      "outputs": [
        {
          "output_type": "execute_result",
          "data": {
            "text/html": [
              "<div>\n",
              "<style scoped>\n",
              "    .dataframe tbody tr th:only-of-type {\n",
              "        vertical-align: middle;\n",
              "    }\n",
              "\n",
              "    .dataframe tbody tr th {\n",
              "        vertical-align: top;\n",
              "    }\n",
              "\n",
              "    .dataframe thead th {\n",
              "        text-align: right;\n",
              "    }\n",
              "</style>\n",
              "<table border=\"1\" class=\"dataframe\">\n",
              "  <thead>\n",
              "    <tr style=\"text-align: right;\">\n",
              "      <th></th>\n",
              "      <th>Age</th>\n",
              "      <th>Attrition</th>\n",
              "      <th>BusinessTravel</th>\n",
              "      <th>Department</th>\n",
              "      <th>DistanceFromHome</th>\n",
              "      <th>Education</th>\n",
              "      <th>EducationField</th>\n",
              "      <th>EmployeeCount</th>\n",
              "      <th>EmployeeID</th>\n",
              "      <th>Gender</th>\n",
              "      <th>JobLevel</th>\n",
              "      <th>JobRole</th>\n",
              "      <th>MaritalStatus</th>\n",
              "      <th>MonthlyIncome</th>\n",
              "      <th>NumCompaniesWorked</th>\n",
              "      <th>Over18</th>\n",
              "      <th>PercentSalaryHike</th>\n",
              "      <th>StandardHours</th>\n",
              "      <th>StockOptionLevel</th>\n",
              "      <th>TotalWorkingYears</th>\n",
              "      <th>TrainingTimesLastYear</th>\n",
              "      <th>YearsAtCompany</th>\n",
              "      <th>YearsSinceLastPromotion</th>\n",
              "      <th>YearsWithCurrManager</th>\n",
              "    </tr>\n",
              "  </thead>\n",
              "  <tbody>\n",
              "    <tr>\n",
              "      <th>0</th>\n",
              "      <td>51</td>\n",
              "      <td>0</td>\n",
              "      <td>Travel_Rarely</td>\n",
              "      <td>Sales</td>\n",
              "      <td>6</td>\n",
              "      <td>2</td>\n",
              "      <td>Life Sciences</td>\n",
              "      <td>1</td>\n",
              "      <td>1</td>\n",
              "      <td>Female</td>\n",
              "      <td>1</td>\n",
              "      <td>Healthcare Representative</td>\n",
              "      <td>Married</td>\n",
              "      <td>131160</td>\n",
              "      <td>1.0</td>\n",
              "      <td>Y</td>\n",
              "      <td>11</td>\n",
              "      <td>8</td>\n",
              "      <td>0</td>\n",
              "      <td>1.0</td>\n",
              "      <td>6</td>\n",
              "      <td>1</td>\n",
              "      <td>0</td>\n",
              "      <td>0</td>\n",
              "    </tr>\n",
              "    <tr>\n",
              "      <th>1</th>\n",
              "      <td>31</td>\n",
              "      <td>1</td>\n",
              "      <td>Travel_Frequently</td>\n",
              "      <td>Research &amp; Development</td>\n",
              "      <td>10</td>\n",
              "      <td>1</td>\n",
              "      <td>Life Sciences</td>\n",
              "      <td>1</td>\n",
              "      <td>2</td>\n",
              "      <td>Female</td>\n",
              "      <td>1</td>\n",
              "      <td>Research Scientist</td>\n",
              "      <td>Single</td>\n",
              "      <td>41890</td>\n",
              "      <td>0.0</td>\n",
              "      <td>Y</td>\n",
              "      <td>23</td>\n",
              "      <td>8</td>\n",
              "      <td>1</td>\n",
              "      <td>6.0</td>\n",
              "      <td>3</td>\n",
              "      <td>5</td>\n",
              "      <td>1</td>\n",
              "      <td>4</td>\n",
              "    </tr>\n",
              "    <tr>\n",
              "      <th>2</th>\n",
              "      <td>32</td>\n",
              "      <td>0</td>\n",
              "      <td>Travel_Frequently</td>\n",
              "      <td>Research &amp; Development</td>\n",
              "      <td>17</td>\n",
              "      <td>4</td>\n",
              "      <td>Other</td>\n",
              "      <td>1</td>\n",
              "      <td>3</td>\n",
              "      <td>Male</td>\n",
              "      <td>4</td>\n",
              "      <td>Sales Executive</td>\n",
              "      <td>Married</td>\n",
              "      <td>193280</td>\n",
              "      <td>1.0</td>\n",
              "      <td>Y</td>\n",
              "      <td>15</td>\n",
              "      <td>8</td>\n",
              "      <td>3</td>\n",
              "      <td>5.0</td>\n",
              "      <td>2</td>\n",
              "      <td>5</td>\n",
              "      <td>0</td>\n",
              "      <td>3</td>\n",
              "    </tr>\n",
              "    <tr>\n",
              "      <th>3</th>\n",
              "      <td>38</td>\n",
              "      <td>0</td>\n",
              "      <td>Non-Travel</td>\n",
              "      <td>Research &amp; Development</td>\n",
              "      <td>2</td>\n",
              "      <td>5</td>\n",
              "      <td>Life Sciences</td>\n",
              "      <td>1</td>\n",
              "      <td>4</td>\n",
              "      <td>Male</td>\n",
              "      <td>3</td>\n",
              "      <td>Human Resources</td>\n",
              "      <td>Married</td>\n",
              "      <td>83210</td>\n",
              "      <td>3.0</td>\n",
              "      <td>Y</td>\n",
              "      <td>11</td>\n",
              "      <td>8</td>\n",
              "      <td>3</td>\n",
              "      <td>13.0</td>\n",
              "      <td>5</td>\n",
              "      <td>8</td>\n",
              "      <td>7</td>\n",
              "      <td>5</td>\n",
              "    </tr>\n",
              "    <tr>\n",
              "      <th>4</th>\n",
              "      <td>32</td>\n",
              "      <td>0</td>\n",
              "      <td>Travel_Rarely</td>\n",
              "      <td>Research &amp; Development</td>\n",
              "      <td>10</td>\n",
              "      <td>1</td>\n",
              "      <td>Medical</td>\n",
              "      <td>1</td>\n",
              "      <td>5</td>\n",
              "      <td>Male</td>\n",
              "      <td>1</td>\n",
              "      <td>Sales Executive</td>\n",
              "      <td>Single</td>\n",
              "      <td>23420</td>\n",
              "      <td>4.0</td>\n",
              "      <td>Y</td>\n",
              "      <td>12</td>\n",
              "      <td>8</td>\n",
              "      <td>2</td>\n",
              "      <td>9.0</td>\n",
              "      <td>2</td>\n",
              "      <td>6</td>\n",
              "      <td>0</td>\n",
              "      <td>4</td>\n",
              "    </tr>\n",
              "    <tr>\n",
              "      <th>...</th>\n",
              "      <td>...</td>\n",
              "      <td>...</td>\n",
              "      <td>...</td>\n",
              "      <td>...</td>\n",
              "      <td>...</td>\n",
              "      <td>...</td>\n",
              "      <td>...</td>\n",
              "      <td>...</td>\n",
              "      <td>...</td>\n",
              "      <td>...</td>\n",
              "      <td>...</td>\n",
              "      <td>...</td>\n",
              "      <td>...</td>\n",
              "      <td>...</td>\n",
              "      <td>...</td>\n",
              "      <td>...</td>\n",
              "      <td>...</td>\n",
              "      <td>...</td>\n",
              "      <td>...</td>\n",
              "      <td>...</td>\n",
              "      <td>...</td>\n",
              "      <td>...</td>\n",
              "      <td>...</td>\n",
              "      <td>...</td>\n",
              "    </tr>\n",
              "    <tr>\n",
              "      <th>4404</th>\n",
              "      <td>29</td>\n",
              "      <td>0</td>\n",
              "      <td>Travel_Rarely</td>\n",
              "      <td>Sales</td>\n",
              "      <td>4</td>\n",
              "      <td>3</td>\n",
              "      <td>Other</td>\n",
              "      <td>1</td>\n",
              "      <td>4405</td>\n",
              "      <td>Female</td>\n",
              "      <td>2</td>\n",
              "      <td>Human Resources</td>\n",
              "      <td>Single</td>\n",
              "      <td>35390</td>\n",
              "      <td>1.0</td>\n",
              "      <td>Y</td>\n",
              "      <td>18</td>\n",
              "      <td>8</td>\n",
              "      <td>0</td>\n",
              "      <td>6.0</td>\n",
              "      <td>2</td>\n",
              "      <td>6</td>\n",
              "      <td>1</td>\n",
              "      <td>5</td>\n",
              "    </tr>\n",
              "    <tr>\n",
              "      <th>4405</th>\n",
              "      <td>42</td>\n",
              "      <td>0</td>\n",
              "      <td>Travel_Rarely</td>\n",
              "      <td>Research &amp; Development</td>\n",
              "      <td>5</td>\n",
              "      <td>4</td>\n",
              "      <td>Medical</td>\n",
              "      <td>1</td>\n",
              "      <td>4406</td>\n",
              "      <td>Female</td>\n",
              "      <td>1</td>\n",
              "      <td>Research Scientist</td>\n",
              "      <td>Single</td>\n",
              "      <td>60290</td>\n",
              "      <td>3.0</td>\n",
              "      <td>Y</td>\n",
              "      <td>17</td>\n",
              "      <td>8</td>\n",
              "      <td>1</td>\n",
              "      <td>10.0</td>\n",
              "      <td>5</td>\n",
              "      <td>3</td>\n",
              "      <td>0</td>\n",
              "      <td>2</td>\n",
              "    </tr>\n",
              "    <tr>\n",
              "      <th>4406</th>\n",
              "      <td>29</td>\n",
              "      <td>0</td>\n",
              "      <td>Travel_Rarely</td>\n",
              "      <td>Research &amp; Development</td>\n",
              "      <td>2</td>\n",
              "      <td>4</td>\n",
              "      <td>Medical</td>\n",
              "      <td>1</td>\n",
              "      <td>4407</td>\n",
              "      <td>Male</td>\n",
              "      <td>1</td>\n",
              "      <td>Laboratory Technician</td>\n",
              "      <td>Divorced</td>\n",
              "      <td>26790</td>\n",
              "      <td>2.0</td>\n",
              "      <td>Y</td>\n",
              "      <td>15</td>\n",
              "      <td>8</td>\n",
              "      <td>0</td>\n",
              "      <td>10.0</td>\n",
              "      <td>2</td>\n",
              "      <td>3</td>\n",
              "      <td>0</td>\n",
              "      <td>2</td>\n",
              "    </tr>\n",
              "    <tr>\n",
              "      <th>4407</th>\n",
              "      <td>25</td>\n",
              "      <td>0</td>\n",
              "      <td>Travel_Rarely</td>\n",
              "      <td>Research &amp; Development</td>\n",
              "      <td>25</td>\n",
              "      <td>2</td>\n",
              "      <td>Life Sciences</td>\n",
              "      <td>1</td>\n",
              "      <td>4408</td>\n",
              "      <td>Male</td>\n",
              "      <td>2</td>\n",
              "      <td>Sales Executive</td>\n",
              "      <td>Married</td>\n",
              "      <td>37020</td>\n",
              "      <td>0.0</td>\n",
              "      <td>Y</td>\n",
              "      <td>20</td>\n",
              "      <td>8</td>\n",
              "      <td>0</td>\n",
              "      <td>5.0</td>\n",
              "      <td>4</td>\n",
              "      <td>4</td>\n",
              "      <td>1</td>\n",
              "      <td>2</td>\n",
              "    </tr>\n",
              "    <tr>\n",
              "      <th>4408</th>\n",
              "      <td>42</td>\n",
              "      <td>0</td>\n",
              "      <td>Travel_Rarely</td>\n",
              "      <td>Sales</td>\n",
              "      <td>18</td>\n",
              "      <td>2</td>\n",
              "      <td>Medical</td>\n",
              "      <td>1</td>\n",
              "      <td>4409</td>\n",
              "      <td>Male</td>\n",
              "      <td>1</td>\n",
              "      <td>Laboratory Technician</td>\n",
              "      <td>Divorced</td>\n",
              "      <td>23980</td>\n",
              "      <td>0.0</td>\n",
              "      <td>Y</td>\n",
              "      <td>14</td>\n",
              "      <td>8</td>\n",
              "      <td>1</td>\n",
              "      <td>10.0</td>\n",
              "      <td>2</td>\n",
              "      <td>9</td>\n",
              "      <td>7</td>\n",
              "      <td>8</td>\n",
              "    </tr>\n",
              "  </tbody>\n",
              "</table>\n",
              "<p>4382 rows × 24 columns</p>\n",
              "</div>"
            ],
            "text/plain": [
              "      Age  Attrition  ... YearsSinceLastPromotion YearsWithCurrManager\n",
              "0      51          0  ...                       0                    0\n",
              "1      31          1  ...                       1                    4\n",
              "2      32          0  ...                       0                    3\n",
              "3      38          0  ...                       7                    5\n",
              "4      32          0  ...                       0                    4\n",
              "...   ...        ...  ...                     ...                  ...\n",
              "4404   29          0  ...                       1                    5\n",
              "4405   42          0  ...                       0                    2\n",
              "4406   29          0  ...                       0                    2\n",
              "4407   25          0  ...                       1                    2\n",
              "4408   42          0  ...                       7                    8\n",
              "\n",
              "[4382 rows x 24 columns]"
            ]
          },
          "metadata": {
            "tags": []
          },
          "execution_count": 63
        }
      ]
    },
    {
      "cell_type": "code",
      "metadata": {
        "id": "NyU2K5XgxE6L",
        "colab_type": "code",
        "colab": {
          "base_uri": "https://localhost:8080/",
          "height": 51
        },
        "outputId": "1b27ae2b-502c-4753-e649-c6a98ddcbbd3"
      },
      "source": [
        "from scipy.stats import pearsonr\n",
        "stats,p=pearsonr(dataset.Attrition,dataset.Age)\n",
        "print(stats,p)\n",
        "#Null Hypothesis:There is no significant difference in attrition with Age \n",
        "if(p<0.05):\n",
        "  print(\"reject null hypothesis\")\n",
        "else:\n",
        "  print(\"accept null hypothesis\")\n"
      ],
      "execution_count": 64,
      "outputs": [
        {
          "output_type": "stream",
          "text": [
            "-0.1583986795409671 5.1265982193780794e-26\n",
            "reject null hypothesis\n"
          ],
          "name": "stdout"
        }
      ]
    },
    {
      "cell_type": "code",
      "metadata": {
        "id": "v4hYaLBCxbau",
        "colab_type": "code",
        "colab": {
          "base_uri": "https://localhost:8080/",
          "height": 51
        },
        "outputId": "5323c375-edf0-481b-b8d2-b98973f33375"
      },
      "source": [
        "stats,p=pearsonr(dataset.Attrition,dataset.DistanceFromHome)\n",
        "print(stats,p)\n",
        "#Null hypothesis: There is no significant difference in attrition with DistanceFromHome\n",
        "if(p<0.05):\n",
        "  print(\"reject null hypothesis\")\n",
        "else:\n",
        "  print(\"accept null hypothesis\")\n"
      ],
      "execution_count": 65,
      "outputs": [
        {
          "output_type": "stream",
          "text": [
            "-0.009448638515156291 0.5317715668018396\n",
            "accept null hypothesis\n"
          ],
          "name": "stdout"
        }
      ]
    },
    {
      "cell_type": "code",
      "metadata": {
        "id": "q-JyqFSt0jJy",
        "colab_type": "code",
        "colab": {
          "base_uri": "https://localhost:8080/",
          "height": 51
        },
        "outputId": "a391794e-c077-4466-9cdf-6daaf672d27b"
      },
      "source": [
        "stats,p=pearsonr(dataset.Attrition,dataset.PercentSalaryHike)\n",
        "print(stats,p)\n",
        "#Null hypothesis: There is no significant difference in attrition with PercentSalarayHike\n",
        "if(p<0.05):\n",
        "  print(\"reject null hypothesis\")\n",
        "else:\n",
        "  print(\"accept null hypothesis\")"
      ],
      "execution_count": 66,
      "outputs": [
        {
          "output_type": "stream",
          "text": [
            "0.033153037135466544 0.028192446935112747\n",
            "reject null hypothesis\n"
          ],
          "name": "stdout"
        }
      ]
    },
    {
      "cell_type": "code",
      "metadata": {
        "id": "bZ11N2dBGkD9",
        "colab_type": "code",
        "colab": {
          "base_uri": "https://localhost:8080/",
          "height": 51
        },
        "outputId": "73fe10b3-c9fb-49d4-cc59-9528419014cb"
      },
      "source": [
        "stats,p=pearsonr(dataset.Attrition,dataset.JobLevel)\n",
        "print(stats,p)\n",
        "#Null hypothesis: There is no significant difference in attrition with JobLevel\n",
        "if(p<0.05):\n",
        "  print(\"reject null hypothesis\")\n",
        "else:\n",
        "  print(\"accept null hypothesis\")"
      ],
      "execution_count": 67,
      "outputs": [
        {
          "output_type": "stream",
          "text": [
            "-0.012381569720790884 0.4125489150380087\n",
            "accept null hypothesis\n"
          ],
          "name": "stdout"
        }
      ]
    },
    {
      "cell_type": "code",
      "metadata": {
        "id": "uX7zMBewH32G",
        "colab_type": "code",
        "colab": {
          "base_uri": "https://localhost:8080/",
          "height": 68
        },
        "outputId": "6dd1cf83-0adb-4748-928f-259f2b43a00f"
      },
      "source": [
        "print(dataset['NumCompaniesWorked'].isnull().sum())\n",
        "stats,p=pearsonr(dataset.Attrition,dataset.NumCompaniesWorked)\n",
        "print(stats,p)\n",
        "#Null hypothesis: There is no significant difference in attrition with NumCompaniesWorked\n",
        "\n",
        "if(p<0.05):\n",
        "  print(\"reject null hypothesis\")\n",
        "else:\n",
        "  print(\"accept null hypothesis\")"
      ],
      "execution_count": 69,
      "outputs": [
        {
          "output_type": "stream",
          "text": [
            "0\n",
            "0.042830567244720834 0.004572057121622929\n",
            "reject null hypothesis\n"
          ],
          "name": "stdout"
        }
      ]
    },
    {
      "cell_type": "code",
      "metadata": {
        "id": "PJG9ZMwtJS9c",
        "colab_type": "code",
        "colab": {
          "base_uri": "https://localhost:8080/",
          "height": 51
        },
        "outputId": "281eff92-0829-40eb-aa95-3e223f0dc0bb"
      },
      "source": [
        "stats,p=pearsonr(dataset.Attrition,dataset.JobLevel)\n",
        "print(stats,p)\n",
        "#Null hypothesis: There is no significant difference in attrition with JobLevel\n",
        "if(p<0.05):\n",
        "  print(\"reject null hypothesis\")\n",
        "else:\n",
        "  print(\"accept null hypothesis\")"
      ],
      "execution_count": 70,
      "outputs": [
        {
          "output_type": "stream",
          "text": [
            "-0.012381569720790884 0.4125489150380087\n",
            "accept null hypothesis\n"
          ],
          "name": "stdout"
        }
      ]
    },
    {
      "cell_type": "code",
      "metadata": {
        "id": "Zb0-HQqJL6zP",
        "colab_type": "code",
        "colab": {
          "base_uri": "https://localhost:8080/",
          "height": 51
        },
        "outputId": "d4d2fc25-e167-4766-91dc-1774ebdc6ef4"
      },
      "source": [
        "stats,p=pearsonr(dataset.Attrition,dataset.NumCompaniesWorked)\n",
        "print(stats,p)\n",
        "#Null hypothesis: There is no significant difference in attrition with NumCompaniesWorked\n",
        "if(p<0.05):\n",
        "  print(\"reject null hypothesis\")\n",
        "else:\n",
        "  print(\"accept null hypothesis\")"
      ],
      "execution_count": 71,
      "outputs": [
        {
          "output_type": "stream",
          "text": [
            "0.042830567244720834 0.004572057121622929\n",
            "reject null hypothesis\n"
          ],
          "name": "stdout"
        }
      ]
    },
    {
      "cell_type": "code",
      "metadata": {
        "id": "kfQIk97jL7nt",
        "colab_type": "code",
        "colab": {
          "base_uri": "https://localhost:8080/",
          "height": 51
        },
        "outputId": "82b84cf4-91dd-42ac-914d-fd2702f4b831"
      },
      "source": [
        "stats,p=pearsonr(dataset.Attrition,dataset.TotalWorkingYears)\n",
        "print(stats,p)\n",
        "#Null hypothesis: There is no significant difference in attrition with TotalWorkingYears\n",
        "if(p<0.05):\n",
        "  print(\"reject null hypothesis\")\n",
        "else:\n",
        "  print(\"accept null hypothesis\")"
      ],
      "execution_count": 72,
      "outputs": [
        {
          "output_type": "stream",
          "text": [
            "-0.16966991684723912 1.1645434967091854e-29\n",
            "reject null hypothesis\n"
          ],
          "name": "stdout"
        }
      ]
    },
    {
      "cell_type": "code",
      "metadata": {
        "id": "csNVHx4yQBEP",
        "colab_type": "code",
        "colab": {
          "base_uri": "https://localhost:8080/",
          "height": 51
        },
        "outputId": "134ac600-8ad5-4265-a66a-945f12f7128f"
      },
      "source": [
        "stats,p=pearsonr(dataset.Attrition,dataset.YearsSinceLastPromotion)\n",
        "print(stats,p)\n",
        "#Null hypothesis: There is no significant difference in attrition with YearsSinceLastPromotion\n",
        "if(p<0.05):\n",
        "  print(\"reject null hypothesis\")\n",
        "else:\n",
        "  print(\"accept null hypothesis\")"
      ],
      "execution_count": 73,
      "outputs": [
        {
          "output_type": "stream",
          "text": [
            "-0.03142315056330998 0.03752293607394324\n",
            "reject null hypothesis\n"
          ],
          "name": "stdout"
        }
      ]
    },
    {
      "cell_type": "code",
      "metadata": {
        "id": "J209aC_BQKW_",
        "colab_type": "code",
        "colab": {
          "base_uri": "https://localhost:8080/",
          "height": 51
        },
        "outputId": "f4ca2f1d-3382-4208-8cae-57ccf74e0140"
      },
      "source": [
        "stats,p=pearsonr(dataset.Attrition,dataset.TrainingTimesLastYear)\n",
        "print(stats,p)\n",
        "#Null hypothesis: There is no significant difference in attrition with TrainingTimeLastYear\n",
        "if(p<0.05):\n",
        "  print(\"reject null hypothesis\")\n",
        "else:\n",
        "  print(\"accept null hypothesis\")"
      ],
      "execution_count": 74,
      "outputs": [
        {
          "output_type": "stream",
          "text": [
            "-0.04758573693081715 0.0016276603635466457\n",
            "reject null hypothesis\n"
          ],
          "name": "stdout"
        }
      ]
    },
    {
      "cell_type": "code",
      "metadata": {
        "id": "KwGGqOC9QVfI",
        "colab_type": "code",
        "colab": {}
      },
      "source": [
        ""
      ],
      "execution_count": null,
      "outputs": []
    }
  ]
}