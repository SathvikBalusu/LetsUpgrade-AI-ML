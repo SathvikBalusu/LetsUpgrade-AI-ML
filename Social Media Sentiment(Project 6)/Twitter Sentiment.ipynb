{
 "cells": [
  {
   "cell_type": "code",
   "execution_count": 1,
   "id": "b2b0c6e4",
   "metadata": {},
   "outputs": [
    {
     "name": "stdout",
     "output_type": "stream",
     "text": [
      "Requirement already satisfied: tweepy in c:\\users\\sathv\\anaconda3\\lib\\site-packages (3.10.0)\n",
      "Requirement already satisfied: requests-oauthlib>=0.7.0 in c:\\users\\sathv\\anaconda3\\lib\\site-packages (from tweepy) (1.3.0)\n",
      "Requirement already satisfied: six>=1.10.0 in c:\\users\\sathv\\anaconda3\\lib\\site-packages (from tweepy) (1.15.0)\n",
      "Requirement already satisfied: requests[socks]>=2.11.1 in c:\\users\\sathv\\anaconda3\\lib\\site-packages (from tweepy) (2.25.1)\n",
      "Requirement already satisfied: oauthlib>=3.0.0 in c:\\users\\sathv\\anaconda3\\lib\\site-packages (from requests-oauthlib>=0.7.0->tweepy) (3.1.0)\n",
      "Requirement already satisfied: certifi>=2017.4.17 in c:\\users\\sathv\\anaconda3\\lib\\site-packages (from requests[socks]>=2.11.1->tweepy) (2020.12.5)\n",
      "Requirement already satisfied: idna<3,>=2.5 in c:\\users\\sathv\\anaconda3\\lib\\site-packages (from requests[socks]>=2.11.1->tweepy) (2.10)\n",
      "Requirement already satisfied: chardet<5,>=3.0.2 in c:\\users\\sathv\\anaconda3\\lib\\site-packages (from requests[socks]>=2.11.1->tweepy) (4.0.0)\n",
      "Requirement already satisfied: urllib3<1.27,>=1.21.1 in c:\\users\\sathv\\anaconda3\\lib\\site-packages (from requests[socks]>=2.11.1->tweepy) (1.26.4)\n",
      "Requirement already satisfied: PySocks!=1.5.7,>=1.5.6 in c:\\users\\sathv\\anaconda3\\lib\\site-packages (from requests[socks]>=2.11.1->tweepy) (1.7.1)\n"
     ]
    }
   ],
   "source": [
    "!pip install tweepy"
   ]
  },
  {
   "cell_type": "code",
   "execution_count": 2,
   "id": "533a56dc",
   "metadata": {},
   "outputs": [
    {
     "name": "stdout",
     "output_type": "stream",
     "text": [
      "Requirement already satisfied: openpyxl in c:\\users\\sathv\\anaconda3\\lib\\site-packages (3.0.7)\n",
      "Requirement already satisfied: et-xmlfile in c:\\users\\sathv\\anaconda3\\lib\\site-packages (from openpyxl) (1.0.1)\n"
     ]
    }
   ],
   "source": [
    "!pip install openpyxl"
   ]
  },
  {
   "cell_type": "code",
   "execution_count": 24,
   "id": "4870eb1c",
   "metadata": {},
   "outputs": [],
   "source": [
    "import numpy as np\n",
    "import pandas as pd\n",
    "import tweepy\n",
    "import json\n",
    "from tweepy import OAuthHandler\n",
    "import matplotlib.pyplot as plt"
   ]
  },
  {
   "cell_type": "code",
   "execution_count": 4,
   "id": "87df2a46",
   "metadata": {},
   "outputs": [],
   "source": [
    "consumer_key=\"KJTCVD3w7VvKQ8ZNaswE7ftZi\"\n",
    "consumer_secret=\"aYkFJYuFAsDsQ9b2UhjoZ49ss9Q65se7AqXJk3cn0kwmYQ9GSo\"\n",
    "access_token=\"3195378463-Tvx9CqrAcGBNeVqRubOMD8ylWsbtdQE58sOLWVQ\"\n",
    "access_token_secret=\"f46zy8mP0luJ5kDz0iu5Uk1FotiIfxIm7MHFIhdoxNpPy\"\n"
   ]
  },
  {
   "cell_type": "code",
   "execution_count": 5,
   "id": "5b756076",
   "metadata": {},
   "outputs": [],
   "source": [
    "auth=tweepy.OAuthHandler(consumer_key, consumer_secret)\n",
    "auth.set_access_token(access_token, access_token_secret)\n",
    "api=tweepy.API(auth)"
   ]
  },
  {
   "cell_type": "code",
   "execution_count": 6,
   "id": "325a5e14",
   "metadata": {},
   "outputs": [],
   "source": [
    "query=\"PMCaresFund\""
   ]
  },
  {
   "cell_type": "code",
   "execution_count": 7,
   "id": "62848d49",
   "metadata": {},
   "outputs": [
    {
     "name": "stdout",
     "output_type": "stream",
     "text": [
      "Status(_api=<tweepy.api.API object at 0x000001F4EFD5EFA0>, _json={'created_at': 'Sun May 30 07:04:37 +0000 2021', 'id': 1398898121573236736, 'id_str': '1398898121573236736', 'full_text': 'PM Modi launches PM CARES for Children Scheme: Free education &amp; stipend, see key benefits\\n#PMCaresFund\\n@PMOIndia\\n@narendramodi\\nhttps://t.co/94sNK6uNnJ', 'truncated': False, 'display_text_range': [0, 154], 'entities': {'hashtags': [{'text': 'PMCaresFund', 'indices': [94, 106]}], 'symbols': [], 'user_mentions': [{'screen_name': 'PMOIndia', 'name': 'PMO India', 'id': 471741741, 'id_str': '471741741', 'indices': [107, 116]}, {'screen_name': 'narendramodi', 'name': 'Narendra Modi', 'id': 18839785, 'id_str': '18839785', 'indices': [117, 130]}], 'urls': [{'url': 'https://t.co/94sNK6uNnJ', 'expanded_url': 'https://www.republicworld.com/india-news/education/pm-modi-launches-pm-cares-for-children-scheme-free-education-and-stipend-see-key-benefits.html', 'display_url': 'republicworld.com/india-news/edu…', 'indices': [131, 154]}]}, 'metadata': {'iso_language_code': 'en', 'result_type': 'recent'}, 'source': '<a href=\"http://twitter.com/download/android\" rel=\"nofollow\">Twitter for Android</a>', 'in_reply_to_status_id': None, 'in_reply_to_status_id_str': None, 'in_reply_to_user_id': None, 'in_reply_to_user_id_str': None, 'in_reply_to_screen_name': None, 'user': {'id': 741184172102979584, 'id_str': '741184172102979584', 'name': 'Nandini', 'screen_name': 'NandiniJourno', 'location': 'New Delhi, India', 'description': 'Journalist/ Senior Copy Editor; \\nEx- Hindustan Times.\\nJournalism in Blood since 2015 ❤️\\nViews are personal. RTs not endorsement.', 'url': 'https://t.co/JgO12YDFmW', 'entities': {'url': {'urls': [{'url': 'https://t.co/JgO12YDFmW', 'expanded_url': 'https://www.republicworld.com/author/nandini-verma', 'display_url': 'republicworld.com/author/nandini…', 'indices': [0, 23]}]}, 'description': {'urls': []}}, 'protected': False, 'followers_count': 550, 'friends_count': 432, 'listed_count': 0, 'created_at': 'Fri Jun 10 08:24:11 +0000 2016', 'favourites_count': 2729, 'utc_offset': None, 'time_zone': None, 'geo_enabled': True, 'verified': False, 'statuses_count': 1290, 'lang': None, 'contributors_enabled': False, 'is_translator': False, 'is_translation_enabled': False, 'profile_background_color': '000000', 'profile_background_image_url': 'http://abs.twimg.com/images/themes/theme1/bg.png', 'profile_background_image_url_https': 'https://abs.twimg.com/images/themes/theme1/bg.png', 'profile_background_tile': False, 'profile_image_url': 'http://pbs.twimg.com/profile_images/1263891333619625988/FKUo20Mf_normal.jpg', 'profile_image_url_https': 'https://pbs.twimg.com/profile_images/1263891333619625988/FKUo20Mf_normal.jpg', 'profile_banner_url': 'https://pbs.twimg.com/profile_banners/741184172102979584/1503915747', 'profile_link_color': 'FF691F', 'profile_sidebar_border_color': '000000', 'profile_sidebar_fill_color': '000000', 'profile_text_color': '000000', 'profile_use_background_image': False, 'has_extended_profile': True, 'default_profile': False, 'default_profile_image': False, 'following': False, 'follow_request_sent': False, 'notifications': False, 'translator_type': 'none', 'withheld_in_countries': []}, 'geo': None, 'coordinates': None, 'place': {'id': '2e6064382c71b343', 'url': 'https://api.twitter.com/1.1/geo/id/2e6064382c71b343.json', 'place_type': 'city', 'name': 'Noida', 'full_name': 'Noida, India', 'country_code': 'IN', 'country': 'India', 'contained_within': [], 'bounding_box': {'type': 'Polygon', 'coordinates': [[[77.302126, 28.443981], [77.695326, 28.443981], [77.695326, 28.647131], [77.302126, 28.647131]]]}, 'attributes': {}}, 'contributors': None, 'is_quote_status': False, 'retweet_count': 0, 'favorite_count': 0, 'favorited': False, 'retweeted': False, 'possibly_sensitive': False, 'lang': 'en'}, created_at=datetime.datetime(2021, 5, 30, 7, 4, 37), id=1398898121573236736, id_str='1398898121573236736', full_text='PM Modi launches PM CARES for Children Scheme: Free education &amp; stipend, see key benefits\\n#PMCaresFund\\n@PMOIndia\\n@narendramodi\\nhttps://t.co/94sNK6uNnJ', truncated=False, display_text_range=[0, 154], entities={'hashtags': [{'text': 'PMCaresFund', 'indices': [94, 106]}], 'symbols': [], 'user_mentions': [{'screen_name': 'PMOIndia', 'name': 'PMO India', 'id': 471741741, 'id_str': '471741741', 'indices': [107, 116]}, {'screen_name': 'narendramodi', 'name': 'Narendra Modi', 'id': 18839785, 'id_str': '18839785', 'indices': [117, 130]}], 'urls': [{'url': 'https://t.co/94sNK6uNnJ', 'expanded_url': 'https://www.republicworld.com/india-news/education/pm-modi-launches-pm-cares-for-children-scheme-free-education-and-stipend-see-key-benefits.html', 'display_url': 'republicworld.com/india-news/edu…', 'indices': [131, 154]}]}, metadata={'iso_language_code': 'en', 'result_type': 'recent'}, source='Twitter for Android', source_url='http://twitter.com/download/android', in_reply_to_status_id=None, in_reply_to_status_id_str=None, in_reply_to_user_id=None, in_reply_to_user_id_str=None, in_reply_to_screen_name=None, author=User(_api=<tweepy.api.API object at 0x000001F4EFD5EFA0>, _json={'id': 741184172102979584, 'id_str': '741184172102979584', 'name': 'Nandini', 'screen_name': 'NandiniJourno', 'location': 'New Delhi, India', 'description': 'Journalist/ Senior Copy Editor; \\nEx- Hindustan Times.\\nJournalism in Blood since 2015 ❤️\\nViews are personal. RTs not endorsement.', 'url': 'https://t.co/JgO12YDFmW', 'entities': {'url': {'urls': [{'url': 'https://t.co/JgO12YDFmW', 'expanded_url': 'https://www.republicworld.com/author/nandini-verma', 'display_url': 'republicworld.com/author/nandini…', 'indices': [0, 23]}]}, 'description': {'urls': []}}, 'protected': False, 'followers_count': 550, 'friends_count': 432, 'listed_count': 0, 'created_at': 'Fri Jun 10 08:24:11 +0000 2016', 'favourites_count': 2729, 'utc_offset': None, 'time_zone': None, 'geo_enabled': True, 'verified': False, 'statuses_count': 1290, 'lang': None, 'contributors_enabled': False, 'is_translator': False, 'is_translation_enabled': False, 'profile_background_color': '000000', 'profile_background_image_url': 'http://abs.twimg.com/images/themes/theme1/bg.png', 'profile_background_image_url_https': 'https://abs.twimg.com/images/themes/theme1/bg.png', 'profile_background_tile': False, 'profile_image_url': 'http://pbs.twimg.com/profile_images/1263891333619625988/FKUo20Mf_normal.jpg', 'profile_image_url_https': 'https://pbs.twimg.com/profile_images/1263891333619625988/FKUo20Mf_normal.jpg', 'profile_banner_url': 'https://pbs.twimg.com/profile_banners/741184172102979584/1503915747', 'profile_link_color': 'FF691F', 'profile_sidebar_border_color': '000000', 'profile_sidebar_fill_color': '000000', 'profile_text_color': '000000', 'profile_use_background_image': False, 'has_extended_profile': True, 'default_profile': False, 'default_profile_image': False, 'following': False, 'follow_request_sent': False, 'notifications': False, 'translator_type': 'none', 'withheld_in_countries': []}, id=741184172102979584, id_str='741184172102979584', name='Nandini', screen_name='NandiniJourno', location='New Delhi, India', description='Journalist/ Senior Copy Editor; \\nEx- Hindustan Times.\\nJournalism in Blood since 2015 ❤️\\nViews are personal. RTs not endorsement.', url='https://t.co/JgO12YDFmW', entities={'url': {'urls': [{'url': 'https://t.co/JgO12YDFmW', 'expanded_url': 'https://www.republicworld.com/author/nandini-verma', 'display_url': 'republicworld.com/author/nandini…', 'indices': [0, 23]}]}, 'description': {'urls': []}}, protected=False, followers_count=550, friends_count=432, listed_count=0, created_at=datetime.datetime(2016, 6, 10, 8, 24, 11), favourites_count=2729, utc_offset=None, time_zone=None, geo_enabled=True, verified=False, statuses_count=1290, lang=None, contributors_enabled=False, is_translator=False, is_translation_enabled=False, profile_background_color='000000', profile_background_image_url='http://abs.twimg.com/images/themes/theme1/bg.png', profile_background_image_url_https='https://abs.twimg.com/images/themes/theme1/bg.png', profile_background_tile=False, profile_image_url='http://pbs.twimg.com/profile_images/1263891333619625988/FKUo20Mf_normal.jpg', profile_image_url_https='https://pbs.twimg.com/profile_images/1263891333619625988/FKUo20Mf_normal.jpg', profile_banner_url='https://pbs.twimg.com/profile_banners/741184172102979584/1503915747', profile_link_color='FF691F', profile_sidebar_border_color='000000', profile_sidebar_fill_color='000000', profile_text_color='000000', profile_use_background_image=False, has_extended_profile=True, default_profile=False, default_profile_image=False, following=False, follow_request_sent=False, notifications=False, translator_type='none', withheld_in_countries=[]), user=User(_api=<tweepy.api.API object at 0x000001F4EFD5EFA0>, _json={'id': 741184172102979584, 'id_str': '741184172102979584', 'name': 'Nandini', 'screen_name': 'NandiniJourno', 'location': 'New Delhi, India', 'description': 'Journalist/ Senior Copy Editor; \\nEx- Hindustan Times.\\nJournalism in Blood since 2015 ❤️\\nViews are personal. RTs not endorsement.', 'url': 'https://t.co/JgO12YDFmW', 'entities': {'url': {'urls': [{'url': 'https://t.co/JgO12YDFmW', 'expanded_url': 'https://www.republicworld.com/author/nandini-verma', 'display_url': 'republicworld.com/author/nandini…', 'indices': [0, 23]}]}, 'description': {'urls': []}}, 'protected': False, 'followers_count': 550, 'friends_count': 432, 'listed_count': 0, 'created_at': 'Fri Jun 10 08:24:11 +0000 2016', 'favourites_count': 2729, 'utc_offset': None, 'time_zone': None, 'geo_enabled': True, 'verified': False, 'statuses_count': 1290, 'lang': None, 'contributors_enabled': False, 'is_translator': False, 'is_translation_enabled': False, 'profile_background_color': '000000', 'profile_background_image_url': 'http://abs.twimg.com/images/themes/theme1/bg.png', 'profile_background_image_url_https': 'https://abs.twimg.com/images/themes/theme1/bg.png', 'profile_background_tile': False, 'profile_image_url': 'http://pbs.twimg.com/profile_images/1263891333619625988/FKUo20Mf_normal.jpg', 'profile_image_url_https': 'https://pbs.twimg.com/profile_images/1263891333619625988/FKUo20Mf_normal.jpg', 'profile_banner_url': 'https://pbs.twimg.com/profile_banners/741184172102979584/1503915747', 'profile_link_color': 'FF691F', 'profile_sidebar_border_color': '000000', 'profile_sidebar_fill_color': '000000', 'profile_text_color': '000000', 'profile_use_background_image': False, 'has_extended_profile': True, 'default_profile': False, 'default_profile_image': False, 'following': False, 'follow_request_sent': False, 'notifications': False, 'translator_type': 'none', 'withheld_in_countries': []}, id=741184172102979584, id_str='741184172102979584', name='Nandini', screen_name='NandiniJourno', location='New Delhi, India', description='Journalist/ Senior Copy Editor; \\nEx- Hindustan Times.\\nJournalism in Blood since 2015 ❤️\\nViews are personal. RTs not endorsement.', url='https://t.co/JgO12YDFmW', entities={'url': {'urls': [{'url': 'https://t.co/JgO12YDFmW', 'expanded_url': 'https://www.republicworld.com/author/nandini-verma', 'display_url': 'republicworld.com/author/nandini…', 'indices': [0, 23]}]}, 'description': {'urls': []}}, protected=False, followers_count=550, friends_count=432, listed_count=0, created_at=datetime.datetime(2016, 6, 10, 8, 24, 11), favourites_count=2729, utc_offset=None, time_zone=None, geo_enabled=True, verified=False, statuses_count=1290, lang=None, contributors_enabled=False, is_translator=False, is_translation_enabled=False, profile_background_color='000000', profile_background_image_url='http://abs.twimg.com/images/themes/theme1/bg.png', profile_background_image_url_https='https://abs.twimg.com/images/themes/theme1/bg.png', profile_background_tile=False, profile_image_url='http://pbs.twimg.com/profile_images/1263891333619625988/FKUo20Mf_normal.jpg', profile_image_url_https='https://pbs.twimg.com/profile_images/1263891333619625988/FKUo20Mf_normal.jpg', profile_banner_url='https://pbs.twimg.com/profile_banners/741184172102979584/1503915747', profile_link_color='FF691F', profile_sidebar_border_color='000000', profile_sidebar_fill_color='000000', profile_text_color='000000', profile_use_background_image=False, has_extended_profile=True, default_profile=False, default_profile_image=False, following=False, follow_request_sent=False, notifications=False, translator_type='none', withheld_in_countries=[]), geo=None, coordinates=None, place=Place(_api=<tweepy.api.API object at 0x000001F4EFD5EFA0>, id='2e6064382c71b343', url='https://api.twitter.com/1.1/geo/id/2e6064382c71b343.json', place_type='city', name='Noida', full_name='Noida, India', country_code='IN', country='India', contained_within=[], bounding_box=BoundingBox(_api=<tweepy.api.API object at 0x000001F4EFD5EFA0>, type='Polygon', coordinates=[[[77.302126, 28.443981], [77.695326, 28.443981], [77.695326, 28.647131], [77.302126, 28.647131]]]), attributes={}), contributors=None, is_quote_status=False, retweet_count=0, favorite_count=0, favorited=False, retweeted=False, possibly_sensitive=False, lang='en') \n",
      "\n",
      ".....................................\n",
      "\n",
      "Status(_api=<tweepy.api.API object at 0x000001F4EFD5EFA0>, _json={'created_at': 'Sun May 30 07:03:39 +0000 2021', 'id': 1398897878878228482, 'id_str': '1398897878878228482', 'full_text': '@PrashantKishor In case PM loses election, will the #PMCARESFund be usable by the new PM?\\n\\nThe trust is in the name of Modi, Shah and Rajnath as individuals and not PM, HM and DM of India. Hence cannot be audited.\\n\\nHow will the money be used by next government?\\n\\n#JustAsking', 'truncated': False, 'display_text_range': [16, 274], 'entities': {'hashtags': [{'text': 'PMCARESFund', 'indices': [52, 64]}, {'text': 'JustAsking', 'indices': [263, 274]}], 'symbols': [], 'user_mentions': [{'screen_name': 'PrashantKishor', 'name': 'Prashant Kishor', 'id': 964875685872525313, 'id_str': '964875685872525313', 'indices': [0, 15]}], 'urls': []}, 'metadata': {'iso_language_code': 'en', 'result_type': 'recent'}, 'source': '<a href=\"https://mobile.twitter.com\" rel=\"nofollow\">Twitter Web App</a>', 'in_reply_to_status_id': 1398867135129026561, 'in_reply_to_status_id_str': '1398867135129026561', 'in_reply_to_user_id': 964875685872525313, 'in_reply_to_user_id_str': '964875685872525313', 'in_reply_to_screen_name': 'PrashantKishor', 'user': {'id': 310982923, 'id_str': '310982923', 'name': 'WordTale', 'screen_name': 'WordTale', 'location': 'The pathless land.', 'description': 'A spade is a spade.', 'url': None, 'entities': {'description': {'urls': []}}, 'protected': False, 'followers_count': 118, 'friends_count': 88, 'listed_count': 3, 'created_at': 'Sat Jun 04 17:57:39 +0000 2011', 'favourites_count': 4850, 'utc_offset': None, 'time_zone': None, 'geo_enabled': False, 'verified': False, 'statuses_count': 8422, 'lang': None, 'contributors_enabled': False, 'is_translator': False, 'is_translation_enabled': False, 'profile_background_color': 'C6E2EE', 'profile_background_image_url': 'http://abs.twimg.com/images/themes/theme2/bg.gif', 'profile_background_image_url_https': 'https://abs.twimg.com/images/themes/theme2/bg.gif', 'profile_background_tile': False, 'profile_image_url': 'http://pbs.twimg.com/profile_images/1381734203/03112009008_normal.jpg', 'profile_image_url_https': 'https://pbs.twimg.com/profile_images/1381734203/03112009008_normal.jpg', 'profile_link_color': '1F98C7', 'profile_sidebar_border_color': 'C6E2EE', 'profile_sidebar_fill_color': 'DAECF4', 'profile_text_color': '663B12', 'profile_use_background_image': True, 'has_extended_profile': False, 'default_profile': False, 'default_profile_image': False, 'following': False, 'follow_request_sent': False, 'notifications': False, 'translator_type': 'none', 'withheld_in_countries': []}, 'geo': None, 'coordinates': None, 'place': None, 'contributors': None, 'is_quote_status': False, 'retweet_count': 0, 'favorite_count': 0, 'favorited': False, 'retweeted': False, 'lang': 'en'}, created_at=datetime.datetime(2021, 5, 30, 7, 3, 39), id=1398897878878228482, id_str='1398897878878228482', full_text='@PrashantKishor In case PM loses election, will the #PMCARESFund be usable by the new PM?\\n\\nThe trust is in the name of Modi, Shah and Rajnath as individuals and not PM, HM and DM of India. Hence cannot be audited.\\n\\nHow will the money be used by next government?\\n\\n#JustAsking', truncated=False, display_text_range=[16, 274], entities={'hashtags': [{'text': 'PMCARESFund', 'indices': [52, 64]}, {'text': 'JustAsking', 'indices': [263, 274]}], 'symbols': [], 'user_mentions': [{'screen_name': 'PrashantKishor', 'name': 'Prashant Kishor', 'id': 964875685872525313, 'id_str': '964875685872525313', 'indices': [0, 15]}], 'urls': []}, metadata={'iso_language_code': 'en', 'result_type': 'recent'}, source='Twitter Web App', source_url='https://mobile.twitter.com', in_reply_to_status_id=1398867135129026561, in_reply_to_status_id_str='1398867135129026561', in_reply_to_user_id=964875685872525313, in_reply_to_user_id_str='964875685872525313', in_reply_to_screen_name='PrashantKishor', author=User(_api=<tweepy.api.API object at 0x000001F4EFD5EFA0>, _json={'id': 310982923, 'id_str': '310982923', 'name': 'WordTale', 'screen_name': 'WordTale', 'location': 'The pathless land.', 'description': 'A spade is a spade.', 'url': None, 'entities': {'description': {'urls': []}}, 'protected': False, 'followers_count': 118, 'friends_count': 88, 'listed_count': 3, 'created_at': 'Sat Jun 04 17:57:39 +0000 2011', 'favourites_count': 4850, 'utc_offset': None, 'time_zone': None, 'geo_enabled': False, 'verified': False, 'statuses_count': 8422, 'lang': None, 'contributors_enabled': False, 'is_translator': False, 'is_translation_enabled': False, 'profile_background_color': 'C6E2EE', 'profile_background_image_url': 'http://abs.twimg.com/images/themes/theme2/bg.gif', 'profile_background_image_url_https': 'https://abs.twimg.com/images/themes/theme2/bg.gif', 'profile_background_tile': False, 'profile_image_url': 'http://pbs.twimg.com/profile_images/1381734203/03112009008_normal.jpg', 'profile_image_url_https': 'https://pbs.twimg.com/profile_images/1381734203/03112009008_normal.jpg', 'profile_link_color': '1F98C7', 'profile_sidebar_border_color': 'C6E2EE', 'profile_sidebar_fill_color': 'DAECF4', 'profile_text_color': '663B12', 'profile_use_background_image': True, 'has_extended_profile': False, 'default_profile': False, 'default_profile_image': False, 'following': False, 'follow_request_sent': False, 'notifications': False, 'translator_type': 'none', 'withheld_in_countries': []}, id=310982923, id_str='310982923', name='WordTale', screen_name='WordTale', location='The pathless land.', description='A spade is a spade.', url=None, entities={'description': {'urls': []}}, protected=False, followers_count=118, friends_count=88, listed_count=3, created_at=datetime.datetime(2011, 6, 4, 17, 57, 39), favourites_count=4850, utc_offset=None, time_zone=None, geo_enabled=False, verified=False, statuses_count=8422, lang=None, contributors_enabled=False, is_translator=False, is_translation_enabled=False, profile_background_color='C6E2EE', profile_background_image_url='http://abs.twimg.com/images/themes/theme2/bg.gif', profile_background_image_url_https='https://abs.twimg.com/images/themes/theme2/bg.gif', profile_background_tile=False, profile_image_url='http://pbs.twimg.com/profile_images/1381734203/03112009008_normal.jpg', profile_image_url_https='https://pbs.twimg.com/profile_images/1381734203/03112009008_normal.jpg', profile_link_color='1F98C7', profile_sidebar_border_color='C6E2EE', profile_sidebar_fill_color='DAECF4', profile_text_color='663B12', profile_use_background_image=True, has_extended_profile=False, default_profile=False, default_profile_image=False, following=False, follow_request_sent=False, notifications=False, translator_type='none', withheld_in_countries=[]), user=User(_api=<tweepy.api.API object at 0x000001F4EFD5EFA0>, _json={'id': 310982923, 'id_str': '310982923', 'name': 'WordTale', 'screen_name': 'WordTale', 'location': 'The pathless land.', 'description': 'A spade is a spade.', 'url': None, 'entities': {'description': {'urls': []}}, 'protected': False, 'followers_count': 118, 'friends_count': 88, 'listed_count': 3, 'created_at': 'Sat Jun 04 17:57:39 +0000 2011', 'favourites_count': 4850, 'utc_offset': None, 'time_zone': None, 'geo_enabled': False, 'verified': False, 'statuses_count': 8422, 'lang': None, 'contributors_enabled': False, 'is_translator': False, 'is_translation_enabled': False, 'profile_background_color': 'C6E2EE', 'profile_background_image_url': 'http://abs.twimg.com/images/themes/theme2/bg.gif', 'profile_background_image_url_https': 'https://abs.twimg.com/images/themes/theme2/bg.gif', 'profile_background_tile': False, 'profile_image_url': 'http://pbs.twimg.com/profile_images/1381734203/03112009008_normal.jpg', 'profile_image_url_https': 'https://pbs.twimg.com/profile_images/1381734203/03112009008_normal.jpg', 'profile_link_color': '1F98C7', 'profile_sidebar_border_color': 'C6E2EE', 'profile_sidebar_fill_color': 'DAECF4', 'profile_text_color': '663B12', 'profile_use_background_image': True, 'has_extended_profile': False, 'default_profile': False, 'default_profile_image': False, 'following': False, 'follow_request_sent': False, 'notifications': False, 'translator_type': 'none', 'withheld_in_countries': []}, id=310982923, id_str='310982923', name='WordTale', screen_name='WordTale', location='The pathless land.', description='A spade is a spade.', url=None, entities={'description': {'urls': []}}, protected=False, followers_count=118, friends_count=88, listed_count=3, created_at=datetime.datetime(2011, 6, 4, 17, 57, 39), favourites_count=4850, utc_offset=None, time_zone=None, geo_enabled=False, verified=False, statuses_count=8422, lang=None, contributors_enabled=False, is_translator=False, is_translation_enabled=False, profile_background_color='C6E2EE', profile_background_image_url='http://abs.twimg.com/images/themes/theme2/bg.gif', profile_background_image_url_https='https://abs.twimg.com/images/themes/theme2/bg.gif', profile_background_tile=False, profile_image_url='http://pbs.twimg.com/profile_images/1381734203/03112009008_normal.jpg', profile_image_url_https='https://pbs.twimg.com/profile_images/1381734203/03112009008_normal.jpg', profile_link_color='1F98C7', profile_sidebar_border_color='C6E2EE', profile_sidebar_fill_color='DAECF4', profile_text_color='663B12', profile_use_background_image=True, has_extended_profile=False, default_profile=False, default_profile_image=False, following=False, follow_request_sent=False, notifications=False, translator_type='none', withheld_in_countries=[]), geo=None, coordinates=None, place=None, contributors=None, is_quote_status=False, retweet_count=0, favorite_count=0, favorited=False, retweeted=False, lang='en') \n",
      "\n",
      ".....................................\n",
      "\n",
      "Status(_api=<tweepy.api.API object at 0x000001F4EFD5EFA0>, _json={'created_at': 'Sun May 30 07:00:40 +0000 2021', 'id': 1398897131029778440, 'id_str': '1398897131029778440', 'full_text': 'Forget Limbu Pani am ready 2 offer beer if given slot 4 2nd dose.. I think they r working on a link where u send money directly to #PMCaresFund and you get vaccine, someone had to burn 2.5 L for getting one hospital bed @DeepalTrevedie &gt;&gt;&gt; https://t.co/SzPSD9Ta80', 'truncated': False, 'display_text_range': [0, 248], 'entities': {'hashtags': [{'text': 'PMCaresFund', 'indices': [131, 143]}], 'symbols': [], 'user_mentions': [{'screen_name': 'DeepalTrevedie', 'name': 'Deepal.\\u200f\\u200e\\u200eTrivedi', 'id': 17801716, 'id_str': '17801716', 'indices': [220, 235]}], 'urls': [{'url': 'https://t.co/SzPSD9Ta80', 'expanded_url': 'https://twitter.com/deepaltrevedie/status/1398896139009630208', 'display_url': 'twitter.com/deepaltrevedie…', 'indices': [249, 272]}]}, 'metadata': {'iso_language_code': 'en', 'result_type': 'recent'}, 'source': '<a href=\"http://twitter.com/download/iphone\" rel=\"nofollow\">Twitter for iPhone</a>', 'in_reply_to_status_id': None, 'in_reply_to_status_id_str': None, 'in_reply_to_user_id': None, 'in_reply_to_user_id_str': None, 'in_reply_to_screen_name': None, 'user': {'id': 77677426, 'id_str': '77677426', 'name': 'Nihar Ranjan', 'screen_name': 'nrcvp2', 'location': 'India', 'description': 'Am not going to Fail, a valuable Lesson has been Learned even in Defeat and its Growing for me. I am going to do that till the moment am having Fun with it.!!', 'url': 'https://t.co/2R5LCqzxAN', 'entities': {'url': {'urls': [{'url': 'https://t.co/2R5LCqzxAN', 'expanded_url': 'https://www.aboutnihar.com', 'display_url': 'aboutnihar.com', 'indices': [0, 23]}]}, 'description': {'urls': []}}, 'protected': False, 'followers_count': 1219, 'friends_count': 379, 'listed_count': 31, 'created_at': 'Sun Sep 27 06:26:10 +0000 2009', 'favourites_count': 477, 'utc_offset': None, 'time_zone': None, 'geo_enabled': True, 'verified': False, 'statuses_count': 32413, 'lang': None, 'contributors_enabled': False, 'is_translator': False, 'is_translation_enabled': False, 'profile_background_color': '708A96', 'profile_background_image_url': 'http://abs.twimg.com/images/themes/theme8/bg.gif', 'profile_background_image_url_https': 'https://abs.twimg.com/images/themes/theme8/bg.gif', 'profile_background_tile': True, 'profile_image_url': 'http://pbs.twimg.com/profile_images/1397408781651251201/nuRg7zeg_normal.jpg', 'profile_image_url_https': 'https://pbs.twimg.com/profile_images/1397408781651251201/nuRg7zeg_normal.jpg', 'profile_banner_url': 'https://pbs.twimg.com/profile_banners/77677426/1621610880', 'profile_link_color': '1B95E0', 'profile_sidebar_border_color': '000000', 'profile_sidebar_fill_color': 'EADEAA', 'profile_text_color': '333333', 'profile_use_background_image': True, 'has_extended_profile': True, 'default_profile': False, 'default_profile_image': False, 'following': False, 'follow_request_sent': False, 'notifications': False, 'translator_type': 'regular', 'withheld_in_countries': []}, 'geo': None, 'coordinates': None, 'place': None, 'contributors': None, 'is_quote_status': True, 'quoted_status_id': 1398896139009630208, 'quoted_status_id_str': '1398896139009630208', 'quoted_status': {'created_at': 'Sun May 30 06:56:44 +0000 2021', 'id': 1398896139009630208, 'id_str': '1398896139009630208', 'full_text': 'Combo Offer:\\nOne Vaccine, One #Limbupaani &amp; 11 #BJP leaders!\\n A #BJP poster in a Government run #coronavirus\\nvaccine facility in #Ahmedabad featuring\\n11 ppl including PM @narendramodi HM @AmitShah + #Gujarat Leaders offering a glass of lemon water after the vaccine. #Bhakti https://t.co/W8KLBoxonZ', 'truncated': False, 'display_text_range': [0, 278], 'entities': {'hashtags': [{'text': 'Limbupaani', 'indices': [30, 41]}, {'text': 'BJP', 'indices': [51, 55]}, {'text': 'BJP', 'indices': [68, 72]}, {'text': 'coronavirus', 'indices': [100, 112]}, {'text': 'Ahmedabad', 'indices': [133, 143]}, {'text': 'Gujarat', 'indices': [203, 211]}, {'text': 'Bhakti', 'indices': [271, 278]}], 'symbols': [], 'user_mentions': [{'screen_name': 'narendramodi', 'name': 'Narendra Modi', 'id': 18839785, 'id_str': '18839785', 'indices': [174, 187]}, {'screen_name': 'AmitShah', 'name': 'Amit Shah', 'id': 1447949844, 'id_str': '1447949844', 'indices': [191, 200]}], 'urls': [], 'media': [{'id': 1398896136551759873, 'id_str': '1398896136551759873', 'indices': [279, 302], 'media_url': 'http://pbs.twimg.com/media/E2ngn-DVgAEpXb-.jpg', 'media_url_https': 'https://pbs.twimg.com/media/E2ngn-DVgAEpXb-.jpg', 'url': 'https://t.co/W8KLBoxonZ', 'display_url': 'pic.twitter.com/W8KLBoxonZ', 'expanded_url': 'https://twitter.com/DeepalTrevedie/status/1398896139009630208/photo/1', 'type': 'photo', 'sizes': {'medium': {'w': 1200, 'h': 900, 'resize': 'fit'}, 'thumb': {'w': 150, 'h': 150, 'resize': 'crop'}, 'large': {'w': 1280, 'h': 960, 'resize': 'fit'}, 'small': {'w': 680, 'h': 510, 'resize': 'fit'}}}]}, 'extended_entities': {'media': [{'id': 1398896136551759873, 'id_str': '1398896136551759873', 'indices': [279, 302], 'media_url': 'http://pbs.twimg.com/media/E2ngn-DVgAEpXb-.jpg', 'media_url_https': 'https://pbs.twimg.com/media/E2ngn-DVgAEpXb-.jpg', 'url': 'https://t.co/W8KLBoxonZ', 'display_url': 'pic.twitter.com/W8KLBoxonZ', 'expanded_url': 'https://twitter.com/DeepalTrevedie/status/1398896139009630208/photo/1', 'type': 'photo', 'sizes': {'medium': {'w': 1200, 'h': 900, 'resize': 'fit'}, 'thumb': {'w': 150, 'h': 150, 'resize': 'crop'}, 'large': {'w': 1280, 'h': 960, 'resize': 'fit'}, 'small': {'w': 680, 'h': 510, 'resize': 'fit'}}}]}, 'metadata': {'iso_language_code': 'en', 'result_type': 'recent'}, 'source': '<a href=\"http://twitter.com/download/android\" rel=\"nofollow\">Twitter for Android</a>', 'in_reply_to_status_id': None, 'in_reply_to_status_id_str': None, 'in_reply_to_user_id': None, 'in_reply_to_user_id_str': None, 'in_reply_to_screen_name': None, 'user': {'id': 17801716, 'id_str': '17801716', 'name': 'Deepal.\\u200f\\u200e\\u200eTrivedi', 'screen_name': 'DeepalTrevedie', 'location': 'New Delhi & Ahmedabad,India', 'description': 'Alum @cheveningFCDO\\n@EastWestCenter\\n#Jefferson(USA) #AJF (Singapore) \\n@UniWestminster @Temasek\\nEmail me at deepal.trivedi@outlook.com for collaborations.', 'url': None, 'entities': {'description': {'urls': []}}, 'protected': False, 'followers_count': 34466, 'friends_count': 6503, 'listed_count': 168, 'created_at': 'Tue Dec 02 06:26:23 +0000 2008', 'favourites_count': 9826, 'utc_offset': None, 'time_zone': None, 'geo_enabled': True, 'verified': True, 'statuses_count': 38986, 'lang': None, 'contributors_enabled': False, 'is_translator': False, 'is_translation_enabled': False, 'profile_background_color': '000000', 'profile_background_image_url': 'http://abs.twimg.com/images/themes/theme1/bg.png', 'profile_background_image_url_https': 'https://abs.twimg.com/images/themes/theme1/bg.png', 'profile_background_tile': False, 'profile_image_url': 'http://pbs.twimg.com/profile_images/1396778203679657988/I-4_04X0_normal.jpg', 'profile_image_url_https': 'https://pbs.twimg.com/profile_images/1396778203679657988/I-4_04X0_normal.jpg', 'profile_banner_url': 'https://pbs.twimg.com/profile_banners/17801716/1616954863', 'profile_link_color': '1B95E0', 'profile_sidebar_border_color': '000000', 'profile_sidebar_fill_color': '000000', 'profile_text_color': '000000', 'profile_use_background_image': False, 'has_extended_profile': True, 'default_profile': False, 'default_profile_image': False, 'following': False, 'follow_request_sent': False, 'notifications': False, 'translator_type': 'none', 'withheld_in_countries': []}, 'geo': None, 'coordinates': None, 'place': None, 'contributors': None, 'is_quote_status': False, 'retweet_count': 4, 'favorite_count': 16, 'favorited': False, 'retweeted': False, 'possibly_sensitive': False, 'lang': 'en'}, 'retweet_count': 0, 'favorite_count': 0, 'favorited': False, 'retweeted': False, 'possibly_sensitive': False, 'lang': 'en'}, created_at=datetime.datetime(2021, 5, 30, 7, 0, 40), id=1398897131029778440, id_str='1398897131029778440', full_text='Forget Limbu Pani am ready 2 offer beer if given slot 4 2nd dose.. I think they r working on a link where u send money directly to #PMCaresFund and you get vaccine, someone had to burn 2.5 L for getting one hospital bed @DeepalTrevedie &gt;&gt;&gt; https://t.co/SzPSD9Ta80', truncated=False, display_text_range=[0, 248], entities={'hashtags': [{'text': 'PMCaresFund', 'indices': [131, 143]}], 'symbols': [], 'user_mentions': [{'screen_name': 'DeepalTrevedie', 'name': 'Deepal.\\u200f\\u200e\\u200eTrivedi', 'id': 17801716, 'id_str': '17801716', 'indices': [220, 235]}], 'urls': [{'url': 'https://t.co/SzPSD9Ta80', 'expanded_url': 'https://twitter.com/deepaltrevedie/status/1398896139009630208', 'display_url': 'twitter.com/deepaltrevedie…', 'indices': [249, 272]}]}, metadata={'iso_language_code': 'en', 'result_type': 'recent'}, source='Twitter for iPhone', source_url='http://twitter.com/download/iphone', in_reply_to_status_id=None, in_reply_to_status_id_str=None, in_reply_to_user_id=None, in_reply_to_user_id_str=None, in_reply_to_screen_name=None, author=User(_api=<tweepy.api.API object at 0x000001F4EFD5EFA0>, _json={'id': 77677426, 'id_str': '77677426', 'name': 'Nihar Ranjan', 'screen_name': 'nrcvp2', 'location': 'India', 'description': 'Am not going to Fail, a valuable Lesson has been Learned even in Defeat and its Growing for me. I am going to do that till the moment am having Fun with it.!!', 'url': 'https://t.co/2R5LCqzxAN', 'entities': {'url': {'urls': [{'url': 'https://t.co/2R5LCqzxAN', 'expanded_url': 'https://www.aboutnihar.com', 'display_url': 'aboutnihar.com', 'indices': [0, 23]}]}, 'description': {'urls': []}}, 'protected': False, 'followers_count': 1219, 'friends_count': 379, 'listed_count': 31, 'created_at': 'Sun Sep 27 06:26:10 +0000 2009', 'favourites_count': 477, 'utc_offset': None, 'time_zone': None, 'geo_enabled': True, 'verified': False, 'statuses_count': 32413, 'lang': None, 'contributors_enabled': False, 'is_translator': False, 'is_translation_enabled': False, 'profile_background_color': '708A96', 'profile_background_image_url': 'http://abs.twimg.com/images/themes/theme8/bg.gif', 'profile_background_image_url_https': 'https://abs.twimg.com/images/themes/theme8/bg.gif', 'profile_background_tile': True, 'profile_image_url': 'http://pbs.twimg.com/profile_images/1397408781651251201/nuRg7zeg_normal.jpg', 'profile_image_url_https': 'https://pbs.twimg.com/profile_images/1397408781651251201/nuRg7zeg_normal.jpg', 'profile_banner_url': 'https://pbs.twimg.com/profile_banners/77677426/1621610880', 'profile_link_color': '1B95E0', 'profile_sidebar_border_color': '000000', 'profile_sidebar_fill_color': 'EADEAA', 'profile_text_color': '333333', 'profile_use_background_image': True, 'has_extended_profile': True, 'default_profile': False, 'default_profile_image': False, 'following': False, 'follow_request_sent': False, 'notifications': False, 'translator_type': 'regular', 'withheld_in_countries': []}, id=77677426, id_str='77677426', name='Nihar Ranjan', screen_name='nrcvp2', location='India', description='Am not going to Fail, a valuable Lesson has been Learned even in Defeat and its Growing for me. I am going to do that till the moment am having Fun with it.!!', url='https://t.co/2R5LCqzxAN', entities={'url': {'urls': [{'url': 'https://t.co/2R5LCqzxAN', 'expanded_url': 'https://www.aboutnihar.com', 'display_url': 'aboutnihar.com', 'indices': [0, 23]}]}, 'description': {'urls': []}}, protected=False, followers_count=1219, friends_count=379, listed_count=31, created_at=datetime.datetime(2009, 9, 27, 6, 26, 10), favourites_count=477, utc_offset=None, time_zone=None, geo_enabled=True, verified=False, statuses_count=32413, lang=None, contributors_enabled=False, is_translator=False, is_translation_enabled=False, profile_background_color='708A96', profile_background_image_url='http://abs.twimg.com/images/themes/theme8/bg.gif', profile_background_image_url_https='https://abs.twimg.com/images/themes/theme8/bg.gif', profile_background_tile=True, profile_image_url='http://pbs.twimg.com/profile_images/1397408781651251201/nuRg7zeg_normal.jpg', profile_image_url_https='https://pbs.twimg.com/profile_images/1397408781651251201/nuRg7zeg_normal.jpg', profile_banner_url='https://pbs.twimg.com/profile_banners/77677426/1621610880', profile_link_color='1B95E0', profile_sidebar_border_color='000000', profile_sidebar_fill_color='EADEAA', profile_text_color='333333', profile_use_background_image=True, has_extended_profile=True, default_profile=False, default_profile_image=False, following=False, follow_request_sent=False, notifications=False, translator_type='regular', withheld_in_countries=[]), user=User(_api=<tweepy.api.API object at 0x000001F4EFD5EFA0>, _json={'id': 77677426, 'id_str': '77677426', 'name': 'Nihar Ranjan', 'screen_name': 'nrcvp2', 'location': 'India', 'description': 'Am not going to Fail, a valuable Lesson has been Learned even in Defeat and its Growing for me. I am going to do that till the moment am having Fun with it.!!', 'url': 'https://t.co/2R5LCqzxAN', 'entities': {'url': {'urls': [{'url': 'https://t.co/2R5LCqzxAN', 'expanded_url': 'https://www.aboutnihar.com', 'display_url': 'aboutnihar.com', 'indices': [0, 23]}]}, 'description': {'urls': []}}, 'protected': False, 'followers_count': 1219, 'friends_count': 379, 'listed_count': 31, 'created_at': 'Sun Sep 27 06:26:10 +0000 2009', 'favourites_count': 477, 'utc_offset': None, 'time_zone': None, 'geo_enabled': True, 'verified': False, 'statuses_count': 32413, 'lang': None, 'contributors_enabled': False, 'is_translator': False, 'is_translation_enabled': False, 'profile_background_color': '708A96', 'profile_background_image_url': 'http://abs.twimg.com/images/themes/theme8/bg.gif', 'profile_background_image_url_https': 'https://abs.twimg.com/images/themes/theme8/bg.gif', 'profile_background_tile': True, 'profile_image_url': 'http://pbs.twimg.com/profile_images/1397408781651251201/nuRg7zeg_normal.jpg', 'profile_image_url_https': 'https://pbs.twimg.com/profile_images/1397408781651251201/nuRg7zeg_normal.jpg', 'profile_banner_url': 'https://pbs.twimg.com/profile_banners/77677426/1621610880', 'profile_link_color': '1B95E0', 'profile_sidebar_border_color': '000000', 'profile_sidebar_fill_color': 'EADEAA', 'profile_text_color': '333333', 'profile_use_background_image': True, 'has_extended_profile': True, 'default_profile': False, 'default_profile_image': False, 'following': False, 'follow_request_sent': False, 'notifications': False, 'translator_type': 'regular', 'withheld_in_countries': []}, id=77677426, id_str='77677426', name='Nihar Ranjan', screen_name='nrcvp2', location='India', description='Am not going to Fail, a valuable Lesson has been Learned even in Defeat and its Growing for me. I am going to do that till the moment am having Fun with it.!!', url='https://t.co/2R5LCqzxAN', entities={'url': {'urls': [{'url': 'https://t.co/2R5LCqzxAN', 'expanded_url': 'https://www.aboutnihar.com', 'display_url': 'aboutnihar.com', 'indices': [0, 23]}]}, 'description': {'urls': []}}, protected=False, followers_count=1219, friends_count=379, listed_count=31, created_at=datetime.datetime(2009, 9, 27, 6, 26, 10), favourites_count=477, utc_offset=None, time_zone=None, geo_enabled=True, verified=False, statuses_count=32413, lang=None, contributors_enabled=False, is_translator=False, is_translation_enabled=False, profile_background_color='708A96', profile_background_image_url='http://abs.twimg.com/images/themes/theme8/bg.gif', profile_background_image_url_https='https://abs.twimg.com/images/themes/theme8/bg.gif', profile_background_tile=True, profile_image_url='http://pbs.twimg.com/profile_images/1397408781651251201/nuRg7zeg_normal.jpg', profile_image_url_https='https://pbs.twimg.com/profile_images/1397408781651251201/nuRg7zeg_normal.jpg', profile_banner_url='https://pbs.twimg.com/profile_banners/77677426/1621610880', profile_link_color='1B95E0', profile_sidebar_border_color='000000', profile_sidebar_fill_color='EADEAA', profile_text_color='333333', profile_use_background_image=True, has_extended_profile=True, default_profile=False, default_profile_image=False, following=False, follow_request_sent=False, notifications=False, translator_type='regular', withheld_in_countries=[]), geo=None, coordinates=None, place=None, contributors=None, is_quote_status=True, quoted_status_id=1398896139009630208, quoted_status_id_str='1398896139009630208', quoted_status=Status(_api=<tweepy.api.API object at 0x000001F4EFD5EFA0>, _json={'created_at': 'Sun May 30 06:56:44 +0000 2021', 'id': 1398896139009630208, 'id_str': '1398896139009630208', 'full_text': 'Combo Offer:\\nOne Vaccine, One #Limbupaani &amp; 11 #BJP leaders!\\n A #BJP poster in a Government run #coronavirus\\nvaccine facility in #Ahmedabad featuring\\n11 ppl including PM @narendramodi HM @AmitShah + #Gujarat Leaders offering a glass of lemon water after the vaccine. #Bhakti https://t.co/W8KLBoxonZ', 'truncated': False, 'display_text_range': [0, 278], 'entities': {'hashtags': [{'text': 'Limbupaani', 'indices': [30, 41]}, {'text': 'BJP', 'indices': [51, 55]}, {'text': 'BJP', 'indices': [68, 72]}, {'text': 'coronavirus', 'indices': [100, 112]}, {'text': 'Ahmedabad', 'indices': [133, 143]}, {'text': 'Gujarat', 'indices': [203, 211]}, {'text': 'Bhakti', 'indices': [271, 278]}], 'symbols': [], 'user_mentions': [{'screen_name': 'narendramodi', 'name': 'Narendra Modi', 'id': 18839785, 'id_str': '18839785', 'indices': [174, 187]}, {'screen_name': 'AmitShah', 'name': 'Amit Shah', 'id': 1447949844, 'id_str': '1447949844', 'indices': [191, 200]}], 'urls': [], 'media': [{'id': 1398896136551759873, 'id_str': '1398896136551759873', 'indices': [279, 302], 'media_url': 'http://pbs.twimg.com/media/E2ngn-DVgAEpXb-.jpg', 'media_url_https': 'https://pbs.twimg.com/media/E2ngn-DVgAEpXb-.jpg', 'url': 'https://t.co/W8KLBoxonZ', 'display_url': 'pic.twitter.com/W8KLBoxonZ', 'expanded_url': 'https://twitter.com/DeepalTrevedie/status/1398896139009630208/photo/1', 'type': 'photo', 'sizes': {'medium': {'w': 1200, 'h': 900, 'resize': 'fit'}, 'thumb': {'w': 150, 'h': 150, 'resize': 'crop'}, 'large': {'w': 1280, 'h': 960, 'resize': 'fit'}, 'small': {'w': 680, 'h': 510, 'resize': 'fit'}}}]}, 'extended_entities': {'media': [{'id': 1398896136551759873, 'id_str': '1398896136551759873', 'indices': [279, 302], 'media_url': 'http://pbs.twimg.com/media/E2ngn-DVgAEpXb-.jpg', 'media_url_https': 'https://pbs.twimg.com/media/E2ngn-DVgAEpXb-.jpg', 'url': 'https://t.co/W8KLBoxonZ', 'display_url': 'pic.twitter.com/W8KLBoxonZ', 'expanded_url': 'https://twitter.com/DeepalTrevedie/status/1398896139009630208/photo/1', 'type': 'photo', 'sizes': {'medium': {'w': 1200, 'h': 900, 'resize': 'fit'}, 'thumb': {'w': 150, 'h': 150, 'resize': 'crop'}, 'large': {'w': 1280, 'h': 960, 'resize': 'fit'}, 'small': {'w': 680, 'h': 510, 'resize': 'fit'}}}]}, 'metadata': {'iso_language_code': 'en', 'result_type': 'recent'}, 'source': '<a href=\"http://twitter.com/download/android\" rel=\"nofollow\">Twitter for Android</a>', 'in_reply_to_status_id': None, 'in_reply_to_status_id_str': None, 'in_reply_to_user_id': None, 'in_reply_to_user_id_str': None, 'in_reply_to_screen_name': None, 'user': {'id': 17801716, 'id_str': '17801716', 'name': 'Deepal.\\u200f\\u200e\\u200eTrivedi', 'screen_name': 'DeepalTrevedie', 'location': 'New Delhi & Ahmedabad,India', 'description': 'Alum @cheveningFCDO\\n@EastWestCenter\\n#Jefferson(USA) #AJF (Singapore) \\n@UniWestminster @Temasek\\nEmail me at deepal.trivedi@outlook.com for collaborations.', 'url': None, 'entities': {'description': {'urls': []}}, 'protected': False, 'followers_count': 34466, 'friends_count': 6503, 'listed_count': 168, 'created_at': 'Tue Dec 02 06:26:23 +0000 2008', 'favourites_count': 9826, 'utc_offset': None, 'time_zone': None, 'geo_enabled': True, 'verified': True, 'statuses_count': 38986, 'lang': None, 'contributors_enabled': False, 'is_translator': False, 'is_translation_enabled': False, 'profile_background_color': '000000', 'profile_background_image_url': 'http://abs.twimg.com/images/themes/theme1/bg.png', 'profile_background_image_url_https': 'https://abs.twimg.com/images/themes/theme1/bg.png', 'profile_background_tile': False, 'profile_image_url': 'http://pbs.twimg.com/profile_images/1396778203679657988/I-4_04X0_normal.jpg', 'profile_image_url_https': 'https://pbs.twimg.com/profile_images/1396778203679657988/I-4_04X0_normal.jpg', 'profile_banner_url': 'https://pbs.twimg.com/profile_banners/17801716/1616954863', 'profile_link_color': '1B95E0', 'profile_sidebar_border_color': '000000', 'profile_sidebar_fill_color': '000000', 'profile_text_color': '000000', 'profile_use_background_image': False, 'has_extended_profile': True, 'default_profile': False, 'default_profile_image': False, 'following': False, 'follow_request_sent': False, 'notifications': False, 'translator_type': 'none', 'withheld_in_countries': []}, 'geo': None, 'coordinates': None, 'place': None, 'contributors': None, 'is_quote_status': False, 'retweet_count': 4, 'favorite_count': 16, 'favorited': False, 'retweeted': False, 'possibly_sensitive': False, 'lang': 'en'}, created_at=datetime.datetime(2021, 5, 30, 6, 56, 44), id=1398896139009630208, id_str='1398896139009630208', full_text='Combo Offer:\\nOne Vaccine, One #Limbupaani &amp; 11 #BJP leaders!\\n A #BJP poster in a Government run #coronavirus\\nvaccine facility in #Ahmedabad featuring\\n11 ppl including PM @narendramodi HM @AmitShah + #Gujarat Leaders offering a glass of lemon water after the vaccine. #Bhakti https://t.co/W8KLBoxonZ', truncated=False, display_text_range=[0, 278], entities={'hashtags': [{'text': 'Limbupaani', 'indices': [30, 41]}, {'text': 'BJP', 'indices': [51, 55]}, {'text': 'BJP', 'indices': [68, 72]}, {'text': 'coronavirus', 'indices': [100, 112]}, {'text': 'Ahmedabad', 'indices': [133, 143]}, {'text': 'Gujarat', 'indices': [203, 211]}, {'text': 'Bhakti', 'indices': [271, 278]}], 'symbols': [], 'user_mentions': [{'screen_name': 'narendramodi', 'name': 'Narendra Modi', 'id': 18839785, 'id_str': '18839785', 'indices': [174, 187]}, {'screen_name': 'AmitShah', 'name': 'Amit Shah', 'id': 1447949844, 'id_str': '1447949844', 'indices': [191, 200]}], 'urls': [], 'media': [{'id': 1398896136551759873, 'id_str': '1398896136551759873', 'indices': [279, 302], 'media_url': 'http://pbs.twimg.com/media/E2ngn-DVgAEpXb-.jpg', 'media_url_https': 'https://pbs.twimg.com/media/E2ngn-DVgAEpXb-.jpg', 'url': 'https://t.co/W8KLBoxonZ', 'display_url': 'pic.twitter.com/W8KLBoxonZ', 'expanded_url': 'https://twitter.com/DeepalTrevedie/status/1398896139009630208/photo/1', 'type': 'photo', 'sizes': {'medium': {'w': 1200, 'h': 900, 'resize': 'fit'}, 'thumb': {'w': 150, 'h': 150, 'resize': 'crop'}, 'large': {'w': 1280, 'h': 960, 'resize': 'fit'}, 'small': {'w': 680, 'h': 510, 'resize': 'fit'}}}]}, extended_entities={'media': [{'id': 1398896136551759873, 'id_str': '1398896136551759873', 'indices': [279, 302], 'media_url': 'http://pbs.twimg.com/media/E2ngn-DVgAEpXb-.jpg', 'media_url_https': 'https://pbs.twimg.com/media/E2ngn-DVgAEpXb-.jpg', 'url': 'https://t.co/W8KLBoxonZ', 'display_url': 'pic.twitter.com/W8KLBoxonZ', 'expanded_url': 'https://twitter.com/DeepalTrevedie/status/1398896139009630208/photo/1', 'type': 'photo', 'sizes': {'medium': {'w': 1200, 'h': 900, 'resize': 'fit'}, 'thumb': {'w': 150, 'h': 150, 'resize': 'crop'}, 'large': {'w': 1280, 'h': 960, 'resize': 'fit'}, 'small': {'w': 680, 'h': 510, 'resize': 'fit'}}}]}, metadata={'iso_language_code': 'en', 'result_type': 'recent'}, source='Twitter for Android', source_url='http://twitter.com/download/android', in_reply_to_status_id=None, in_reply_to_status_id_str=None, in_reply_to_user_id=None, in_reply_to_user_id_str=None, in_reply_to_screen_name=None, author=User(_api=<tweepy.api.API object at 0x000001F4EFD5EFA0>, _json={'id': 17801716, 'id_str': '17801716', 'name': 'Deepal.\\u200f\\u200e\\u200eTrivedi', 'screen_name': 'DeepalTrevedie', 'location': 'New Delhi & Ahmedabad,India', 'description': 'Alum @cheveningFCDO\\n@EastWestCenter\\n#Jefferson(USA) #AJF (Singapore) \\n@UniWestminster @Temasek\\nEmail me at deepal.trivedi@outlook.com for collaborations.', 'url': None, 'entities': {'description': {'urls': []}}, 'protected': False, 'followers_count': 34466, 'friends_count': 6503, 'listed_count': 168, 'created_at': 'Tue Dec 02 06:26:23 +0000 2008', 'favourites_count': 9826, 'utc_offset': None, 'time_zone': None, 'geo_enabled': True, 'verified': True, 'statuses_count': 38986, 'lang': None, 'contributors_enabled': False, 'is_translator': False, 'is_translation_enabled': False, 'profile_background_color': '000000', 'profile_background_image_url': 'http://abs.twimg.com/images/themes/theme1/bg.png', 'profile_background_image_url_https': 'https://abs.twimg.com/images/themes/theme1/bg.png', 'profile_background_tile': False, 'profile_image_url': 'http://pbs.twimg.com/profile_images/1396778203679657988/I-4_04X0_normal.jpg', 'profile_image_url_https': 'https://pbs.twimg.com/profile_images/1396778203679657988/I-4_04X0_normal.jpg', 'profile_banner_url': 'https://pbs.twimg.com/profile_banners/17801716/1616954863', 'profile_link_color': '1B95E0', 'profile_sidebar_border_color': '000000', 'profile_sidebar_fill_color': '000000', 'profile_text_color': '000000', 'profile_use_background_image': False, 'has_extended_profile': True, 'default_profile': False, 'default_profile_image': False, 'following': False, 'follow_request_sent': False, 'notifications': False, 'translator_type': 'none', 'withheld_in_countries': []}, id=17801716, id_str='17801716', name='Deepal.\\u200f\\u200e\\u200eTrivedi', screen_name='DeepalTrevedie', location='New Delhi & Ahmedabad,India', description='Alum @cheveningFCDO\\n@EastWestCenter\\n#Jefferson(USA) #AJF (Singapore) \\n@UniWestminster @Temasek\\nEmail me at deepal.trivedi@outlook.com for collaborations.', url=None, entities={'description': {'urls': []}}, protected=False, followers_count=34466, friends_count=6503, listed_count=168, created_at=datetime.datetime(2008, 12, 2, 6, 26, 23), favourites_count=9826, utc_offset=None, time_zone=None, geo_enabled=True, verified=True, statuses_count=38986, lang=None, contributors_enabled=False, is_translator=False, is_translation_enabled=False, profile_background_color='000000', profile_background_image_url='http://abs.twimg.com/images/themes/theme1/bg.png', profile_background_image_url_https='https://abs.twimg.com/images/themes/theme1/bg.png', profile_background_tile=False, profile_image_url='http://pbs.twimg.com/profile_images/1396778203679657988/I-4_04X0_normal.jpg', profile_image_url_https='https://pbs.twimg.com/profile_images/1396778203679657988/I-4_04X0_normal.jpg', profile_banner_url='https://pbs.twimg.com/profile_banners/17801716/1616954863', profile_link_color='1B95E0', profile_sidebar_border_color='000000', profile_sidebar_fill_color='000000', profile_text_color='000000', profile_use_background_image=False, has_extended_profile=True, default_profile=False, default_profile_image=False, following=False, follow_request_sent=False, notifications=False, translator_type='none', withheld_in_countries=[]), user=User(_api=<tweepy.api.API object at 0x000001F4EFD5EFA0>, _json={'id': 17801716, 'id_str': '17801716', 'name': 'Deepal.\\u200f\\u200e\\u200eTrivedi', 'screen_name': 'DeepalTrevedie', 'location': 'New Delhi & Ahmedabad,India', 'description': 'Alum @cheveningFCDO\\n@EastWestCenter\\n#Jefferson(USA) #AJF (Singapore) \\n@UniWestminster @Temasek\\nEmail me at deepal.trivedi@outlook.com for collaborations.', 'url': None, 'entities': {'description': {'urls': []}}, 'protected': False, 'followers_count': 34466, 'friends_count': 6503, 'listed_count': 168, 'created_at': 'Tue Dec 02 06:26:23 +0000 2008', 'favourites_count': 9826, 'utc_offset': None, 'time_zone': None, 'geo_enabled': True, 'verified': True, 'statuses_count': 38986, 'lang': None, 'contributors_enabled': False, 'is_translator': False, 'is_translation_enabled': False, 'profile_background_color': '000000', 'profile_background_image_url': 'http://abs.twimg.com/images/themes/theme1/bg.png', 'profile_background_image_url_https': 'https://abs.twimg.com/images/themes/theme1/bg.png', 'profile_background_tile': False, 'profile_image_url': 'http://pbs.twimg.com/profile_images/1396778203679657988/I-4_04X0_normal.jpg', 'profile_image_url_https': 'https://pbs.twimg.com/profile_images/1396778203679657988/I-4_04X0_normal.jpg', 'profile_banner_url': 'https://pbs.twimg.com/profile_banners/17801716/1616954863', 'profile_link_color': '1B95E0', 'profile_sidebar_border_color': '000000', 'profile_sidebar_fill_color': '000000', 'profile_text_color': '000000', 'profile_use_background_image': False, 'has_extended_profile': True, 'default_profile': False, 'default_profile_image': False, 'following': False, 'follow_request_sent': False, 'notifications': False, 'translator_type': 'none', 'withheld_in_countries': []}, id=17801716, id_str='17801716', name='Deepal.\\u200f\\u200e\\u200eTrivedi', screen_name='DeepalTrevedie', location='New Delhi & Ahmedabad,India', description='Alum @cheveningFCDO\\n@EastWestCenter\\n#Jefferson(USA) #AJF (Singapore) \\n@UniWestminster @Temasek\\nEmail me at deepal.trivedi@outlook.com for collaborations.', url=None, entities={'description': {'urls': []}}, protected=False, followers_count=34466, friends_count=6503, listed_count=168, created_at=datetime.datetime(2008, 12, 2, 6, 26, 23), favourites_count=9826, utc_offset=None, time_zone=None, geo_enabled=True, verified=True, statuses_count=38986, lang=None, contributors_enabled=False, is_translator=False, is_translation_enabled=False, profile_background_color='000000', profile_background_image_url='http://abs.twimg.com/images/themes/theme1/bg.png', profile_background_image_url_https='https://abs.twimg.com/images/themes/theme1/bg.png', profile_background_tile=False, profile_image_url='http://pbs.twimg.com/profile_images/1396778203679657988/I-4_04X0_normal.jpg', profile_image_url_https='https://pbs.twimg.com/profile_images/1396778203679657988/I-4_04X0_normal.jpg', profile_banner_url='https://pbs.twimg.com/profile_banners/17801716/1616954863', profile_link_color='1B95E0', profile_sidebar_border_color='000000', profile_sidebar_fill_color='000000', profile_text_color='000000', profile_use_background_image=False, has_extended_profile=True, default_profile=False, default_profile_image=False, following=False, follow_request_sent=False, notifications=False, translator_type='none', withheld_in_countries=[]), geo=None, coordinates=None, place=None, contributors=None, is_quote_status=False, retweet_count=4, favorite_count=16, favorited=False, retweeted=False, possibly_sensitive=False, lang='en'), retweet_count=0, favorite_count=0, favorited=False, retweeted=False, possibly_sensitive=False, lang='en') \n",
      "\n",
      ".....................................\n",
      "\n",
      "Status(_api=<tweepy.api.API object at 0x000001F4EFD5EFA0>, _json={'created_at': 'Sun May 30 06:58:58 +0000 2021', 'id': 1398896699821670401, 'id_str': '1398896699821670401', 'full_text': '@harishlamba13 When Right Work destroys Wrong Words! #PMCaresFund #Children', 'truncated': False, 'display_text_range': [15, 75], 'entities': {'hashtags': [{'text': 'PMCaresFund', 'indices': [53, 65]}, {'text': 'Children', 'indices': [66, 75]}], 'symbols': [], 'user_mentions': [{'screen_name': 'harishlamba13', 'name': 'Harish Lamba🇮🇳🕉', 'id': 829004890198437893, 'id_str': '829004890198437893', 'indices': [0, 14]}], 'urls': []}, 'metadata': {'iso_language_code': 'en', 'result_type': 'recent'}, 'source': '<a href=\"http://twitter.com/download/android\" rel=\"nofollow\">Twitter for Android</a>', 'in_reply_to_status_id': 1398834768721059842, 'in_reply_to_status_id_str': '1398834768721059842', 'in_reply_to_user_id': 829004890198437893, 'in_reply_to_user_id_str': '829004890198437893', 'in_reply_to_screen_name': 'harishlamba13', 'user': {'id': 1166672939703394305, 'id_str': '1166672939703394305', 'name': 'Pranav Sharma×͜×', 'screen_name': 'pranav_sharma69', 'location': 'Pathankot, India', 'description': 'You give someone too much, too often they forget it’s a privilege.', 'url': None, 'entities': {'description': {'urls': []}}, 'protected': False, 'followers_count': 18, 'friends_count': 82, 'listed_count': 0, 'created_at': 'Wed Aug 28 11:24:45 +0000 2019', 'favourites_count': 1720, 'utc_offset': None, 'time_zone': None, 'geo_enabled': False, 'verified': False, 'statuses_count': 95, 'lang': None, 'contributors_enabled': False, 'is_translator': False, 'is_translation_enabled': False, 'profile_background_color': 'F5F8FA', 'profile_background_image_url': None, 'profile_background_image_url_https': None, 'profile_background_tile': False, 'profile_image_url': 'http://pbs.twimg.com/profile_images/1365935094658076674/kWYQVVeh_normal.jpg', 'profile_image_url_https': 'https://pbs.twimg.com/profile_images/1365935094658076674/kWYQVVeh_normal.jpg', 'profile_banner_url': 'https://pbs.twimg.com/profile_banners/1166672939703394305/1588492880', 'profile_link_color': '1DA1F2', 'profile_sidebar_border_color': 'C0DEED', 'profile_sidebar_fill_color': 'DDEEF6', 'profile_text_color': '333333', 'profile_use_background_image': True, 'has_extended_profile': True, 'default_profile': True, 'default_profile_image': False, 'following': False, 'follow_request_sent': False, 'notifications': False, 'translator_type': 'none', 'withheld_in_countries': []}, 'geo': None, 'coordinates': None, 'place': None, 'contributors': None, 'is_quote_status': False, 'retweet_count': 0, 'favorite_count': 0, 'favorited': False, 'retweeted': False, 'lang': 'en'}, created_at=datetime.datetime(2021, 5, 30, 6, 58, 58), id=1398896699821670401, id_str='1398896699821670401', full_text='@harishlamba13 When Right Work destroys Wrong Words! #PMCaresFund #Children', truncated=False, display_text_range=[15, 75], entities={'hashtags': [{'text': 'PMCaresFund', 'indices': [53, 65]}, {'text': 'Children', 'indices': [66, 75]}], 'symbols': [], 'user_mentions': [{'screen_name': 'harishlamba13', 'name': 'Harish Lamba🇮🇳🕉', 'id': 829004890198437893, 'id_str': '829004890198437893', 'indices': [0, 14]}], 'urls': []}, metadata={'iso_language_code': 'en', 'result_type': 'recent'}, source='Twitter for Android', source_url='http://twitter.com/download/android', in_reply_to_status_id=1398834768721059842, in_reply_to_status_id_str='1398834768721059842', in_reply_to_user_id=829004890198437893, in_reply_to_user_id_str='829004890198437893', in_reply_to_screen_name='harishlamba13', author=User(_api=<tweepy.api.API object at 0x000001F4EFD5EFA0>, _json={'id': 1166672939703394305, 'id_str': '1166672939703394305', 'name': 'Pranav Sharma×͜×', 'screen_name': 'pranav_sharma69', 'location': 'Pathankot, India', 'description': 'You give someone too much, too often they forget it’s a privilege.', 'url': None, 'entities': {'description': {'urls': []}}, 'protected': False, 'followers_count': 18, 'friends_count': 82, 'listed_count': 0, 'created_at': 'Wed Aug 28 11:24:45 +0000 2019', 'favourites_count': 1720, 'utc_offset': None, 'time_zone': None, 'geo_enabled': False, 'verified': False, 'statuses_count': 95, 'lang': None, 'contributors_enabled': False, 'is_translator': False, 'is_translation_enabled': False, 'profile_background_color': 'F5F8FA', 'profile_background_image_url': None, 'profile_background_image_url_https': None, 'profile_background_tile': False, 'profile_image_url': 'http://pbs.twimg.com/profile_images/1365935094658076674/kWYQVVeh_normal.jpg', 'profile_image_url_https': 'https://pbs.twimg.com/profile_images/1365935094658076674/kWYQVVeh_normal.jpg', 'profile_banner_url': 'https://pbs.twimg.com/profile_banners/1166672939703394305/1588492880', 'profile_link_color': '1DA1F2', 'profile_sidebar_border_color': 'C0DEED', 'profile_sidebar_fill_color': 'DDEEF6', 'profile_text_color': '333333', 'profile_use_background_image': True, 'has_extended_profile': True, 'default_profile': True, 'default_profile_image': False, 'following': False, 'follow_request_sent': False, 'notifications': False, 'translator_type': 'none', 'withheld_in_countries': []}, id=1166672939703394305, id_str='1166672939703394305', name='Pranav Sharma×͜×', screen_name='pranav_sharma69', location='Pathankot, India', description='You give someone too much, too often they forget it’s a privilege.', url=None, entities={'description': {'urls': []}}, protected=False, followers_count=18, friends_count=82, listed_count=0, created_at=datetime.datetime(2019, 8, 28, 11, 24, 45), favourites_count=1720, utc_offset=None, time_zone=None, geo_enabled=False, verified=False, statuses_count=95, lang=None, contributors_enabled=False, is_translator=False, is_translation_enabled=False, profile_background_color='F5F8FA', profile_background_image_url=None, profile_background_image_url_https=None, profile_background_tile=False, profile_image_url='http://pbs.twimg.com/profile_images/1365935094658076674/kWYQVVeh_normal.jpg', profile_image_url_https='https://pbs.twimg.com/profile_images/1365935094658076674/kWYQVVeh_normal.jpg', profile_banner_url='https://pbs.twimg.com/profile_banners/1166672939703394305/1588492880', profile_link_color='1DA1F2', profile_sidebar_border_color='C0DEED', profile_sidebar_fill_color='DDEEF6', profile_text_color='333333', profile_use_background_image=True, has_extended_profile=True, default_profile=True, default_profile_image=False, following=False, follow_request_sent=False, notifications=False, translator_type='none', withheld_in_countries=[]), user=User(_api=<tweepy.api.API object at 0x000001F4EFD5EFA0>, _json={'id': 1166672939703394305, 'id_str': '1166672939703394305', 'name': 'Pranav Sharma×͜×', 'screen_name': 'pranav_sharma69', 'location': 'Pathankot, India', 'description': 'You give someone too much, too often they forget it’s a privilege.', 'url': None, 'entities': {'description': {'urls': []}}, 'protected': False, 'followers_count': 18, 'friends_count': 82, 'listed_count': 0, 'created_at': 'Wed Aug 28 11:24:45 +0000 2019', 'favourites_count': 1720, 'utc_offset': None, 'time_zone': None, 'geo_enabled': False, 'verified': False, 'statuses_count': 95, 'lang': None, 'contributors_enabled': False, 'is_translator': False, 'is_translation_enabled': False, 'profile_background_color': 'F5F8FA', 'profile_background_image_url': None, 'profile_background_image_url_https': None, 'profile_background_tile': False, 'profile_image_url': 'http://pbs.twimg.com/profile_images/1365935094658076674/kWYQVVeh_normal.jpg', 'profile_image_url_https': 'https://pbs.twimg.com/profile_images/1365935094658076674/kWYQVVeh_normal.jpg', 'profile_banner_url': 'https://pbs.twimg.com/profile_banners/1166672939703394305/1588492880', 'profile_link_color': '1DA1F2', 'profile_sidebar_border_color': 'C0DEED', 'profile_sidebar_fill_color': 'DDEEF6', 'profile_text_color': '333333', 'profile_use_background_image': True, 'has_extended_profile': True, 'default_profile': True, 'default_profile_image': False, 'following': False, 'follow_request_sent': False, 'notifications': False, 'translator_type': 'none', 'withheld_in_countries': []}, id=1166672939703394305, id_str='1166672939703394305', name='Pranav Sharma×͜×', screen_name='pranav_sharma69', location='Pathankot, India', description='You give someone too much, too often they forget it’s a privilege.', url=None, entities={'description': {'urls': []}}, protected=False, followers_count=18, friends_count=82, listed_count=0, created_at=datetime.datetime(2019, 8, 28, 11, 24, 45), favourites_count=1720, utc_offset=None, time_zone=None, geo_enabled=False, verified=False, statuses_count=95, lang=None, contributors_enabled=False, is_translator=False, is_translation_enabled=False, profile_background_color='F5F8FA', profile_background_image_url=None, profile_background_image_url_https=None, profile_background_tile=False, profile_image_url='http://pbs.twimg.com/profile_images/1365935094658076674/kWYQVVeh_normal.jpg', profile_image_url_https='https://pbs.twimg.com/profile_images/1365935094658076674/kWYQVVeh_normal.jpg', profile_banner_url='https://pbs.twimg.com/profile_banners/1166672939703394305/1588492880', profile_link_color='1DA1F2', profile_sidebar_border_color='C0DEED', profile_sidebar_fill_color='DDEEF6', profile_text_color='333333', profile_use_background_image=True, has_extended_profile=True, default_profile=True, default_profile_image=False, following=False, follow_request_sent=False, notifications=False, translator_type='none', withheld_in_countries=[]), geo=None, coordinates=None, place=None, contributors=None, is_quote_status=False, retweet_count=0, favorite_count=0, favorited=False, retweeted=False, lang='en') \n",
      "\n",
      ".....................................\n",
      "\n",
      "Status(_api=<tweepy.api.API object at 0x000001F4EFD5EFA0>, _json={'created_at': 'Sun May 30 06:50:01 +0000 2021', 'id': 1398894448344330240, 'id_str': '1398894448344330240', 'full_text': \"@timesofindia TOI,the social media,that reflects only true intention of the political Govt. is turned into a 'Praise Modi' only for his announcement. PM,once banged,lighted to get rid of the Corona had collected PMCaresfund without any accounting &amp; PMCares to educate the orphaned children?\", 'truncated': False, 'display_text_range': [14, 294], 'entities': {'hashtags': [], 'symbols': [], 'user_mentions': [{'screen_name': 'timesofindia', 'name': 'The Times Of India', 'id': 134758540, 'id_str': '134758540', 'indices': [0, 13]}], 'urls': []}, 'metadata': {'iso_language_code': 'en', 'result_type': 'recent'}, 'source': '<a href=\"https://mobile.twitter.com\" rel=\"nofollow\">Twitter Web App</a>', 'in_reply_to_status_id': 1398791266264137730, 'in_reply_to_status_id_str': '1398791266264137730', 'in_reply_to_user_id': 134758540, 'in_reply_to_user_id_str': '134758540', 'in_reply_to_screen_name': 'timesofindia', 'user': {'id': 1140217368511041536, 'id_str': '1140217368511041536', 'name': 'Yaja Ramuk', 'screen_name': 'ramuk_yaja', 'location': 'Chennai, India', 'description': 'Mother of Ajay', 'url': 'https://t.co/SFKw1w5qxh', 'entities': {'url': {'urls': [{'url': 'https://t.co/SFKw1w5qxh', 'expanded_url': 'https://horizontosky.blogspot.com', 'display_url': 'horizontosky.blogspot.com', 'indices': [0, 23]}]}, 'description': {'urls': []}}, 'protected': False, 'followers_count': 4, 'friends_count': 0, 'listed_count': 0, 'created_at': 'Sun Jun 16 11:19:39 +0000 2019', 'favourites_count': 7, 'utc_offset': None, 'time_zone': None, 'geo_enabled': False, 'verified': False, 'statuses_count': 2954, 'lang': None, 'contributors_enabled': False, 'is_translator': False, 'is_translation_enabled': False, 'profile_background_color': '000000', 'profile_background_image_url': 'http://abs.twimg.com/images/themes/theme1/bg.png', 'profile_background_image_url_https': 'https://abs.twimg.com/images/themes/theme1/bg.png', 'profile_background_tile': False, 'profile_image_url': 'http://abs.twimg.com/sticky/default_profile_images/default_profile_normal.png', 'profile_image_url_https': 'https://abs.twimg.com/sticky/default_profile_images/default_profile_normal.png', 'profile_link_color': '1B95E0', 'profile_sidebar_border_color': '000000', 'profile_sidebar_fill_color': '000000', 'profile_text_color': '000000', 'profile_use_background_image': False, 'has_extended_profile': False, 'default_profile': False, 'default_profile_image': True, 'following': False, 'follow_request_sent': False, 'notifications': False, 'translator_type': 'none', 'withheld_in_countries': []}, 'geo': None, 'coordinates': None, 'place': None, 'contributors': None, 'is_quote_status': False, 'retweet_count': 0, 'favorite_count': 0, 'favorited': False, 'retweeted': False, 'lang': 'en'}, created_at=datetime.datetime(2021, 5, 30, 6, 50, 1), id=1398894448344330240, id_str='1398894448344330240', full_text=\"@timesofindia TOI,the social media,that reflects only true intention of the political Govt. is turned into a 'Praise Modi' only for his announcement. PM,once banged,lighted to get rid of the Corona had collected PMCaresfund without any accounting &amp; PMCares to educate the orphaned children?\", truncated=False, display_text_range=[14, 294], entities={'hashtags': [], 'symbols': [], 'user_mentions': [{'screen_name': 'timesofindia', 'name': 'The Times Of India', 'id': 134758540, 'id_str': '134758540', 'indices': [0, 13]}], 'urls': []}, metadata={'iso_language_code': 'en', 'result_type': 'recent'}, source='Twitter Web App', source_url='https://mobile.twitter.com', in_reply_to_status_id=1398791266264137730, in_reply_to_status_id_str='1398791266264137730', in_reply_to_user_id=134758540, in_reply_to_user_id_str='134758540', in_reply_to_screen_name='timesofindia', author=User(_api=<tweepy.api.API object at 0x000001F4EFD5EFA0>, _json={'id': 1140217368511041536, 'id_str': '1140217368511041536', 'name': 'Yaja Ramuk', 'screen_name': 'ramuk_yaja', 'location': 'Chennai, India', 'description': 'Mother of Ajay', 'url': 'https://t.co/SFKw1w5qxh', 'entities': {'url': {'urls': [{'url': 'https://t.co/SFKw1w5qxh', 'expanded_url': 'https://horizontosky.blogspot.com', 'display_url': 'horizontosky.blogspot.com', 'indices': [0, 23]}]}, 'description': {'urls': []}}, 'protected': False, 'followers_count': 4, 'friends_count': 0, 'listed_count': 0, 'created_at': 'Sun Jun 16 11:19:39 +0000 2019', 'favourites_count': 7, 'utc_offset': None, 'time_zone': None, 'geo_enabled': False, 'verified': False, 'statuses_count': 2954, 'lang': None, 'contributors_enabled': False, 'is_translator': False, 'is_translation_enabled': False, 'profile_background_color': '000000', 'profile_background_image_url': 'http://abs.twimg.com/images/themes/theme1/bg.png', 'profile_background_image_url_https': 'https://abs.twimg.com/images/themes/theme1/bg.png', 'profile_background_tile': False, 'profile_image_url': 'http://abs.twimg.com/sticky/default_profile_images/default_profile_normal.png', 'profile_image_url_https': 'https://abs.twimg.com/sticky/default_profile_images/default_profile_normal.png', 'profile_link_color': '1B95E0', 'profile_sidebar_border_color': '000000', 'profile_sidebar_fill_color': '000000', 'profile_text_color': '000000', 'profile_use_background_image': False, 'has_extended_profile': False, 'default_profile': False, 'default_profile_image': True, 'following': False, 'follow_request_sent': False, 'notifications': False, 'translator_type': 'none', 'withheld_in_countries': []}, id=1140217368511041536, id_str='1140217368511041536', name='Yaja Ramuk', screen_name='ramuk_yaja', location='Chennai, India', description='Mother of Ajay', url='https://t.co/SFKw1w5qxh', entities={'url': {'urls': [{'url': 'https://t.co/SFKw1w5qxh', 'expanded_url': 'https://horizontosky.blogspot.com', 'display_url': 'horizontosky.blogspot.com', 'indices': [0, 23]}]}, 'description': {'urls': []}}, protected=False, followers_count=4, friends_count=0, listed_count=0, created_at=datetime.datetime(2019, 6, 16, 11, 19, 39), favourites_count=7, utc_offset=None, time_zone=None, geo_enabled=False, verified=False, statuses_count=2954, lang=None, contributors_enabled=False, is_translator=False, is_translation_enabled=False, profile_background_color='000000', profile_background_image_url='http://abs.twimg.com/images/themes/theme1/bg.png', profile_background_image_url_https='https://abs.twimg.com/images/themes/theme1/bg.png', profile_background_tile=False, profile_image_url='http://abs.twimg.com/sticky/default_profile_images/default_profile_normal.png', profile_image_url_https='https://abs.twimg.com/sticky/default_profile_images/default_profile_normal.png', profile_link_color='1B95E0', profile_sidebar_border_color='000000', profile_sidebar_fill_color='000000', profile_text_color='000000', profile_use_background_image=False, has_extended_profile=False, default_profile=False, default_profile_image=True, following=False, follow_request_sent=False, notifications=False, translator_type='none', withheld_in_countries=[]), user=User(_api=<tweepy.api.API object at 0x000001F4EFD5EFA0>, _json={'id': 1140217368511041536, 'id_str': '1140217368511041536', 'name': 'Yaja Ramuk', 'screen_name': 'ramuk_yaja', 'location': 'Chennai, India', 'description': 'Mother of Ajay', 'url': 'https://t.co/SFKw1w5qxh', 'entities': {'url': {'urls': [{'url': 'https://t.co/SFKw1w5qxh', 'expanded_url': 'https://horizontosky.blogspot.com', 'display_url': 'horizontosky.blogspot.com', 'indices': [0, 23]}]}, 'description': {'urls': []}}, 'protected': False, 'followers_count': 4, 'friends_count': 0, 'listed_count': 0, 'created_at': 'Sun Jun 16 11:19:39 +0000 2019', 'favourites_count': 7, 'utc_offset': None, 'time_zone': None, 'geo_enabled': False, 'verified': False, 'statuses_count': 2954, 'lang': None, 'contributors_enabled': False, 'is_translator': False, 'is_translation_enabled': False, 'profile_background_color': '000000', 'profile_background_image_url': 'http://abs.twimg.com/images/themes/theme1/bg.png', 'profile_background_image_url_https': 'https://abs.twimg.com/images/themes/theme1/bg.png', 'profile_background_tile': False, 'profile_image_url': 'http://abs.twimg.com/sticky/default_profile_images/default_profile_normal.png', 'profile_image_url_https': 'https://abs.twimg.com/sticky/default_profile_images/default_profile_normal.png', 'profile_link_color': '1B95E0', 'profile_sidebar_border_color': '000000', 'profile_sidebar_fill_color': '000000', 'profile_text_color': '000000', 'profile_use_background_image': False, 'has_extended_profile': False, 'default_profile': False, 'default_profile_image': True, 'following': False, 'follow_request_sent': False, 'notifications': False, 'translator_type': 'none', 'withheld_in_countries': []}, id=1140217368511041536, id_str='1140217368511041536', name='Yaja Ramuk', screen_name='ramuk_yaja', location='Chennai, India', description='Mother of Ajay', url='https://t.co/SFKw1w5qxh', entities={'url': {'urls': [{'url': 'https://t.co/SFKw1w5qxh', 'expanded_url': 'https://horizontosky.blogspot.com', 'display_url': 'horizontosky.blogspot.com', 'indices': [0, 23]}]}, 'description': {'urls': []}}, protected=False, followers_count=4, friends_count=0, listed_count=0, created_at=datetime.datetime(2019, 6, 16, 11, 19, 39), favourites_count=7, utc_offset=None, time_zone=None, geo_enabled=False, verified=False, statuses_count=2954, lang=None, contributors_enabled=False, is_translator=False, is_translation_enabled=False, profile_background_color='000000', profile_background_image_url='http://abs.twimg.com/images/themes/theme1/bg.png', profile_background_image_url_https='https://abs.twimg.com/images/themes/theme1/bg.png', profile_background_tile=False, profile_image_url='http://abs.twimg.com/sticky/default_profile_images/default_profile_normal.png', profile_image_url_https='https://abs.twimg.com/sticky/default_profile_images/default_profile_normal.png', profile_link_color='1B95E0', profile_sidebar_border_color='000000', profile_sidebar_fill_color='000000', profile_text_color='000000', profile_use_background_image=False, has_extended_profile=False, default_profile=False, default_profile_image=True, following=False, follow_request_sent=False, notifications=False, translator_type='none', withheld_in_countries=[]), geo=None, coordinates=None, place=None, contributors=None, is_quote_status=False, retweet_count=0, favorite_count=0, favorited=False, retweeted=False, lang='en') \n",
      "\n",
      ".....................................\n",
      "\n",
      "Status(_api=<tweepy.api.API object at 0x000001F4EFD5EFA0>, _json={'created_at': 'Sun May 30 06:45:08 +0000 2021', 'id': 1398893219706855424, 'id_str': '1398893219706855424', 'full_text': '#7YearsOfSeva #PMCaresFund_का_हिसाब_लो PM CARES For Children- Empowerment of COVID Affected Children launched for support &amp; empowerment of Covid affected children\\nGovernment stands with children who lost their parents due to Covid', 'truncated': False, 'display_text_range': [0, 234], 'entities': {'hashtags': [{'text': '7YearsOfSeva', 'indices': [0, 13]}, {'text': 'PMCaresFund_का_हिसाब_लो', 'indices': [14, 38]}], 'symbols': [], 'user_mentions': [], 'urls': []}, 'metadata': {'iso_language_code': 'en', 'result_type': 'recent'}, 'source': '<a href=\"http://twitter.com/download/iphone\" rel=\"nofollow\">Twitter for iPhone</a>', 'in_reply_to_status_id': None, 'in_reply_to_status_id_str': None, 'in_reply_to_user_id': None, 'in_reply_to_user_id_str': None, 'in_reply_to_screen_name': None, 'user': {'id': 770107302, 'id_str': '770107302', 'name': 'साहिल_भाई_CovidWale', 'screen_name': 'Sahil_k90', 'location': 'India', 'description': 'प्रतीक्षा ही विजय है। धैर्य ही अमर है। प्रहार रहित युद्ध ही धर्म की नीव है ।। Proud Volunteer of @hinduitcell', 'url': None, 'entities': {'description': {'urls': []}}, 'protected': False, 'followers_count': 2452, 'friends_count': 557, 'listed_count': 2, 'created_at': 'Mon Aug 20 19:45:47 +0000 2012', 'favourites_count': 14281, 'utc_offset': None, 'time_zone': None, 'geo_enabled': True, 'verified': False, 'statuses_count': 9845, 'lang': None, 'contributors_enabled': False, 'is_translator': False, 'is_translation_enabled': False, 'profile_background_color': '000000', 'profile_background_image_url': 'http://abs.twimg.com/images/themes/theme9/bg.gif', 'profile_background_image_url_https': 'https://abs.twimg.com/images/themes/theme9/bg.gif', 'profile_background_tile': False, 'profile_image_url': 'http://pbs.twimg.com/profile_images/1396535807003947011/gjNl83wM_normal.jpg', 'profile_image_url_https': 'https://pbs.twimg.com/profile_images/1396535807003947011/gjNl83wM_normal.jpg', 'profile_banner_url': 'https://pbs.twimg.com/profile_banners/770107302/1606069799', 'profile_link_color': 'FF691F', 'profile_sidebar_border_color': '000000', 'profile_sidebar_fill_color': '000000', 'profile_text_color': '000000', 'profile_use_background_image': False, 'has_extended_profile': True, 'default_profile': False, 'default_profile_image': False, 'following': False, 'follow_request_sent': False, 'notifications': False, 'translator_type': 'none', 'withheld_in_countries': []}, 'geo': None, 'coordinates': None, 'place': None, 'contributors': None, 'is_quote_status': False, 'retweet_count': 1, 'favorite_count': 2, 'favorited': False, 'retweeted': False, 'lang': 'en'}, created_at=datetime.datetime(2021, 5, 30, 6, 45, 8), id=1398893219706855424, id_str='1398893219706855424', full_text='#7YearsOfSeva #PMCaresFund_का_हिसाब_लो PM CARES For Children- Empowerment of COVID Affected Children launched for support &amp; empowerment of Covid affected children\\nGovernment stands with children who lost their parents due to Covid', truncated=False, display_text_range=[0, 234], entities={'hashtags': [{'text': '7YearsOfSeva', 'indices': [0, 13]}, {'text': 'PMCaresFund_का_हिसाब_लो', 'indices': [14, 38]}], 'symbols': [], 'user_mentions': [], 'urls': []}, metadata={'iso_language_code': 'en', 'result_type': 'recent'}, source='Twitter for iPhone', source_url='http://twitter.com/download/iphone', in_reply_to_status_id=None, in_reply_to_status_id_str=None, in_reply_to_user_id=None, in_reply_to_user_id_str=None, in_reply_to_screen_name=None, author=User(_api=<tweepy.api.API object at 0x000001F4EFD5EFA0>, _json={'id': 770107302, 'id_str': '770107302', 'name': 'साहिल_भाई_CovidWale', 'screen_name': 'Sahil_k90', 'location': 'India', 'description': 'प्रतीक्षा ही विजय है। धैर्य ही अमर है। प्रहार रहित युद्ध ही धर्म की नीव है ।। Proud Volunteer of @hinduitcell', 'url': None, 'entities': {'description': {'urls': []}}, 'protected': False, 'followers_count': 2452, 'friends_count': 557, 'listed_count': 2, 'created_at': 'Mon Aug 20 19:45:47 +0000 2012', 'favourites_count': 14281, 'utc_offset': None, 'time_zone': None, 'geo_enabled': True, 'verified': False, 'statuses_count': 9845, 'lang': None, 'contributors_enabled': False, 'is_translator': False, 'is_translation_enabled': False, 'profile_background_color': '000000', 'profile_background_image_url': 'http://abs.twimg.com/images/themes/theme9/bg.gif', 'profile_background_image_url_https': 'https://abs.twimg.com/images/themes/theme9/bg.gif', 'profile_background_tile': False, 'profile_image_url': 'http://pbs.twimg.com/profile_images/1396535807003947011/gjNl83wM_normal.jpg', 'profile_image_url_https': 'https://pbs.twimg.com/profile_images/1396535807003947011/gjNl83wM_normal.jpg', 'profile_banner_url': 'https://pbs.twimg.com/profile_banners/770107302/1606069799', 'profile_link_color': 'FF691F', 'profile_sidebar_border_color': '000000', 'profile_sidebar_fill_color': '000000', 'profile_text_color': '000000', 'profile_use_background_image': False, 'has_extended_profile': True, 'default_profile': False, 'default_profile_image': False, 'following': False, 'follow_request_sent': False, 'notifications': False, 'translator_type': 'none', 'withheld_in_countries': []}, id=770107302, id_str='770107302', name='साहिल_भाई_CovidWale', screen_name='Sahil_k90', location='India', description='प्रतीक्षा ही विजय है। धैर्य ही अमर है। प्रहार रहित युद्ध ही धर्म की नीव है ।। Proud Volunteer of @hinduitcell', url=None, entities={'description': {'urls': []}}, protected=False, followers_count=2452, friends_count=557, listed_count=2, created_at=datetime.datetime(2012, 8, 20, 19, 45, 47), favourites_count=14281, utc_offset=None, time_zone=None, geo_enabled=True, verified=False, statuses_count=9845, lang=None, contributors_enabled=False, is_translator=False, is_translation_enabled=False, profile_background_color='000000', profile_background_image_url='http://abs.twimg.com/images/themes/theme9/bg.gif', profile_background_image_url_https='https://abs.twimg.com/images/themes/theme9/bg.gif', profile_background_tile=False, profile_image_url='http://pbs.twimg.com/profile_images/1396535807003947011/gjNl83wM_normal.jpg', profile_image_url_https='https://pbs.twimg.com/profile_images/1396535807003947011/gjNl83wM_normal.jpg', profile_banner_url='https://pbs.twimg.com/profile_banners/770107302/1606069799', profile_link_color='FF691F', profile_sidebar_border_color='000000', profile_sidebar_fill_color='000000', profile_text_color='000000', profile_use_background_image=False, has_extended_profile=True, default_profile=False, default_profile_image=False, following=False, follow_request_sent=False, notifications=False, translator_type='none', withheld_in_countries=[]), user=User(_api=<tweepy.api.API object at 0x000001F4EFD5EFA0>, _json={'id': 770107302, 'id_str': '770107302', 'name': 'साहिल_भाई_CovidWale', 'screen_name': 'Sahil_k90', 'location': 'India', 'description': 'प्रतीक्षा ही विजय है। धैर्य ही अमर है। प्रहार रहित युद्ध ही धर्म की नीव है ।। Proud Volunteer of @hinduitcell', 'url': None, 'entities': {'description': {'urls': []}}, 'protected': False, 'followers_count': 2452, 'friends_count': 557, 'listed_count': 2, 'created_at': 'Mon Aug 20 19:45:47 +0000 2012', 'favourites_count': 14281, 'utc_offset': None, 'time_zone': None, 'geo_enabled': True, 'verified': False, 'statuses_count': 9845, 'lang': None, 'contributors_enabled': False, 'is_translator': False, 'is_translation_enabled': False, 'profile_background_color': '000000', 'profile_background_image_url': 'http://abs.twimg.com/images/themes/theme9/bg.gif', 'profile_background_image_url_https': 'https://abs.twimg.com/images/themes/theme9/bg.gif', 'profile_background_tile': False, 'profile_image_url': 'http://pbs.twimg.com/profile_images/1396535807003947011/gjNl83wM_normal.jpg', 'profile_image_url_https': 'https://pbs.twimg.com/profile_images/1396535807003947011/gjNl83wM_normal.jpg', 'profile_banner_url': 'https://pbs.twimg.com/profile_banners/770107302/1606069799', 'profile_link_color': 'FF691F', 'profile_sidebar_border_color': '000000', 'profile_sidebar_fill_color': '000000', 'profile_text_color': '000000', 'profile_use_background_image': False, 'has_extended_profile': True, 'default_profile': False, 'default_profile_image': False, 'following': False, 'follow_request_sent': False, 'notifications': False, 'translator_type': 'none', 'withheld_in_countries': []}, id=770107302, id_str='770107302', name='साहिल_भाई_CovidWale', screen_name='Sahil_k90', location='India', description='प्रतीक्षा ही विजय है। धैर्य ही अमर है। प्रहार रहित युद्ध ही धर्म की नीव है ।। Proud Volunteer of @hinduitcell', url=None, entities={'description': {'urls': []}}, protected=False, followers_count=2452, friends_count=557, listed_count=2, created_at=datetime.datetime(2012, 8, 20, 19, 45, 47), favourites_count=14281, utc_offset=None, time_zone=None, geo_enabled=True, verified=False, statuses_count=9845, lang=None, contributors_enabled=False, is_translator=False, is_translation_enabled=False, profile_background_color='000000', profile_background_image_url='http://abs.twimg.com/images/themes/theme9/bg.gif', profile_background_image_url_https='https://abs.twimg.com/images/themes/theme9/bg.gif', profile_background_tile=False, profile_image_url='http://pbs.twimg.com/profile_images/1396535807003947011/gjNl83wM_normal.jpg', profile_image_url_https='https://pbs.twimg.com/profile_images/1396535807003947011/gjNl83wM_normal.jpg', profile_banner_url='https://pbs.twimg.com/profile_banners/770107302/1606069799', profile_link_color='FF691F', profile_sidebar_border_color='000000', profile_sidebar_fill_color='000000', profile_text_color='000000', profile_use_background_image=False, has_extended_profile=True, default_profile=False, default_profile_image=False, following=False, follow_request_sent=False, notifications=False, translator_type='none', withheld_in_countries=[]), geo=None, coordinates=None, place=None, contributors=None, is_quote_status=False, retweet_count=1, favorite_count=2, favorited=False, retweeted=False, lang='en') \n",
      "\n",
      ".....................................\n",
      "\n",
      "Status(_api=<tweepy.api.API object at 0x000001F4EFD5EFA0>, _json={'created_at': 'Sun May 30 06:43:44 +0000 2021', 'id': 1398892867712688128, 'id_str': '1398892867712688128', 'full_text': '@narendramodi Modiji, Can we save the youngest of the generation from Spinal Muscular Atrophy(SMA).Lot of kids are being diagnosed with this rare disease and as far as I have heard the tax for a vaccine is 6cr, its way too high. I may be wrong but can we pls prioritise the issue\\n#PMCaresFund', 'truncated': False, 'display_text_range': [14, 292], 'entities': {'hashtags': [{'text': 'PMCaresFund', 'indices': [280, 292]}], 'symbols': [], 'user_mentions': [{'screen_name': 'narendramodi', 'name': 'Narendra Modi', 'id': 18839785, 'id_str': '18839785', 'indices': [0, 13]}], 'urls': []}, 'metadata': {'iso_language_code': 'en', 'result_type': 'recent'}, 'source': '<a href=\"https://mobile.twitter.com\" rel=\"nofollow\">Twitter Web App</a>', 'in_reply_to_status_id': 1398630525435265032, 'in_reply_to_status_id_str': '1398630525435265032', 'in_reply_to_user_id': 18839785, 'in_reply_to_user_id_str': '18839785', 'in_reply_to_screen_name': 'narendramodi', 'user': {'id': 1246099640153407490, 'id_str': '1246099640153407490', 'name': 'Kartik Pai', 'screen_name': 'KartikPai2', 'location': '', 'description': 'This Space is not enough to Describe me....', 'url': None, 'entities': {'description': {'urls': []}}, 'protected': False, 'followers_count': 21, 'friends_count': 38, 'listed_count': 0, 'created_at': 'Fri Apr 03 15:38:15 +0000 2020', 'favourites_count': 34, 'utc_offset': None, 'time_zone': None, 'geo_enabled': False, 'verified': False, 'statuses_count': 29, 'lang': None, 'contributors_enabled': False, 'is_translator': False, 'is_translation_enabled': False, 'profile_background_color': 'F5F8FA', 'profile_background_image_url': None, 'profile_background_image_url_https': None, 'profile_background_tile': False, 'profile_image_url': 'http://pbs.twimg.com/profile_images/1246103643495022597/wBQfoV_O_normal.jpg', 'profile_image_url_https': 'https://pbs.twimg.com/profile_images/1246103643495022597/wBQfoV_O_normal.jpg', 'profile_link_color': '1DA1F2', 'profile_sidebar_border_color': 'C0DEED', 'profile_sidebar_fill_color': 'DDEEF6', 'profile_text_color': '333333', 'profile_use_background_image': True, 'has_extended_profile': False, 'default_profile': True, 'default_profile_image': False, 'following': False, 'follow_request_sent': False, 'notifications': False, 'translator_type': 'none', 'withheld_in_countries': []}, 'geo': None, 'coordinates': None, 'place': None, 'contributors': None, 'is_quote_status': False, 'retweet_count': 0, 'favorite_count': 0, 'favorited': False, 'retweeted': False, 'lang': 'en'}, created_at=datetime.datetime(2021, 5, 30, 6, 43, 44), id=1398892867712688128, id_str='1398892867712688128', full_text='@narendramodi Modiji, Can we save the youngest of the generation from Spinal Muscular Atrophy(SMA).Lot of kids are being diagnosed with this rare disease and as far as I have heard the tax for a vaccine is 6cr, its way too high. I may be wrong but can we pls prioritise the issue\\n#PMCaresFund', truncated=False, display_text_range=[14, 292], entities={'hashtags': [{'text': 'PMCaresFund', 'indices': [280, 292]}], 'symbols': [], 'user_mentions': [{'screen_name': 'narendramodi', 'name': 'Narendra Modi', 'id': 18839785, 'id_str': '18839785', 'indices': [0, 13]}], 'urls': []}, metadata={'iso_language_code': 'en', 'result_type': 'recent'}, source='Twitter Web App', source_url='https://mobile.twitter.com', in_reply_to_status_id=1398630525435265032, in_reply_to_status_id_str='1398630525435265032', in_reply_to_user_id=18839785, in_reply_to_user_id_str='18839785', in_reply_to_screen_name='narendramodi', author=User(_api=<tweepy.api.API object at 0x000001F4EFD5EFA0>, _json={'id': 1246099640153407490, 'id_str': '1246099640153407490', 'name': 'Kartik Pai', 'screen_name': 'KartikPai2', 'location': '', 'description': 'This Space is not enough to Describe me....', 'url': None, 'entities': {'description': {'urls': []}}, 'protected': False, 'followers_count': 21, 'friends_count': 38, 'listed_count': 0, 'created_at': 'Fri Apr 03 15:38:15 +0000 2020', 'favourites_count': 34, 'utc_offset': None, 'time_zone': None, 'geo_enabled': False, 'verified': False, 'statuses_count': 29, 'lang': None, 'contributors_enabled': False, 'is_translator': False, 'is_translation_enabled': False, 'profile_background_color': 'F5F8FA', 'profile_background_image_url': None, 'profile_background_image_url_https': None, 'profile_background_tile': False, 'profile_image_url': 'http://pbs.twimg.com/profile_images/1246103643495022597/wBQfoV_O_normal.jpg', 'profile_image_url_https': 'https://pbs.twimg.com/profile_images/1246103643495022597/wBQfoV_O_normal.jpg', 'profile_link_color': '1DA1F2', 'profile_sidebar_border_color': 'C0DEED', 'profile_sidebar_fill_color': 'DDEEF6', 'profile_text_color': '333333', 'profile_use_background_image': True, 'has_extended_profile': False, 'default_profile': True, 'default_profile_image': False, 'following': False, 'follow_request_sent': False, 'notifications': False, 'translator_type': 'none', 'withheld_in_countries': []}, id=1246099640153407490, id_str='1246099640153407490', name='Kartik Pai', screen_name='KartikPai2', location='', description='This Space is not enough to Describe me....', url=None, entities={'description': {'urls': []}}, protected=False, followers_count=21, friends_count=38, listed_count=0, created_at=datetime.datetime(2020, 4, 3, 15, 38, 15), favourites_count=34, utc_offset=None, time_zone=None, geo_enabled=False, verified=False, statuses_count=29, lang=None, contributors_enabled=False, is_translator=False, is_translation_enabled=False, profile_background_color='F5F8FA', profile_background_image_url=None, profile_background_image_url_https=None, profile_background_tile=False, profile_image_url='http://pbs.twimg.com/profile_images/1246103643495022597/wBQfoV_O_normal.jpg', profile_image_url_https='https://pbs.twimg.com/profile_images/1246103643495022597/wBQfoV_O_normal.jpg', profile_link_color='1DA1F2', profile_sidebar_border_color='C0DEED', profile_sidebar_fill_color='DDEEF6', profile_text_color='333333', profile_use_background_image=True, has_extended_profile=False, default_profile=True, default_profile_image=False, following=False, follow_request_sent=False, notifications=False, translator_type='none', withheld_in_countries=[]), user=User(_api=<tweepy.api.API object at 0x000001F4EFD5EFA0>, _json={'id': 1246099640153407490, 'id_str': '1246099640153407490', 'name': 'Kartik Pai', 'screen_name': 'KartikPai2', 'location': '', 'description': 'This Space is not enough to Describe me....', 'url': None, 'entities': {'description': {'urls': []}}, 'protected': False, 'followers_count': 21, 'friends_count': 38, 'listed_count': 0, 'created_at': 'Fri Apr 03 15:38:15 +0000 2020', 'favourites_count': 34, 'utc_offset': None, 'time_zone': None, 'geo_enabled': False, 'verified': False, 'statuses_count': 29, 'lang': None, 'contributors_enabled': False, 'is_translator': False, 'is_translation_enabled': False, 'profile_background_color': 'F5F8FA', 'profile_background_image_url': None, 'profile_background_image_url_https': None, 'profile_background_tile': False, 'profile_image_url': 'http://pbs.twimg.com/profile_images/1246103643495022597/wBQfoV_O_normal.jpg', 'profile_image_url_https': 'https://pbs.twimg.com/profile_images/1246103643495022597/wBQfoV_O_normal.jpg', 'profile_link_color': '1DA1F2', 'profile_sidebar_border_color': 'C0DEED', 'profile_sidebar_fill_color': 'DDEEF6', 'profile_text_color': '333333', 'profile_use_background_image': True, 'has_extended_profile': False, 'default_profile': True, 'default_profile_image': False, 'following': False, 'follow_request_sent': False, 'notifications': False, 'translator_type': 'none', 'withheld_in_countries': []}, id=1246099640153407490, id_str='1246099640153407490', name='Kartik Pai', screen_name='KartikPai2', location='', description='This Space is not enough to Describe me....', url=None, entities={'description': {'urls': []}}, protected=False, followers_count=21, friends_count=38, listed_count=0, created_at=datetime.datetime(2020, 4, 3, 15, 38, 15), favourites_count=34, utc_offset=None, time_zone=None, geo_enabled=False, verified=False, statuses_count=29, lang=None, contributors_enabled=False, is_translator=False, is_translation_enabled=False, profile_background_color='F5F8FA', profile_background_image_url=None, profile_background_image_url_https=None, profile_background_tile=False, profile_image_url='http://pbs.twimg.com/profile_images/1246103643495022597/wBQfoV_O_normal.jpg', profile_image_url_https='https://pbs.twimg.com/profile_images/1246103643495022597/wBQfoV_O_normal.jpg', profile_link_color='1DA1F2', profile_sidebar_border_color='C0DEED', profile_sidebar_fill_color='DDEEF6', profile_text_color='333333', profile_use_background_image=True, has_extended_profile=False, default_profile=True, default_profile_image=False, following=False, follow_request_sent=False, notifications=False, translator_type='none', withheld_in_countries=[]), geo=None, coordinates=None, place=None, contributors=None, is_quote_status=False, retweet_count=0, favorite_count=0, favorited=False, retweeted=False, lang='en') \n",
      "\n",
      ".....................................\n",
      "\n",
      "Status(_api=<tweepy.api.API object at 0x000001F4EFD5EFA0>, _json={'created_at': 'Sun May 30 06:42:02 +0000 2021', 'id': 1398892439536996352, 'id_str': '1398892439536996352', 'full_text': '- Such children will get free health insurance of Rs 5 lakh under the age of 18 under Ayushman Bharat and the premium will be paid by PM Cares.\\nHeartfelt gratitude to the Prime Minister, Shri @narendramodi\\n.\\n#PMCaresFund #PMCares', 'truncated': False, 'display_text_range': [0, 229], 'entities': {'hashtags': [{'text': 'PMCaresFund', 'indices': [208, 220]}, {'text': 'PMCares', 'indices': [221, 229]}], 'symbols': [], 'user_mentions': [{'screen_name': 'narendramodi', 'name': 'Narendra Modi', 'id': 18839785, 'id_str': '18839785', 'indices': [192, 205]}], 'urls': []}, 'metadata': {'iso_language_code': 'en', 'result_type': 'recent'}, 'source': '<a href=\"http://twitter.com/download/android\" rel=\"nofollow\">Twitter for Android</a>', 'in_reply_to_status_id': 1398892436554850306, 'in_reply_to_status_id_str': '1398892436554850306', 'in_reply_to_user_id': 1200859322, 'in_reply_to_user_id_str': '1200859322', 'in_reply_to_screen_name': 'trilochanrout_', 'user': {'id': 1200859322, 'id_str': '1200859322', 'name': 'Trilochan Rout🇮🇳', 'screen_name': 'trilochanrout_', 'location': 'India', 'description': 'Blessed to be in #India. #Nation first Self last .A true #nationalist and a concerned citizen . #Atmanirbhar .', 'url': 'https://t.co/agUQx0wj5t', 'entities': {'url': {'urls': [{'url': 'https://t.co/agUQx0wj5t', 'expanded_url': 'https://www.facebook.com/itrilochanrout/', 'display_url': 'facebook.com/itrilochanrout/', 'indices': [0, 23]}]}, 'description': {'urls': []}}, 'protected': False, 'followers_count': 64, 'friends_count': 537, 'listed_count': 0, 'created_at': 'Wed Feb 20 12:35:53 +0000 2013', 'favourites_count': 132, 'utc_offset': None, 'time_zone': None, 'geo_enabled': True, 'verified': False, 'statuses_count': 2300, 'lang': None, 'contributors_enabled': False, 'is_translator': False, 'is_translation_enabled': False, 'profile_background_color': '000000', 'profile_background_image_url': 'http://abs.twimg.com/images/themes/theme10/bg.gif', 'profile_background_image_url_https': 'https://abs.twimg.com/images/themes/theme10/bg.gif', 'profile_background_tile': False, 'profile_image_url': 'http://pbs.twimg.com/profile_images/1280478048492507137/pr1HQ4fW_normal.jpg', 'profile_image_url_https': 'https://pbs.twimg.com/profile_images/1280478048492507137/pr1HQ4fW_normal.jpg', 'profile_banner_url': 'https://pbs.twimg.com/profile_banners/1200859322/1599313648', 'profile_link_color': 'FF691F', 'profile_sidebar_border_color': '000000', 'profile_sidebar_fill_color': '000000', 'profile_text_color': '000000', 'profile_use_background_image': False, 'has_extended_profile': True, 'default_profile': False, 'default_profile_image': False, 'following': False, 'follow_request_sent': False, 'notifications': False, 'translator_type': 'none', 'withheld_in_countries': []}, 'geo': None, 'coordinates': None, 'place': None, 'contributors': None, 'is_quote_status': False, 'retweet_count': 0, 'favorite_count': 0, 'favorited': False, 'retweeted': False, 'lang': 'en'}, created_at=datetime.datetime(2021, 5, 30, 6, 42, 2), id=1398892439536996352, id_str='1398892439536996352', full_text='- Such children will get free health insurance of Rs 5 lakh under the age of 18 under Ayushman Bharat and the premium will be paid by PM Cares.\\nHeartfelt gratitude to the Prime Minister, Shri @narendramodi\\n.\\n#PMCaresFund #PMCares', truncated=False, display_text_range=[0, 229], entities={'hashtags': [{'text': 'PMCaresFund', 'indices': [208, 220]}, {'text': 'PMCares', 'indices': [221, 229]}], 'symbols': [], 'user_mentions': [{'screen_name': 'narendramodi', 'name': 'Narendra Modi', 'id': 18839785, 'id_str': '18839785', 'indices': [192, 205]}], 'urls': []}, metadata={'iso_language_code': 'en', 'result_type': 'recent'}, source='Twitter for Android', source_url='http://twitter.com/download/android', in_reply_to_status_id=1398892436554850306, in_reply_to_status_id_str='1398892436554850306', in_reply_to_user_id=1200859322, in_reply_to_user_id_str='1200859322', in_reply_to_screen_name='trilochanrout_', author=User(_api=<tweepy.api.API object at 0x000001F4EFD5EFA0>, _json={'id': 1200859322, 'id_str': '1200859322', 'name': 'Trilochan Rout🇮🇳', 'screen_name': 'trilochanrout_', 'location': 'India', 'description': 'Blessed to be in #India. #Nation first Self last .A true #nationalist and a concerned citizen . #Atmanirbhar .', 'url': 'https://t.co/agUQx0wj5t', 'entities': {'url': {'urls': [{'url': 'https://t.co/agUQx0wj5t', 'expanded_url': 'https://www.facebook.com/itrilochanrout/', 'display_url': 'facebook.com/itrilochanrout/', 'indices': [0, 23]}]}, 'description': {'urls': []}}, 'protected': False, 'followers_count': 64, 'friends_count': 537, 'listed_count': 0, 'created_at': 'Wed Feb 20 12:35:53 +0000 2013', 'favourites_count': 132, 'utc_offset': None, 'time_zone': None, 'geo_enabled': True, 'verified': False, 'statuses_count': 2300, 'lang': None, 'contributors_enabled': False, 'is_translator': False, 'is_translation_enabled': False, 'profile_background_color': '000000', 'profile_background_image_url': 'http://abs.twimg.com/images/themes/theme10/bg.gif', 'profile_background_image_url_https': 'https://abs.twimg.com/images/themes/theme10/bg.gif', 'profile_background_tile': False, 'profile_image_url': 'http://pbs.twimg.com/profile_images/1280478048492507137/pr1HQ4fW_normal.jpg', 'profile_image_url_https': 'https://pbs.twimg.com/profile_images/1280478048492507137/pr1HQ4fW_normal.jpg', 'profile_banner_url': 'https://pbs.twimg.com/profile_banners/1200859322/1599313648', 'profile_link_color': 'FF691F', 'profile_sidebar_border_color': '000000', 'profile_sidebar_fill_color': '000000', 'profile_text_color': '000000', 'profile_use_background_image': False, 'has_extended_profile': True, 'default_profile': False, 'default_profile_image': False, 'following': False, 'follow_request_sent': False, 'notifications': False, 'translator_type': 'none', 'withheld_in_countries': []}, id=1200859322, id_str='1200859322', name='Trilochan Rout🇮🇳', screen_name='trilochanrout_', location='India', description='Blessed to be in #India. #Nation first Self last .A true #nationalist and a concerned citizen . #Atmanirbhar .', url='https://t.co/agUQx0wj5t', entities={'url': {'urls': [{'url': 'https://t.co/agUQx0wj5t', 'expanded_url': 'https://www.facebook.com/itrilochanrout/', 'display_url': 'facebook.com/itrilochanrout/', 'indices': [0, 23]}]}, 'description': {'urls': []}}, protected=False, followers_count=64, friends_count=537, listed_count=0, created_at=datetime.datetime(2013, 2, 20, 12, 35, 53), favourites_count=132, utc_offset=None, time_zone=None, geo_enabled=True, verified=False, statuses_count=2300, lang=None, contributors_enabled=False, is_translator=False, is_translation_enabled=False, profile_background_color='000000', profile_background_image_url='http://abs.twimg.com/images/themes/theme10/bg.gif', profile_background_image_url_https='https://abs.twimg.com/images/themes/theme10/bg.gif', profile_background_tile=False, profile_image_url='http://pbs.twimg.com/profile_images/1280478048492507137/pr1HQ4fW_normal.jpg', profile_image_url_https='https://pbs.twimg.com/profile_images/1280478048492507137/pr1HQ4fW_normal.jpg', profile_banner_url='https://pbs.twimg.com/profile_banners/1200859322/1599313648', profile_link_color='FF691F', profile_sidebar_border_color='000000', profile_sidebar_fill_color='000000', profile_text_color='000000', profile_use_background_image=False, has_extended_profile=True, default_profile=False, default_profile_image=False, following=False, follow_request_sent=False, notifications=False, translator_type='none', withheld_in_countries=[]), user=User(_api=<tweepy.api.API object at 0x000001F4EFD5EFA0>, _json={'id': 1200859322, 'id_str': '1200859322', 'name': 'Trilochan Rout🇮🇳', 'screen_name': 'trilochanrout_', 'location': 'India', 'description': 'Blessed to be in #India. #Nation first Self last .A true #nationalist and a concerned citizen . #Atmanirbhar .', 'url': 'https://t.co/agUQx0wj5t', 'entities': {'url': {'urls': [{'url': 'https://t.co/agUQx0wj5t', 'expanded_url': 'https://www.facebook.com/itrilochanrout/', 'display_url': 'facebook.com/itrilochanrout/', 'indices': [0, 23]}]}, 'description': {'urls': []}}, 'protected': False, 'followers_count': 64, 'friends_count': 537, 'listed_count': 0, 'created_at': 'Wed Feb 20 12:35:53 +0000 2013', 'favourites_count': 132, 'utc_offset': None, 'time_zone': None, 'geo_enabled': True, 'verified': False, 'statuses_count': 2300, 'lang': None, 'contributors_enabled': False, 'is_translator': False, 'is_translation_enabled': False, 'profile_background_color': '000000', 'profile_background_image_url': 'http://abs.twimg.com/images/themes/theme10/bg.gif', 'profile_background_image_url_https': 'https://abs.twimg.com/images/themes/theme10/bg.gif', 'profile_background_tile': False, 'profile_image_url': 'http://pbs.twimg.com/profile_images/1280478048492507137/pr1HQ4fW_normal.jpg', 'profile_image_url_https': 'https://pbs.twimg.com/profile_images/1280478048492507137/pr1HQ4fW_normal.jpg', 'profile_banner_url': 'https://pbs.twimg.com/profile_banners/1200859322/1599313648', 'profile_link_color': 'FF691F', 'profile_sidebar_border_color': '000000', 'profile_sidebar_fill_color': '000000', 'profile_text_color': '000000', 'profile_use_background_image': False, 'has_extended_profile': True, 'default_profile': False, 'default_profile_image': False, 'following': False, 'follow_request_sent': False, 'notifications': False, 'translator_type': 'none', 'withheld_in_countries': []}, id=1200859322, id_str='1200859322', name='Trilochan Rout🇮🇳', screen_name='trilochanrout_', location='India', description='Blessed to be in #India. #Nation first Self last .A true #nationalist and a concerned citizen . #Atmanirbhar .', url='https://t.co/agUQx0wj5t', entities={'url': {'urls': [{'url': 'https://t.co/agUQx0wj5t', 'expanded_url': 'https://www.facebook.com/itrilochanrout/', 'display_url': 'facebook.com/itrilochanrout/', 'indices': [0, 23]}]}, 'description': {'urls': []}}, protected=False, followers_count=64, friends_count=537, listed_count=0, created_at=datetime.datetime(2013, 2, 20, 12, 35, 53), favourites_count=132, utc_offset=None, time_zone=None, geo_enabled=True, verified=False, statuses_count=2300, lang=None, contributors_enabled=False, is_translator=False, is_translation_enabled=False, profile_background_color='000000', profile_background_image_url='http://abs.twimg.com/images/themes/theme10/bg.gif', profile_background_image_url_https='https://abs.twimg.com/images/themes/theme10/bg.gif', profile_background_tile=False, profile_image_url='http://pbs.twimg.com/profile_images/1280478048492507137/pr1HQ4fW_normal.jpg', profile_image_url_https='https://pbs.twimg.com/profile_images/1280478048492507137/pr1HQ4fW_normal.jpg', profile_banner_url='https://pbs.twimg.com/profile_banners/1200859322/1599313648', profile_link_color='FF691F', profile_sidebar_border_color='000000', profile_sidebar_fill_color='000000', profile_text_color='000000', profile_use_background_image=False, has_extended_profile=True, default_profile=False, default_profile_image=False, following=False, follow_request_sent=False, notifications=False, translator_type='none', withheld_in_countries=[]), geo=None, coordinates=None, place=None, contributors=None, is_quote_status=False, retweet_count=0, favorite_count=0, favorited=False, retweeted=False, lang='en') \n",
      "\n",
      ".....................................\n",
      "\n",
      "Status(_api=<tweepy.api.API object at 0x000001F4EFD5EFA0>, _json={'created_at': 'Sun May 30 06:37:39 +0000 2021', 'id': 1398891337433427968, 'id_str': '1398891337433427968', 'full_text': 'PM CARES to support children orphaned owing to Covid\\n\\n#Covid19 #CovidPandemic #PMCaresFund #PMCares #NarendraModi #Dinalipi\\n\\n@narendramodi @PMOIndia\\n\\nhttps://t.co/iEeMsVJrzr', 'truncated': False, 'display_text_range': [0, 173], 'entities': {'hashtags': [{'text': 'Covid19', 'indices': [54, 62]}, {'text': 'CovidPandemic', 'indices': [63, 77]}, {'text': 'PMCaresFund', 'indices': [78, 90]}, {'text': 'PMCares', 'indices': [91, 99]}, {'text': 'NarendraModi', 'indices': [100, 113]}, {'text': 'Dinalipi', 'indices': [114, 123]}], 'symbols': [], 'user_mentions': [{'screen_name': 'narendramodi', 'name': 'Narendra Modi', 'id': 18839785, 'id_str': '18839785', 'indices': [125, 138]}, {'screen_name': 'PMOIndia', 'name': 'PMO India', 'id': 471741741, 'id_str': '471741741', 'indices': [139, 148]}], 'urls': [{'url': 'https://t.co/iEeMsVJrzr', 'expanded_url': 'https://www.dinalipi.com/pm-cares-to-support-children-orphaned-owing-to-covid/', 'display_url': 'dinalipi.com/pm-cares-to-su…', 'indices': [150, 173]}]}, 'metadata': {'iso_language_code': 'en', 'result_type': 'recent'}, 'source': '<a href=\"http://raventools.com/?utm_source=Twitter\" rel=\"nofollow\">Raven Tools</a>', 'in_reply_to_status_id': None, 'in_reply_to_status_id_str': None, 'in_reply_to_user_id': None, 'in_reply_to_user_id_str': None, 'in_reply_to_screen_name': None, 'user': {'id': 1095278599135883265, 'id_str': '1095278599135883265', 'name': 'Dinalipi Online', 'screen_name': 'DinalipiOnline', 'location': 'Bhubaneshwar, India', 'description': 'The Dinalipi was first published in the year 1981. The Odia Daily is an unbiased and progressive newspaper.', 'url': 'https://t.co/WQ7RQ53rzD', 'entities': {'url': {'urls': [{'url': 'https://t.co/WQ7RQ53rzD', 'expanded_url': 'http://dinalipi.com/', 'display_url': 'dinalipi.com', 'indices': [0, 23]}]}, 'description': {'urls': []}}, 'protected': False, 'followers_count': 221, 'friends_count': 69, 'listed_count': 4, 'created_at': 'Tue Feb 12 11:09:02 +0000 2019', 'favourites_count': 54, 'utc_offset': None, 'time_zone': None, 'geo_enabled': False, 'verified': False, 'statuses_count': 6980, 'lang': None, 'contributors_enabled': False, 'is_translator': False, 'is_translation_enabled': False, 'profile_background_color': 'F5F8FA', 'profile_background_image_url': None, 'profile_background_image_url_https': None, 'profile_background_tile': False, 'profile_image_url': 'http://pbs.twimg.com/profile_images/1095278737635987456/-Kchfg_h_normal.jpg', 'profile_image_url_https': 'https://pbs.twimg.com/profile_images/1095278737635987456/-Kchfg_h_normal.jpg', 'profile_banner_url': 'https://pbs.twimg.com/profile_banners/1095278599135883265/1556279447', 'profile_link_color': '1DA1F2', 'profile_sidebar_border_color': 'C0DEED', 'profile_sidebar_fill_color': 'DDEEF6', 'profile_text_color': '333333', 'profile_use_background_image': True, 'has_extended_profile': False, 'default_profile': True, 'default_profile_image': False, 'following': False, 'follow_request_sent': False, 'notifications': False, 'translator_type': 'none', 'withheld_in_countries': []}, 'geo': None, 'coordinates': None, 'place': None, 'contributors': None, 'is_quote_status': False, 'retweet_count': 0, 'favorite_count': 0, 'favorited': False, 'retweeted': False, 'possibly_sensitive': False, 'lang': 'en'}, created_at=datetime.datetime(2021, 5, 30, 6, 37, 39), id=1398891337433427968, id_str='1398891337433427968', full_text='PM CARES to support children orphaned owing to Covid\\n\\n#Covid19 #CovidPandemic #PMCaresFund #PMCares #NarendraModi #Dinalipi\\n\\n@narendramodi @PMOIndia\\n\\nhttps://t.co/iEeMsVJrzr', truncated=False, display_text_range=[0, 173], entities={'hashtags': [{'text': 'Covid19', 'indices': [54, 62]}, {'text': 'CovidPandemic', 'indices': [63, 77]}, {'text': 'PMCaresFund', 'indices': [78, 90]}, {'text': 'PMCares', 'indices': [91, 99]}, {'text': 'NarendraModi', 'indices': [100, 113]}, {'text': 'Dinalipi', 'indices': [114, 123]}], 'symbols': [], 'user_mentions': [{'screen_name': 'narendramodi', 'name': 'Narendra Modi', 'id': 18839785, 'id_str': '18839785', 'indices': [125, 138]}, {'screen_name': 'PMOIndia', 'name': 'PMO India', 'id': 471741741, 'id_str': '471741741', 'indices': [139, 148]}], 'urls': [{'url': 'https://t.co/iEeMsVJrzr', 'expanded_url': 'https://www.dinalipi.com/pm-cares-to-support-children-orphaned-owing-to-covid/', 'display_url': 'dinalipi.com/pm-cares-to-su…', 'indices': [150, 173]}]}, metadata={'iso_language_code': 'en', 'result_type': 'recent'}, source='Raven Tools', source_url='http://raventools.com/?utm_source=Twitter', in_reply_to_status_id=None, in_reply_to_status_id_str=None, in_reply_to_user_id=None, in_reply_to_user_id_str=None, in_reply_to_screen_name=None, author=User(_api=<tweepy.api.API object at 0x000001F4EFD5EFA0>, _json={'id': 1095278599135883265, 'id_str': '1095278599135883265', 'name': 'Dinalipi Online', 'screen_name': 'DinalipiOnline', 'location': 'Bhubaneshwar, India', 'description': 'The Dinalipi was first published in the year 1981. The Odia Daily is an unbiased and progressive newspaper.', 'url': 'https://t.co/WQ7RQ53rzD', 'entities': {'url': {'urls': [{'url': 'https://t.co/WQ7RQ53rzD', 'expanded_url': 'http://dinalipi.com/', 'display_url': 'dinalipi.com', 'indices': [0, 23]}]}, 'description': {'urls': []}}, 'protected': False, 'followers_count': 221, 'friends_count': 69, 'listed_count': 4, 'created_at': 'Tue Feb 12 11:09:02 +0000 2019', 'favourites_count': 54, 'utc_offset': None, 'time_zone': None, 'geo_enabled': False, 'verified': False, 'statuses_count': 6980, 'lang': None, 'contributors_enabled': False, 'is_translator': False, 'is_translation_enabled': False, 'profile_background_color': 'F5F8FA', 'profile_background_image_url': None, 'profile_background_image_url_https': None, 'profile_background_tile': False, 'profile_image_url': 'http://pbs.twimg.com/profile_images/1095278737635987456/-Kchfg_h_normal.jpg', 'profile_image_url_https': 'https://pbs.twimg.com/profile_images/1095278737635987456/-Kchfg_h_normal.jpg', 'profile_banner_url': 'https://pbs.twimg.com/profile_banners/1095278599135883265/1556279447', 'profile_link_color': '1DA1F2', 'profile_sidebar_border_color': 'C0DEED', 'profile_sidebar_fill_color': 'DDEEF6', 'profile_text_color': '333333', 'profile_use_background_image': True, 'has_extended_profile': False, 'default_profile': True, 'default_profile_image': False, 'following': False, 'follow_request_sent': False, 'notifications': False, 'translator_type': 'none', 'withheld_in_countries': []}, id=1095278599135883265, id_str='1095278599135883265', name='Dinalipi Online', screen_name='DinalipiOnline', location='Bhubaneshwar, India', description='The Dinalipi was first published in the year 1981. The Odia Daily is an unbiased and progressive newspaper.', url='https://t.co/WQ7RQ53rzD', entities={'url': {'urls': [{'url': 'https://t.co/WQ7RQ53rzD', 'expanded_url': 'http://dinalipi.com/', 'display_url': 'dinalipi.com', 'indices': [0, 23]}]}, 'description': {'urls': []}}, protected=False, followers_count=221, friends_count=69, listed_count=4, created_at=datetime.datetime(2019, 2, 12, 11, 9, 2), favourites_count=54, utc_offset=None, time_zone=None, geo_enabled=False, verified=False, statuses_count=6980, lang=None, contributors_enabled=False, is_translator=False, is_translation_enabled=False, profile_background_color='F5F8FA', profile_background_image_url=None, profile_background_image_url_https=None, profile_background_tile=False, profile_image_url='http://pbs.twimg.com/profile_images/1095278737635987456/-Kchfg_h_normal.jpg', profile_image_url_https='https://pbs.twimg.com/profile_images/1095278737635987456/-Kchfg_h_normal.jpg', profile_banner_url='https://pbs.twimg.com/profile_banners/1095278599135883265/1556279447', profile_link_color='1DA1F2', profile_sidebar_border_color='C0DEED', profile_sidebar_fill_color='DDEEF6', profile_text_color='333333', profile_use_background_image=True, has_extended_profile=False, default_profile=True, default_profile_image=False, following=False, follow_request_sent=False, notifications=False, translator_type='none', withheld_in_countries=[]), user=User(_api=<tweepy.api.API object at 0x000001F4EFD5EFA0>, _json={'id': 1095278599135883265, 'id_str': '1095278599135883265', 'name': 'Dinalipi Online', 'screen_name': 'DinalipiOnline', 'location': 'Bhubaneshwar, India', 'description': 'The Dinalipi was first published in the year 1981. The Odia Daily is an unbiased and progressive newspaper.', 'url': 'https://t.co/WQ7RQ53rzD', 'entities': {'url': {'urls': [{'url': 'https://t.co/WQ7RQ53rzD', 'expanded_url': 'http://dinalipi.com/', 'display_url': 'dinalipi.com', 'indices': [0, 23]}]}, 'description': {'urls': []}}, 'protected': False, 'followers_count': 221, 'friends_count': 69, 'listed_count': 4, 'created_at': 'Tue Feb 12 11:09:02 +0000 2019', 'favourites_count': 54, 'utc_offset': None, 'time_zone': None, 'geo_enabled': False, 'verified': False, 'statuses_count': 6980, 'lang': None, 'contributors_enabled': False, 'is_translator': False, 'is_translation_enabled': False, 'profile_background_color': 'F5F8FA', 'profile_background_image_url': None, 'profile_background_image_url_https': None, 'profile_background_tile': False, 'profile_image_url': 'http://pbs.twimg.com/profile_images/1095278737635987456/-Kchfg_h_normal.jpg', 'profile_image_url_https': 'https://pbs.twimg.com/profile_images/1095278737635987456/-Kchfg_h_normal.jpg', 'profile_banner_url': 'https://pbs.twimg.com/profile_banners/1095278599135883265/1556279447', 'profile_link_color': '1DA1F2', 'profile_sidebar_border_color': 'C0DEED', 'profile_sidebar_fill_color': 'DDEEF6', 'profile_text_color': '333333', 'profile_use_background_image': True, 'has_extended_profile': False, 'default_profile': True, 'default_profile_image': False, 'following': False, 'follow_request_sent': False, 'notifications': False, 'translator_type': 'none', 'withheld_in_countries': []}, id=1095278599135883265, id_str='1095278599135883265', name='Dinalipi Online', screen_name='DinalipiOnline', location='Bhubaneshwar, India', description='The Dinalipi was first published in the year 1981. The Odia Daily is an unbiased and progressive newspaper.', url='https://t.co/WQ7RQ53rzD', entities={'url': {'urls': [{'url': 'https://t.co/WQ7RQ53rzD', 'expanded_url': 'http://dinalipi.com/', 'display_url': 'dinalipi.com', 'indices': [0, 23]}]}, 'description': {'urls': []}}, protected=False, followers_count=221, friends_count=69, listed_count=4, created_at=datetime.datetime(2019, 2, 12, 11, 9, 2), favourites_count=54, utc_offset=None, time_zone=None, geo_enabled=False, verified=False, statuses_count=6980, lang=None, contributors_enabled=False, is_translator=False, is_translation_enabled=False, profile_background_color='F5F8FA', profile_background_image_url=None, profile_background_image_url_https=None, profile_background_tile=False, profile_image_url='http://pbs.twimg.com/profile_images/1095278737635987456/-Kchfg_h_normal.jpg', profile_image_url_https='https://pbs.twimg.com/profile_images/1095278737635987456/-Kchfg_h_normal.jpg', profile_banner_url='https://pbs.twimg.com/profile_banners/1095278599135883265/1556279447', profile_link_color='1DA1F2', profile_sidebar_border_color='C0DEED', profile_sidebar_fill_color='DDEEF6', profile_text_color='333333', profile_use_background_image=True, has_extended_profile=False, default_profile=True, default_profile_image=False, following=False, follow_request_sent=False, notifications=False, translator_type='none', withheld_in_countries=[]), geo=None, coordinates=None, place=None, contributors=None, is_quote_status=False, retweet_count=0, favorite_count=0, favorited=False, retweeted=False, possibly_sensitive=False, lang='en') \n",
      "\n",
      ".....................................\n",
      "\n",
      "Status(_api=<tweepy.api.API object at 0x000001F4EFD5EFA0>, _json={'created_at': 'Sun May 30 06:36:32 +0000 2021', 'id': 1398891055710232578, 'id_str': '1398891055710232578', 'full_text': '#PMCaresFund fund ki detail share karo', 'truncated': False, 'display_text_range': [0, 38], 'entities': {'hashtags': [{'text': 'PMCaresFund', 'indices': [0, 12]}], 'symbols': [], 'user_mentions': [], 'urls': []}, 'metadata': {'iso_language_code': 'en', 'result_type': 'recent'}, 'source': '<a href=\"http://twitter.com/download/android\" rel=\"nofollow\">Twitter for Android</a>', 'in_reply_to_status_id': None, 'in_reply_to_status_id_str': None, 'in_reply_to_user_id': None, 'in_reply_to_user_id_str': None, 'in_reply_to_screen_name': None, 'user': {'id': 1183257227672506368, 'id_str': '1183257227672506368', 'name': 'SHAHRUKH', 'screen_name': 'SHAHRUK89273949', 'location': '', 'description': '', 'url': None, 'entities': {'description': {'urls': []}}, 'protected': False, 'followers_count': 4, 'friends_count': 103, 'listed_count': 0, 'created_at': 'Sun Oct 13 05:44:51 +0000 2019', 'favourites_count': 377, 'utc_offset': None, 'time_zone': None, 'geo_enabled': False, 'verified': False, 'statuses_count': 60, 'lang': None, 'contributors_enabled': False, 'is_translator': False, 'is_translation_enabled': False, 'profile_background_color': 'F5F8FA', 'profile_background_image_url': None, 'profile_background_image_url_https': None, 'profile_background_tile': False, 'profile_image_url': 'http://pbs.twimg.com/profile_images/1183257599585636352/74PoZfWl_normal.jpg', 'profile_image_url_https': 'https://pbs.twimg.com/profile_images/1183257599585636352/74PoZfWl_normal.jpg', 'profile_link_color': '1DA1F2', 'profile_sidebar_border_color': 'C0DEED', 'profile_sidebar_fill_color': 'DDEEF6', 'profile_text_color': '333333', 'profile_use_background_image': True, 'has_extended_profile': False, 'default_profile': True, 'default_profile_image': False, 'following': False, 'follow_request_sent': False, 'notifications': False, 'translator_type': 'none', 'withheld_in_countries': []}, 'geo': None, 'coordinates': None, 'place': None, 'contributors': None, 'is_quote_status': False, 'retweet_count': 0, 'favorite_count': 0, 'favorited': False, 'retweeted': False, 'lang': 'en'}, created_at=datetime.datetime(2021, 5, 30, 6, 36, 32), id=1398891055710232578, id_str='1398891055710232578', full_text='#PMCaresFund fund ki detail share karo', truncated=False, display_text_range=[0, 38], entities={'hashtags': [{'text': 'PMCaresFund', 'indices': [0, 12]}], 'symbols': [], 'user_mentions': [], 'urls': []}, metadata={'iso_language_code': 'en', 'result_type': 'recent'}, source='Twitter for Android', source_url='http://twitter.com/download/android', in_reply_to_status_id=None, in_reply_to_status_id_str=None, in_reply_to_user_id=None, in_reply_to_user_id_str=None, in_reply_to_screen_name=None, author=User(_api=<tweepy.api.API object at 0x000001F4EFD5EFA0>, _json={'id': 1183257227672506368, 'id_str': '1183257227672506368', 'name': 'SHAHRUKH', 'screen_name': 'SHAHRUK89273949', 'location': '', 'description': '', 'url': None, 'entities': {'description': {'urls': []}}, 'protected': False, 'followers_count': 4, 'friends_count': 103, 'listed_count': 0, 'created_at': 'Sun Oct 13 05:44:51 +0000 2019', 'favourites_count': 377, 'utc_offset': None, 'time_zone': None, 'geo_enabled': False, 'verified': False, 'statuses_count': 60, 'lang': None, 'contributors_enabled': False, 'is_translator': False, 'is_translation_enabled': False, 'profile_background_color': 'F5F8FA', 'profile_background_image_url': None, 'profile_background_image_url_https': None, 'profile_background_tile': False, 'profile_image_url': 'http://pbs.twimg.com/profile_images/1183257599585636352/74PoZfWl_normal.jpg', 'profile_image_url_https': 'https://pbs.twimg.com/profile_images/1183257599585636352/74PoZfWl_normal.jpg', 'profile_link_color': '1DA1F2', 'profile_sidebar_border_color': 'C0DEED', 'profile_sidebar_fill_color': 'DDEEF6', 'profile_text_color': '333333', 'profile_use_background_image': True, 'has_extended_profile': False, 'default_profile': True, 'default_profile_image': False, 'following': False, 'follow_request_sent': False, 'notifications': False, 'translator_type': 'none', 'withheld_in_countries': []}, id=1183257227672506368, id_str='1183257227672506368', name='SHAHRUKH', screen_name='SHAHRUK89273949', location='', description='', url=None, entities={'description': {'urls': []}}, protected=False, followers_count=4, friends_count=103, listed_count=0, created_at=datetime.datetime(2019, 10, 13, 5, 44, 51), favourites_count=377, utc_offset=None, time_zone=None, geo_enabled=False, verified=False, statuses_count=60, lang=None, contributors_enabled=False, is_translator=False, is_translation_enabled=False, profile_background_color='F5F8FA', profile_background_image_url=None, profile_background_image_url_https=None, profile_background_tile=False, profile_image_url='http://pbs.twimg.com/profile_images/1183257599585636352/74PoZfWl_normal.jpg', profile_image_url_https='https://pbs.twimg.com/profile_images/1183257599585636352/74PoZfWl_normal.jpg', profile_link_color='1DA1F2', profile_sidebar_border_color='C0DEED', profile_sidebar_fill_color='DDEEF6', profile_text_color='333333', profile_use_background_image=True, has_extended_profile=False, default_profile=True, default_profile_image=False, following=False, follow_request_sent=False, notifications=False, translator_type='none', withheld_in_countries=[]), user=User(_api=<tweepy.api.API object at 0x000001F4EFD5EFA0>, _json={'id': 1183257227672506368, 'id_str': '1183257227672506368', 'name': 'SHAHRUKH', 'screen_name': 'SHAHRUK89273949', 'location': '', 'description': '', 'url': None, 'entities': {'description': {'urls': []}}, 'protected': False, 'followers_count': 4, 'friends_count': 103, 'listed_count': 0, 'created_at': 'Sun Oct 13 05:44:51 +0000 2019', 'favourites_count': 377, 'utc_offset': None, 'time_zone': None, 'geo_enabled': False, 'verified': False, 'statuses_count': 60, 'lang': None, 'contributors_enabled': False, 'is_translator': False, 'is_translation_enabled': False, 'profile_background_color': 'F5F8FA', 'profile_background_image_url': None, 'profile_background_image_url_https': None, 'profile_background_tile': False, 'profile_image_url': 'http://pbs.twimg.com/profile_images/1183257599585636352/74PoZfWl_normal.jpg', 'profile_image_url_https': 'https://pbs.twimg.com/profile_images/1183257599585636352/74PoZfWl_normal.jpg', 'profile_link_color': '1DA1F2', 'profile_sidebar_border_color': 'C0DEED', 'profile_sidebar_fill_color': 'DDEEF6', 'profile_text_color': '333333', 'profile_use_background_image': True, 'has_extended_profile': False, 'default_profile': True, 'default_profile_image': False, 'following': False, 'follow_request_sent': False, 'notifications': False, 'translator_type': 'none', 'withheld_in_countries': []}, id=1183257227672506368, id_str='1183257227672506368', name='SHAHRUKH', screen_name='SHAHRUK89273949', location='', description='', url=None, entities={'description': {'urls': []}}, protected=False, followers_count=4, friends_count=103, listed_count=0, created_at=datetime.datetime(2019, 10, 13, 5, 44, 51), favourites_count=377, utc_offset=None, time_zone=None, geo_enabled=False, verified=False, statuses_count=60, lang=None, contributors_enabled=False, is_translator=False, is_translation_enabled=False, profile_background_color='F5F8FA', profile_background_image_url=None, profile_background_image_url_https=None, profile_background_tile=False, profile_image_url='http://pbs.twimg.com/profile_images/1183257599585636352/74PoZfWl_normal.jpg', profile_image_url_https='https://pbs.twimg.com/profile_images/1183257599585636352/74PoZfWl_normal.jpg', profile_link_color='1DA1F2', profile_sidebar_border_color='C0DEED', profile_sidebar_fill_color='DDEEF6', profile_text_color='333333', profile_use_background_image=True, has_extended_profile=False, default_profile=True, default_profile_image=False, following=False, follow_request_sent=False, notifications=False, translator_type='none', withheld_in_countries=[]), geo=None, coordinates=None, place=None, contributors=None, is_quote_status=False, retweet_count=0, favorite_count=0, favorited=False, retweeted=False, lang='en') \n",
      "\n",
      ".....................................\n",
      "\n"
     ]
    }
   ],
   "source": [
    "Tweets = api.search( query , count=10 , lang='en' , exclude='retweets' , tweet_mode='extended' )\n",
    "# tweet_mode='extended'\n",
    "# tweet_mode='compat'\n",
    "\n",
    "for tweet in Tweets:\n",
    "    print(tweet,\"\\n\")\n",
    "    print(\".....................................\\n\")"
   ]
  },
  {
   "cell_type": "code",
   "execution_count": 8,
   "id": "a3c0b9d2",
   "metadata": {},
   "outputs": [
    {
     "name": "stdout",
     "output_type": "stream",
     "text": [
      "Empty DataFrame\n",
      "Columns: [Tweets, User, User_statuses_count, user_followers, User_location, User_verified, fav_count, rt_count, tweet_date]\n",
      "Index: []\n"
     ]
    }
   ],
   "source": [
    "df = pd.DataFrame(columns = ['Tweets' , 'User' , 'User_statuses_count' , \n",
    "                            'user_followers' , 'User_location' , 'User_verified' ,\n",
    "                            'fav_count' , 'rt_count' , 'tweet_date'] )\n",
    "print(df)\n"
   ]
  },
  {
   "cell_type": "code",
   "execution_count": 9,
   "id": "3e325f2e",
   "metadata": {},
   "outputs": [],
   "source": [
    "def stream(data):\n",
    "    i = 0\n",
    "    for tweet in tweepy.Cursor(api.search, q=data, count=100, lang='en').items():\n",
    "        print(i, end='\\r')\n",
    "        df.loc[i, 'Tweets'] = tweet.text\n",
    "        df.loc[i, 'User'] = tweet.user.name\n",
    "        df.loc[i, 'User_statuses_count'] = tweet.user.statuses_count\n",
    "        df.loc[i, 'user_followers'] = tweet.user.followers_count\n",
    "        df.loc[i, 'User_location'] = tweet.user.location\n",
    "        df.loc[i, 'User_verified'] = tweet.user.verified\n",
    "        df.loc[i, 'fav_count'] = tweet.favorite_count\n",
    "        df.loc[i, 'rt_count'] = tweet.retweet_count\n",
    "        df.loc[i, 'tweet_date'] = tweet.created_at\n",
    "        \n",
    "        i = i+1\n",
    "        if i == 1000:\n",
    "            break\n",
    "        else:\n",
    "            pass"
   ]
  },
  {
   "cell_type": "code",
   "execution_count": 10,
   "id": "42dc2da5",
   "metadata": {},
   "outputs": [
    {
     "name": "stdout",
     "output_type": "stream",
     "text": [
      "999\r"
     ]
    }
   ],
   "source": [
    "stream(data=[\"PMCaresFund\"])"
   ]
  },
  {
   "cell_type": "code",
   "execution_count": 11,
   "id": "927928ae",
   "metadata": {},
   "outputs": [
    {
     "data": {
      "text/html": [
       "<div>\n",
       "<style scoped>\n",
       "    .dataframe tbody tr th:only-of-type {\n",
       "        vertical-align: middle;\n",
       "    }\n",
       "\n",
       "    .dataframe tbody tr th {\n",
       "        vertical-align: top;\n",
       "    }\n",
       "\n",
       "    .dataframe thead th {\n",
       "        text-align: right;\n",
       "    }\n",
       "</style>\n",
       "<table border=\"1\" class=\"dataframe\">\n",
       "  <thead>\n",
       "    <tr style=\"text-align: right;\">\n",
       "      <th></th>\n",
       "      <th>Tweets</th>\n",
       "      <th>User</th>\n",
       "      <th>User_statuses_count</th>\n",
       "      <th>user_followers</th>\n",
       "      <th>User_location</th>\n",
       "      <th>User_verified</th>\n",
       "      <th>fav_count</th>\n",
       "      <th>rt_count</th>\n",
       "      <th>tweet_date</th>\n",
       "    </tr>\n",
       "  </thead>\n",
       "  <tbody>\n",
       "    <tr>\n",
       "      <th>0</th>\n",
       "      <td>RT @lindanewmai: PM Modi Ji announced that all...</td>\n",
       "      <td>Team Ravula Bharath Reddy</td>\n",
       "      <td>32710</td>\n",
       "      <td>336</td>\n",
       "      <td></td>\n",
       "      <td>False</td>\n",
       "      <td>0</td>\n",
       "      <td>46</td>\n",
       "      <td>2021-05-30 07:04:48</td>\n",
       "    </tr>\n",
       "    <tr>\n",
       "      <th>1</th>\n",
       "      <td>PM Modi launches PM CARES for Children Scheme:...</td>\n",
       "      <td>Nandini</td>\n",
       "      <td>1290</td>\n",
       "      <td>550</td>\n",
       "      <td>New Delhi, India</td>\n",
       "      <td>False</td>\n",
       "      <td>0</td>\n",
       "      <td>0</td>\n",
       "      <td>2021-05-30 07:04:37</td>\n",
       "    </tr>\n",
       "    <tr>\n",
       "      <th>2</th>\n",
       "      <td>RT @dpradhanbjp: Govt. under the leadership of...</td>\n",
       "      <td>Asish Nayak</td>\n",
       "      <td>7098</td>\n",
       "      <td>39</td>\n",
       "      <td></td>\n",
       "      <td>False</td>\n",
       "      <td>0</td>\n",
       "      <td>58</td>\n",
       "      <td>2021-05-30 07:04:30</td>\n",
       "    </tr>\n",
       "    <tr>\n",
       "      <th>3</th>\n",
       "      <td>RT @MrsGandhi: Children below the age of 18yrs...</td>\n",
       "      <td>Sanatana</td>\n",
       "      <td>52775</td>\n",
       "      <td>429</td>\n",
       "      <td>India</td>\n",
       "      <td>False</td>\n",
       "      <td>0</td>\n",
       "      <td>634</td>\n",
       "      <td>2021-05-30 07:04:18</td>\n",
       "    </tr>\n",
       "    <tr>\n",
       "      <th>4</th>\n",
       "      <td>RT @MrsYNV: Hahaha🤣😂..\\n\\n Unfortunately.. \\n\\...</td>\n",
       "      <td>Sourav Kundu</td>\n",
       "      <td>42515</td>\n",
       "      <td>6638</td>\n",
       "      <td>Kolkata, India</td>\n",
       "      <td>False</td>\n",
       "      <td>0</td>\n",
       "      <td>29</td>\n",
       "      <td>2021-05-30 07:04:11</td>\n",
       "    </tr>\n",
       "  </tbody>\n",
       "</table>\n",
       "</div>"
      ],
      "text/plain": [
       "                                              Tweets  \\\n",
       "0  RT @lindanewmai: PM Modi Ji announced that all...   \n",
       "1  PM Modi launches PM CARES for Children Scheme:...   \n",
       "2  RT @dpradhanbjp: Govt. under the leadership of...   \n",
       "3  RT @MrsGandhi: Children below the age of 18yrs...   \n",
       "4  RT @MrsYNV: Hahaha🤣😂..\\n\\n Unfortunately.. \\n\\...   \n",
       "\n",
       "                        User User_statuses_count user_followers  \\\n",
       "0  Team Ravula Bharath Reddy               32710            336   \n",
       "1                    Nandini                1290            550   \n",
       "2                Asish Nayak                7098             39   \n",
       "3                   Sanatana               52775            429   \n",
       "4               Sourav Kundu               42515           6638   \n",
       "\n",
       "      User_location User_verified fav_count rt_count           tweet_date  \n",
       "0                           False         0       46  2021-05-30 07:04:48  \n",
       "1  New Delhi, India         False         0        0  2021-05-30 07:04:37  \n",
       "2                           False         0       58  2021-05-30 07:04:30  \n",
       "3            India          False         0      634  2021-05-30 07:04:18  \n",
       "4    Kolkata, India         False         0       29  2021-05-30 07:04:11  "
      ]
     },
     "execution_count": 11,
     "metadata": {},
     "output_type": "execute_result"
    }
   ],
   "source": [
    "df.head()"
   ]
  },
  {
   "cell_type": "code",
   "execution_count": 12,
   "id": "ccf14a0b",
   "metadata": {},
   "outputs": [],
   "source": [
    "df.to_excel(\"pmcares.xlsx\")"
   ]
  },
  {
   "cell_type": "code",
   "execution_count": 13,
   "id": "27731700",
   "metadata": {},
   "outputs": [
    {
     "name": "stdout",
     "output_type": "stream",
     "text": [
      "Requirement already satisfied: textblob in c:\\users\\sathv\\anaconda3\\lib\\site-packages (0.15.3)\n",
      "Requirement already satisfied: nltk>=3.1 in c:\\users\\sathv\\anaconda3\\lib\\site-packages (from textblob) (3.6.1)\n",
      "Requirement already satisfied: joblib in c:\\users\\sathv\\anaconda3\\lib\\site-packages (from nltk>=3.1->textblob) (1.0.1)\n",
      "Requirement already satisfied: click in c:\\users\\sathv\\anaconda3\\lib\\site-packages (from nltk>=3.1->textblob) (7.1.2)\n",
      "Requirement already satisfied: regex in c:\\users\\sathv\\anaconda3\\lib\\site-packages (from nltk>=3.1->textblob) (2021.4.4)\n",
      "Requirement already satisfied: tqdm in c:\\users\\sathv\\anaconda3\\lib\\site-packages (from nltk>=3.1->textblob) (4.59.0)\n"
     ]
    }
   ],
   "source": [
    "!pip install textblob"
   ]
  },
  {
   "cell_type": "code",
   "execution_count": 14,
   "id": "3ff62080",
   "metadata": {},
   "outputs": [],
   "source": [
    "from textblob import TextBlob"
   ]
  },
  {
   "cell_type": "code",
   "execution_count": 15,
   "id": "1cee9765",
   "metadata": {},
   "outputs": [],
   "source": [
    "import re\n",
    "def clean_tweet(tweet):\n",
    "    return ' '.join(re.sub('(@[A-Za-z0-9]+)|([^0-9A-Za-z \\t])|(\\w+:\\/\\/\\S+)', ' ', tweet).split())"
   ]
  },
  {
   "cell_type": "code",
   "execution_count": 16,
   "id": "01c60bc4",
   "metadata": {},
   "outputs": [],
   "source": [
    "def analyze_sentiment(tweet):\n",
    "    analysis = TextBlob(tweet)\n",
    "    if analysis.sentiment.polarity > 0:\n",
    "        return 'Positive'\n",
    "    elif analysis.sentiment.polarity == 0:\n",
    "        return 'Neutral'\n",
    "    else:\n",
    "        return 'Negative'"
   ]
  },
  {
   "cell_type": "code",
   "execution_count": 17,
   "id": "47ae087f",
   "metadata": {},
   "outputs": [],
   "source": [
    "df['clean_tweet'] = df['Tweets'].apply(lambda x : clean_tweet(x))"
   ]
  },
  {
   "cell_type": "code",
   "execution_count": 18,
   "id": "ec04e2a5",
   "metadata": {},
   "outputs": [
    {
     "data": {
      "text/html": [
       "<div>\n",
       "<style scoped>\n",
       "    .dataframe tbody tr th:only-of-type {\n",
       "        vertical-align: middle;\n",
       "    }\n",
       "\n",
       "    .dataframe tbody tr th {\n",
       "        vertical-align: top;\n",
       "    }\n",
       "\n",
       "    .dataframe thead th {\n",
       "        text-align: right;\n",
       "    }\n",
       "</style>\n",
       "<table border=\"1\" class=\"dataframe\">\n",
       "  <thead>\n",
       "    <tr style=\"text-align: right;\">\n",
       "      <th></th>\n",
       "      <th>Tweets</th>\n",
       "      <th>User</th>\n",
       "      <th>User_statuses_count</th>\n",
       "      <th>user_followers</th>\n",
       "      <th>User_location</th>\n",
       "      <th>User_verified</th>\n",
       "      <th>fav_count</th>\n",
       "      <th>rt_count</th>\n",
       "      <th>tweet_date</th>\n",
       "      <th>clean_tweet</th>\n",
       "    </tr>\n",
       "  </thead>\n",
       "  <tbody>\n",
       "    <tr>\n",
       "      <th>0</th>\n",
       "      <td>RT @lindanewmai: PM Modi Ji announced that all...</td>\n",
       "      <td>Team Ravula Bharath Reddy</td>\n",
       "      <td>32710</td>\n",
       "      <td>336</td>\n",
       "      <td></td>\n",
       "      <td>False</td>\n",
       "      <td>0</td>\n",
       "      <td>46</td>\n",
       "      <td>2021-05-30 07:04:48</td>\n",
       "      <td>RT PM Modi Ji announced that all children who ...</td>\n",
       "    </tr>\n",
       "    <tr>\n",
       "      <th>1</th>\n",
       "      <td>PM Modi launches PM CARES for Children Scheme:...</td>\n",
       "      <td>Nandini</td>\n",
       "      <td>1290</td>\n",
       "      <td>550</td>\n",
       "      <td>New Delhi, India</td>\n",
       "      <td>False</td>\n",
       "      <td>0</td>\n",
       "      <td>0</td>\n",
       "      <td>2021-05-30 07:04:37</td>\n",
       "      <td>PM Modi launches PM CARES for Children Scheme ...</td>\n",
       "    </tr>\n",
       "    <tr>\n",
       "      <th>2</th>\n",
       "      <td>RT @dpradhanbjp: Govt. under the leadership of...</td>\n",
       "      <td>Asish Nayak</td>\n",
       "      <td>7098</td>\n",
       "      <td>39</td>\n",
       "      <td></td>\n",
       "      <td>False</td>\n",
       "      <td>0</td>\n",
       "      <td>58</td>\n",
       "      <td>2021-05-30 07:04:30</td>\n",
       "      <td>RT Govt under the leadership of PM Modi will d...</td>\n",
       "    </tr>\n",
       "    <tr>\n",
       "      <th>3</th>\n",
       "      <td>RT @MrsGandhi: Children below the age of 18yrs...</td>\n",
       "      <td>Sanatana</td>\n",
       "      <td>52775</td>\n",
       "      <td>429</td>\n",
       "      <td>India</td>\n",
       "      <td>False</td>\n",
       "      <td>0</td>\n",
       "      <td>634</td>\n",
       "      <td>2021-05-30 07:04:18</td>\n",
       "      <td>RT Children below the age of 18yrs who have lo...</td>\n",
       "    </tr>\n",
       "    <tr>\n",
       "      <th>4</th>\n",
       "      <td>RT @MrsYNV: Hahaha🤣😂..\\n\\n Unfortunately.. \\n\\...</td>\n",
       "      <td>Sourav Kundu</td>\n",
       "      <td>42515</td>\n",
       "      <td>6638</td>\n",
       "      <td>Kolkata, India</td>\n",
       "      <td>False</td>\n",
       "      <td>0</td>\n",
       "      <td>29</td>\n",
       "      <td>2021-05-30 07:04:11</td>\n",
       "      <td>RT Hahaha Unfortunately PMCaresFund is a Gover...</td>\n",
       "    </tr>\n",
       "  </tbody>\n",
       "</table>\n",
       "</div>"
      ],
      "text/plain": [
       "                                              Tweets  \\\n",
       "0  RT @lindanewmai: PM Modi Ji announced that all...   \n",
       "1  PM Modi launches PM CARES for Children Scheme:...   \n",
       "2  RT @dpradhanbjp: Govt. under the leadership of...   \n",
       "3  RT @MrsGandhi: Children below the age of 18yrs...   \n",
       "4  RT @MrsYNV: Hahaha🤣😂..\\n\\n Unfortunately.. \\n\\...   \n",
       "\n",
       "                        User User_statuses_count user_followers  \\\n",
       "0  Team Ravula Bharath Reddy               32710            336   \n",
       "1                    Nandini                1290            550   \n",
       "2                Asish Nayak                7098             39   \n",
       "3                   Sanatana               52775            429   \n",
       "4               Sourav Kundu               42515           6638   \n",
       "\n",
       "      User_location User_verified fav_count rt_count           tweet_date  \\\n",
       "0                           False         0       46  2021-05-30 07:04:48   \n",
       "1  New Delhi, India         False         0        0  2021-05-30 07:04:37   \n",
       "2                           False         0       58  2021-05-30 07:04:30   \n",
       "3            India          False         0      634  2021-05-30 07:04:18   \n",
       "4    Kolkata, India         False         0       29  2021-05-30 07:04:11   \n",
       "\n",
       "                                         clean_tweet  \n",
       "0  RT PM Modi Ji announced that all children who ...  \n",
       "1  PM Modi launches PM CARES for Children Scheme ...  \n",
       "2  RT Govt under the leadership of PM Modi will d...  \n",
       "3  RT Children below the age of 18yrs who have lo...  \n",
       "4  RT Hahaha Unfortunately PMCaresFund is a Gover...  "
      ]
     },
     "execution_count": 18,
     "metadata": {},
     "output_type": "execute_result"
    }
   ],
   "source": [
    "df.head()"
   ]
  },
  {
   "cell_type": "code",
   "execution_count": 19,
   "id": "a83315a3",
   "metadata": {},
   "outputs": [
    {
     "data": {
      "text/html": [
       "<div>\n",
       "<style scoped>\n",
       "    .dataframe tbody tr th:only-of-type {\n",
       "        vertical-align: middle;\n",
       "    }\n",
       "\n",
       "    .dataframe tbody tr th {\n",
       "        vertical-align: top;\n",
       "    }\n",
       "\n",
       "    .dataframe thead th {\n",
       "        text-align: right;\n",
       "    }\n",
       "</style>\n",
       "<table border=\"1\" class=\"dataframe\">\n",
       "  <thead>\n",
       "    <tr style=\"text-align: right;\">\n",
       "      <th></th>\n",
       "      <th>Tweets</th>\n",
       "      <th>User</th>\n",
       "      <th>User_statuses_count</th>\n",
       "      <th>user_followers</th>\n",
       "      <th>User_location</th>\n",
       "      <th>User_verified</th>\n",
       "      <th>fav_count</th>\n",
       "      <th>rt_count</th>\n",
       "      <th>tweet_date</th>\n",
       "      <th>clean_tweet</th>\n",
       "      <th>Sentiment</th>\n",
       "    </tr>\n",
       "  </thead>\n",
       "  <tbody>\n",
       "    <tr>\n",
       "      <th>0</th>\n",
       "      <td>RT @lindanewmai: PM Modi Ji announced that all...</td>\n",
       "      <td>Team Ravula Bharath Reddy</td>\n",
       "      <td>32710</td>\n",
       "      <td>336</td>\n",
       "      <td></td>\n",
       "      <td>False</td>\n",
       "      <td>0</td>\n",
       "      <td>46</td>\n",
       "      <td>2021-05-30 07:04:48</td>\n",
       "      <td>RT PM Modi Ji announced that all children who ...</td>\n",
       "      <td>Negative</td>\n",
       "    </tr>\n",
       "    <tr>\n",
       "      <th>1</th>\n",
       "      <td>PM Modi launches PM CARES for Children Scheme:...</td>\n",
       "      <td>Nandini</td>\n",
       "      <td>1290</td>\n",
       "      <td>550</td>\n",
       "      <td>New Delhi, India</td>\n",
       "      <td>False</td>\n",
       "      <td>0</td>\n",
       "      <td>0</td>\n",
       "      <td>2021-05-30 07:04:37</td>\n",
       "      <td>PM Modi launches PM CARES for Children Scheme ...</td>\n",
       "      <td>Positive</td>\n",
       "    </tr>\n",
       "    <tr>\n",
       "      <th>2</th>\n",
       "      <td>RT @dpradhanbjp: Govt. under the leadership of...</td>\n",
       "      <td>Asish Nayak</td>\n",
       "      <td>7098</td>\n",
       "      <td>39</td>\n",
       "      <td></td>\n",
       "      <td>False</td>\n",
       "      <td>0</td>\n",
       "      <td>58</td>\n",
       "      <td>2021-05-30 07:04:30</td>\n",
       "      <td>RT Govt under the leadership of PM Modi will d...</td>\n",
       "      <td>Neutral</td>\n",
       "    </tr>\n",
       "    <tr>\n",
       "      <th>3</th>\n",
       "      <td>RT @MrsGandhi: Children below the age of 18yrs...</td>\n",
       "      <td>Sanatana</td>\n",
       "      <td>52775</td>\n",
       "      <td>429</td>\n",
       "      <td>India</td>\n",
       "      <td>False</td>\n",
       "      <td>0</td>\n",
       "      <td>634</td>\n",
       "      <td>2021-05-30 07:04:18</td>\n",
       "      <td>RT Children below the age of 18yrs who have lo...</td>\n",
       "      <td>Positive</td>\n",
       "    </tr>\n",
       "    <tr>\n",
       "      <th>4</th>\n",
       "      <td>RT @MrsYNV: Hahaha🤣😂..\\n\\n Unfortunately.. \\n\\...</td>\n",
       "      <td>Sourav Kundu</td>\n",
       "      <td>42515</td>\n",
       "      <td>6638</td>\n",
       "      <td>Kolkata, India</td>\n",
       "      <td>False</td>\n",
       "      <td>0</td>\n",
       "      <td>29</td>\n",
       "      <td>2021-05-30 07:04:11</td>\n",
       "      <td>RT Hahaha Unfortunately PMCaresFund is a Gover...</td>\n",
       "      <td>Negative</td>\n",
       "    </tr>\n",
       "  </tbody>\n",
       "</table>\n",
       "</div>"
      ],
      "text/plain": [
       "                                              Tweets  \\\n",
       "0  RT @lindanewmai: PM Modi Ji announced that all...   \n",
       "1  PM Modi launches PM CARES for Children Scheme:...   \n",
       "2  RT @dpradhanbjp: Govt. under the leadership of...   \n",
       "3  RT @MrsGandhi: Children below the age of 18yrs...   \n",
       "4  RT @MrsYNV: Hahaha🤣😂..\\n\\n Unfortunately.. \\n\\...   \n",
       "\n",
       "                        User User_statuses_count user_followers  \\\n",
       "0  Team Ravula Bharath Reddy               32710            336   \n",
       "1                    Nandini                1290            550   \n",
       "2                Asish Nayak                7098             39   \n",
       "3                   Sanatana               52775            429   \n",
       "4               Sourav Kundu               42515           6638   \n",
       "\n",
       "      User_location User_verified fav_count rt_count           tweet_date  \\\n",
       "0                           False         0       46  2021-05-30 07:04:48   \n",
       "1  New Delhi, India         False         0        0  2021-05-30 07:04:37   \n",
       "2                           False         0       58  2021-05-30 07:04:30   \n",
       "3            India          False         0      634  2021-05-30 07:04:18   \n",
       "4    Kolkata, India         False         0       29  2021-05-30 07:04:11   \n",
       "\n",
       "                                         clean_tweet Sentiment  \n",
       "0  RT PM Modi Ji announced that all children who ...  Negative  \n",
       "1  PM Modi launches PM CARES for Children Scheme ...  Positive  \n",
       "2  RT Govt under the leadership of PM Modi will d...   Neutral  \n",
       "3  RT Children below the age of 18yrs who have lo...  Positive  \n",
       "4  RT Hahaha Unfortunately PMCaresFund is a Gover...  Negative  "
      ]
     },
     "execution_count": 19,
     "metadata": {},
     "output_type": "execute_result"
    }
   ],
   "source": [
    "df['Sentiment'] = df['clean_tweet'].apply(lambda x : analyze_sentiment(x) )\n",
    "df.head()"
   ]
  },
  {
   "cell_type": "code",
   "execution_count": 20,
   "id": "616815f9",
   "metadata": {},
   "outputs": [
    {
     "data": {
      "text/plain": [
       "Neutral     397\n",
       "Positive    397\n",
       "Negative    206\n",
       "Name: Sentiment, dtype: int64"
      ]
     },
     "execution_count": 20,
     "metadata": {},
     "output_type": "execute_result"
    }
   ],
   "source": [
    "df['Sentiment'].value_counts()"
   ]
  },
  {
   "cell_type": "code",
   "execution_count": 21,
   "id": "52b15559",
   "metadata": {},
   "outputs": [],
   "source": [
    "df1=df[df['Sentiment']=='Negative']"
   ]
  },
  {
   "cell_type": "code",
   "execution_count": 22,
   "id": "af43418a",
   "metadata": {},
   "outputs": [
    {
     "name": "stdout",
     "output_type": "stream",
     "text": [
      "Original tweet:\n",
      " RT @lindanewmai: PM Modi Ji announced that all children who have lost both parents or guardian due to #COVID19 will be supported under ‘PM-…\n",
      "\n",
      "Clean tweet:\n",
      " RT PM Modi Ji announced that all children who have lost both parents or guardian due to COVID19 will be supported under PM\n",
      "\n",
      "Sentiment of the tweet:\n",
      " Negative\n"
     ]
    }
   ],
   "source": [
    "n = 57\n",
    "print(\"Original tweet:\\n\",df1['Tweets'][n])\n",
    "print()\n",
    "print(\"Clean tweet:\\n\",df1['clean_tweet'][n])\n",
    "print()\n",
    "print(\"Sentiment of the tweet:\\n\",df1['Sentiment'][n])"
   ]
  },
  {
   "cell_type": "code",
   "execution_count": 23,
   "id": "cc72a91c",
   "metadata": {},
   "outputs": [],
   "source": [
    "df1.reset_index(inplace=True)"
   ]
  },
  {
   "cell_type": "code",
   "execution_count": 26,
   "id": "8bd5789c",
   "metadata": {},
   "outputs": [
    {
     "data": {
      "text/plain": [
       "(array([206.,   0.,   0.,   0.,   0., 397.,   0.,   0.,   0., 397.]),\n",
       " array([0. , 0.2, 0.4, 0.6, 0.8, 1. , 1.2, 1.4, 1.6, 1.8, 2. ]),\n",
       " <BarContainer object of 10 artists>)"
      ]
     },
     "execution_count": 26,
     "metadata": {},
     "output_type": "execute_result"
    },
    {
     "data": {
      "image/png": "[encoded data removed]",
      "text/plain": [
       "<Figure size 432x288 with 1 Axes>"
      ]
     },
     "metadata": {
      "needs_background": "light"
     },
     "output_type": "display_data"
    }
   ],
   "source": [
    "plt.hist(df['Sentiment'])"
   ]
  },
  {
   "cell_type": "code",
   "execution_count": null,
   "id": "41423f2b",
   "metadata": {},
   "outputs": [],
   "source": []
  }
 ],
 "metadata": {
  "kernelspec": {
   "display_name": "Python 3",
   "language": "python",
   "name": "python3"
  },
  "language_info": {
   "codemirror_mode": {
    "name": "ipython",
    "version": 3
   },
   "file_extension": ".py",
   "mimetype": "text/x-python",
   "name": "python",
   "nbconvert_exporter": "python",
   "pygments_lexer": "ipython3",
   "version": "3.8.3"
  }
 },
 "nbformat": 4,
 "nbformat_minor": 5
}
