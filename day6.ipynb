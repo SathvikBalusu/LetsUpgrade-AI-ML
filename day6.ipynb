{
  "nbformat": 4,
  "nbformat_minor": 0,
  "metadata": {
    "colab": {
      "name": "day6.ipynb",
      "provenance": []
    },
    "kernelspec": {
      "name": "python3",
      "display_name": "Python 3"
    }
  },
  "cells": [
    {
      "cell_type": "code",
      "metadata": {
        "id": "YvbyMvJaJ4Uw",
        "colab_type": "code",
        "colab": {
          "base_uri": "https://localhost:8080/",
          "height": 34
        },
        "outputId": "71028de4-d484-4f16-9e5e-9fbb9673ab6c"
      },
      "source": [
        "#Company name in email address\n",
        "email=\"sathvik@yahoo.com\"\n",
        "len(email)\n",
        "start=email.find('@')\n",
        "end=email.find('.')\n",
        "company=email[start+1:end]\n",
        "print(\"The company name is\",company)"
      ],
      "execution_count": 21,
      "outputs": [
        {
          "output_type": "stream",
          "text": [
            "The company name is yahoo\n"
          ],
          "name": "stdout"
        }
      ]
    },
    {
      "cell_type": "code",
      "metadata": {
        "id": "fq1X5iT3KLSX",
        "colab_type": "code",
        "colab": {
          "base_uri": "https://localhost:8080/",
          "height": 34
        },
        "outputId": "812ad7b8-3060-492c-edf4-25e3326a97f9"
      },
      "source": [
        "#sorting the list in alphabetical order\n",
        "mylist=['bmw','volkswagen','ford','audi','ferrari']\n",
        "mylist.sort()\n",
        "print(\"sorted list\",mylist)\n"
      ],
      "execution_count": 39,
      "outputs": [
        {
          "output_type": "stream",
          "text": [
            "sorted list ['audi', 'bmw', 'ferrari', 'ford', 'volkswagen']\n"
          ],
          "name": "stdout"
        }
      ]
    },
    {
      "cell_type": "markdown",
      "metadata": {
        "id": "A738sS30MmtB",
        "colab_type": "text"
      },
      "source": [
        "**SETS**\n",
        "\n",
        "Definition=A set is a collection which is unordered and unindexed. In Python sets are written with curly brackets."
      ]
    },
    {
      "cell_type": "code",
      "metadata": {
        "id": "1e7NojhlMupC",
        "colab_type": "code",
        "colab": {
          "base_uri": "https://localhost:8080/",
          "height": 153
        },
        "outputId": "4ac8b510-efd0-49d3-f9bc-36cb009cff32"
      },
      "source": [
        "#Creating a Set\n",
        "myset = {\"apple\", \"banana\", \"cherry\"}\n",
        "print(myset)\n",
        "#Accessing a set\n",
        "myset = {\"apple\", \"banana\", \"mango\"}\n",
        "for x in myset:\n",
        "  print(x)\n",
        "#To add one item to a set use the add() method.\n",
        "myset.add(\"kiwi\")\n",
        "print(myset)\n",
        "#Remove \"kiwi\" by using the remove() method:\n",
        "myset.remove(\"kiwi\")\n",
        "print(myset)\n",
        "#The update() method inserts the items in set2 into set1:\n",
        "set2={\"dragon\",\"strawberry\",\"orange\"}\n",
        "myset.update(set2)\n",
        "print(myset)\n",
        "#The clear() method empties the set:\n",
        "myset.clear()\n",
        "print(myset)\n"
      ],
      "execution_count": 52,
      "outputs": [
        {
          "output_type": "stream",
          "text": [
            "{'cherry', 'apple', 'banana'}\n",
            "mango\n",
            "apple\n",
            "banana\n",
            "{'mango', 'kiwi', 'apple', 'banana'}\n",
            "{'mango', 'apple', 'banana'}\n",
            "{'mango', 'apple', 'dragon', 'orange', 'strawberry', 'banana'}\n",
            "set()\n"
          ],
          "name": "stdout"
        }
      ]
    },
    {
      "cell_type": "code",
      "metadata": {
        "id": "yKOQOxEPOpzO",
        "colab_type": "code",
        "colab": {
          "base_uri": "https://localhost:8080/",
          "height": 102
        },
        "outputId": "8e24bd49-2e9f-409a-bde2-470c4828dce0"
      },
      "source": [
        "#missing values in python\n",
        "mylist=[1,3,5,9,10,8]\n",
        "for i in range(max(mylist)+1):\n",
        "  if i not in mylist:\n",
        "    print(i)\n"
      ],
      "execution_count": 55,
      "outputs": [
        {
          "output_type": "stream",
          "text": [
            "0\n",
            "2\n",
            "4\n",
            "6\n",
            "7\n"
          ],
          "name": "stdout"
        }
      ]
    },
    {
      "cell_type": "code",
      "metadata": {
        "id": "ctfbI9UnZamy",
        "colab_type": "code",
        "colab": {
          "base_uri": "https://localhost:8080/",
          "height": 51
        },
        "outputId": "22a4efd9-3a97-46af-c28c-e6a8b98735db"
      },
      "source": [
        "#removing duplicates from a list\n",
        "mylist=[1,2,2,4,5,6,5,7,8,7,9]\n",
        "res=[]\n",
        "print(\"before removing duplicates\",mylist)\n",
        "for i in mylist:\n",
        "  if i not in res:\n",
        "    res.append(i)\n",
        "print(\"after removing duplicates\",res)"
      ],
      "execution_count": 56,
      "outputs": [
        {
          "output_type": "stream",
          "text": [
            "before removing duplicates [1, 2, 2, 4, 5, 6, 5, 7, 8, 7, 9]\n",
            "after removing duplicates [1, 2, 4, 5, 6, 7, 8, 9]\n"
          ],
          "name": "stdout"
        }
      ]
    },
    {
      "cell_type": "code",
      "metadata": {
        "id": "HgvlSg3MbEP7",
        "colab_type": "code",
        "colab": {}
      },
      "source": [
        ""
      ],
      "execution_count": null,
      "outputs": []
    }
  ]
}