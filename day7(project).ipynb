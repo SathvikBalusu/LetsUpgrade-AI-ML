{
  "nbformat": 4,
  "nbformat_minor": 0,
  "metadata": {
    "colab": {
      "name": "day7(project).ipynb",
      "provenance": []
    },
    "kernelspec": {
      "name": "python3",
      "display_name": "Python 3"
    }
  },
  "cells": [
    {
      "cell_type": "markdown",
      "metadata": {
        "id": "CyXyjuMPmtS-",
        "colab_type": "text"
      },
      "source": [
        "# **Attrition Assignment**\n",
        "# Steps Involved:\n",
        "\n",
        "\n",
        "1.   Importing Data\n",
        "2.   Data Treatment\n",
        "3.Univariate Analysis\n",
        "4.Visualization\n",
        "5.Statistical Tests\n",
        "6.Correlation Analysis\n",
        "\n"
      ]
    },
    {
      "cell_type": "markdown",
      "metadata": {
        "id": "lZeYDKk-n3Oi",
        "colab_type": "text"
      },
      "source": [
        "## Importing Data"
      ]
    },
    {
      "cell_type": "code",
      "metadata": {
        "id": "HIvhDZeslQ5h",
        "colab_type": "code",
        "colab": {
          "base_uri": "https://localhost:8080/",
          "height": 816
        },
        "outputId": "ace50166-e356-4412-b94f-ae187248bcc9"
      },
      "source": [
        "import pandas as pd\n",
        "import numpy as np\n",
        "import matplotlib.pyplot as plt\n",
        "import seaborn as sns\n",
        "\n",
        "dataset=pd.read_csv(\"general_data.csv\") #importing dataset\n",
        "display(dataset.head())\n",
        "with pd.option_context('display.max_columns', 40):\n",
        "  print(dataset[['MonthlyIncome','YearsAtCompany','Age','DistanceFromHome','PercentSalaryHike','JobLevel','NumCompaniesWorked','TotalWorkingYears','YearsSinceLastPromotion','TrainingTimesLastYear']].describe(include=\"all\"))\n",
        "data_yes=dataset[dataset['Attrition']=='Yes']\n",
        "data_no=dataset[dataset['Attrition']=='No']"
      ],
      "execution_count": 24,
      "outputs": [
        {
          "output_type": "display_data",
          "data": {
            "text/html": [
              "<div>\n",
              "<style scoped>\n",
              "    .dataframe tbody tr th:only-of-type {\n",
              "        vertical-align: middle;\n",
              "    }\n",
              "\n",
              "    .dataframe tbody tr th {\n",
              "        vertical-align: top;\n",
              "    }\n",
              "\n",
              "    .dataframe thead th {\n",
              "        text-align: right;\n",
              "    }\n",
              "</style>\n",
              "<table border=\"1\" class=\"dataframe\">\n",
              "  <thead>\n",
              "    <tr style=\"text-align: right;\">\n",
              "      <th></th>\n",
              "      <th>Age</th>\n",
              "      <th>Attrition</th>\n",
              "      <th>BusinessTravel</th>\n",
              "      <th>Department</th>\n",
              "      <th>DistanceFromHome</th>\n",
              "      <th>Education</th>\n",
              "      <th>EducationField</th>\n",
              "      <th>EmployeeCount</th>\n",
              "      <th>EmployeeID</th>\n",
              "      <th>Gender</th>\n",
              "      <th>JobLevel</th>\n",
              "      <th>JobRole</th>\n",
              "      <th>MaritalStatus</th>\n",
              "      <th>MonthlyIncome</th>\n",
              "      <th>NumCompaniesWorked</th>\n",
              "      <th>Over18</th>\n",
              "      <th>PercentSalaryHike</th>\n",
              "      <th>StandardHours</th>\n",
              "      <th>StockOptionLevel</th>\n",
              "      <th>TotalWorkingYears</th>\n",
              "      <th>TrainingTimesLastYear</th>\n",
              "      <th>YearsAtCompany</th>\n",
              "      <th>YearsSinceLastPromotion</th>\n",
              "      <th>YearsWithCurrManager</th>\n",
              "    </tr>\n",
              "  </thead>\n",
              "  <tbody>\n",
              "    <tr>\n",
              "      <th>0</th>\n",
              "      <td>51</td>\n",
              "      <td>No</td>\n",
              "      <td>Travel_Rarely</td>\n",
              "      <td>Sales</td>\n",
              "      <td>6</td>\n",
              "      <td>2</td>\n",
              "      <td>Life Sciences</td>\n",
              "      <td>1</td>\n",
              "      <td>1</td>\n",
              "      <td>Female</td>\n",
              "      <td>1</td>\n",
              "      <td>Healthcare Representative</td>\n",
              "      <td>Married</td>\n",
              "      <td>131160</td>\n",
              "      <td>1.0</td>\n",
              "      <td>Y</td>\n",
              "      <td>11</td>\n",
              "      <td>8</td>\n",
              "      <td>0</td>\n",
              "      <td>1.0</td>\n",
              "      <td>6</td>\n",
              "      <td>1</td>\n",
              "      <td>0</td>\n",
              "      <td>0</td>\n",
              "    </tr>\n",
              "    <tr>\n",
              "      <th>1</th>\n",
              "      <td>31</td>\n",
              "      <td>Yes</td>\n",
              "      <td>Travel_Frequently</td>\n",
              "      <td>Research &amp; Development</td>\n",
              "      <td>10</td>\n",
              "      <td>1</td>\n",
              "      <td>Life Sciences</td>\n",
              "      <td>1</td>\n",
              "      <td>2</td>\n",
              "      <td>Female</td>\n",
              "      <td>1</td>\n",
              "      <td>Research Scientist</td>\n",
              "      <td>Single</td>\n",
              "      <td>41890</td>\n",
              "      <td>0.0</td>\n",
              "      <td>Y</td>\n",
              "      <td>23</td>\n",
              "      <td>8</td>\n",
              "      <td>1</td>\n",
              "      <td>6.0</td>\n",
              "      <td>3</td>\n",
              "      <td>5</td>\n",
              "      <td>1</td>\n",
              "      <td>4</td>\n",
              "    </tr>\n",
              "    <tr>\n",
              "      <th>2</th>\n",
              "      <td>32</td>\n",
              "      <td>No</td>\n",
              "      <td>Travel_Frequently</td>\n",
              "      <td>Research &amp; Development</td>\n",
              "      <td>17</td>\n",
              "      <td>4</td>\n",
              "      <td>Other</td>\n",
              "      <td>1</td>\n",
              "      <td>3</td>\n",
              "      <td>Male</td>\n",
              "      <td>4</td>\n",
              "      <td>Sales Executive</td>\n",
              "      <td>Married</td>\n",
              "      <td>193280</td>\n",
              "      <td>1.0</td>\n",
              "      <td>Y</td>\n",
              "      <td>15</td>\n",
              "      <td>8</td>\n",
              "      <td>3</td>\n",
              "      <td>5.0</td>\n",
              "      <td>2</td>\n",
              "      <td>5</td>\n",
              "      <td>0</td>\n",
              "      <td>3</td>\n",
              "    </tr>\n",
              "    <tr>\n",
              "      <th>3</th>\n",
              "      <td>38</td>\n",
              "      <td>No</td>\n",
              "      <td>Non-Travel</td>\n",
              "      <td>Research &amp; Development</td>\n",
              "      <td>2</td>\n",
              "      <td>5</td>\n",
              "      <td>Life Sciences</td>\n",
              "      <td>1</td>\n",
              "      <td>4</td>\n",
              "      <td>Male</td>\n",
              "      <td>3</td>\n",
              "      <td>Human Resources</td>\n",
              "      <td>Married</td>\n",
              "      <td>83210</td>\n",
              "      <td>3.0</td>\n",
              "      <td>Y</td>\n",
              "      <td>11</td>\n",
              "      <td>8</td>\n",
              "      <td>3</td>\n",
              "      <td>13.0</td>\n",
              "      <td>5</td>\n",
              "      <td>8</td>\n",
              "      <td>7</td>\n",
              "      <td>5</td>\n",
              "    </tr>\n",
              "    <tr>\n",
              "      <th>4</th>\n",
              "      <td>32</td>\n",
              "      <td>No</td>\n",
              "      <td>Travel_Rarely</td>\n",
              "      <td>Research &amp; Development</td>\n",
              "      <td>10</td>\n",
              "      <td>1</td>\n",
              "      <td>Medical</td>\n",
              "      <td>1</td>\n",
              "      <td>5</td>\n",
              "      <td>Male</td>\n",
              "      <td>1</td>\n",
              "      <td>Sales Executive</td>\n",
              "      <td>Single</td>\n",
              "      <td>23420</td>\n",
              "      <td>4.0</td>\n",
              "      <td>Y</td>\n",
              "      <td>12</td>\n",
              "      <td>8</td>\n",
              "      <td>2</td>\n",
              "      <td>9.0</td>\n",
              "      <td>2</td>\n",
              "      <td>6</td>\n",
              "      <td>0</td>\n",
              "      <td>4</td>\n",
              "    </tr>\n",
              "  </tbody>\n",
              "</table>\n",
              "</div>"
            ],
            "text/plain": [
              "   Age Attrition  ... YearsSinceLastPromotion YearsWithCurrManager\n",
              "0   51        No  ...                       0                    0\n",
              "1   31       Yes  ...                       1                    4\n",
              "2   32        No  ...                       0                    3\n",
              "3   38        No  ...                       7                    5\n",
              "4   32        No  ...                       0                    4\n",
              "\n",
              "[5 rows x 24 columns]"
            ]
          },
          "metadata": {
            "tags": []
          }
        },
        {
          "output_type": "stream",
          "text": [
            "       MonthlyIncome  YearsAtCompany          Age  DistanceFromHome  \\\n",
            "count    4410.000000     4410.000000  4410.000000       4410.000000   \n",
            "mean    65029.312925        7.008163    36.923810          9.192517   \n",
            "std     47068.888559        6.125135     9.133301          8.105026   \n",
            "min     10090.000000        0.000000    18.000000          1.000000   \n",
            "25%     29110.000000        3.000000    30.000000          2.000000   \n",
            "50%     49190.000000        5.000000    36.000000          7.000000   \n",
            "75%     83800.000000        9.000000    43.000000         14.000000   \n",
            "max    199990.000000       40.000000    60.000000         29.000000   \n",
            "\n",
            "       PercentSalaryHike     JobLevel  NumCompaniesWorked  TotalWorkingYears  \\\n",
            "count        4410.000000  4410.000000         4391.000000        4401.000000   \n",
            "mean           15.209524     2.063946            2.694830          11.279936   \n",
            "std             3.659108     1.106689            2.498887           7.782222   \n",
            "min            11.000000     1.000000            0.000000           0.000000   \n",
            "25%            12.000000     1.000000            1.000000           6.000000   \n",
            "50%            14.000000     2.000000            2.000000          10.000000   \n",
            "75%            18.000000     3.000000            4.000000          15.000000   \n",
            "max            25.000000     5.000000            9.000000          40.000000   \n",
            "\n",
            "       YearsSinceLastPromotion  TrainingTimesLastYear  \n",
            "count              4410.000000            4410.000000  \n",
            "mean                  2.187755               2.799320  \n",
            "std                   3.221699               1.288978  \n",
            "min                   0.000000               0.000000  \n",
            "25%                   0.000000               2.000000  \n",
            "50%                   1.000000               3.000000  \n",
            "75%                   3.000000               3.000000  \n",
            "max                  15.000000               6.000000  \n"
          ],
          "name": "stdout"
        }
      ]
    },
    {
      "cell_type": "markdown",
      "metadata": {
        "id": "FpgQihdToP4t",
        "colab_type": "text"
      },
      "source": [
        "# Data Treatment"
      ]
    },
    {
      "cell_type": "code",
      "metadata": {
        "id": "SgksYl6Moka4",
        "colab_type": "code",
        "colab": {
          "base_uri": "https://localhost:8080/",
          "height": 842
        },
        "outputId": "8bdf79ab-a79c-4c17-be37-baf1ac4df5ad"
      },
      "source": [
        "print(dataset.isnull())\n",
        "dataset.drop_duplicates\n",
        "dataset.dropna(inplace=True)\n",
        "display(dataset)"
      ],
      "execution_count": 3,
      "outputs": [
        {
          "output_type": "stream",
          "text": [
            "        Age  Attrition  ...  YearsSinceLastPromotion  YearsWithCurrManager\n",
            "0     False      False  ...                    False                 False\n",
            "1     False      False  ...                    False                 False\n",
            "2     False      False  ...                    False                 False\n",
            "3     False      False  ...                    False                 False\n",
            "4     False      False  ...                    False                 False\n",
            "...     ...        ...  ...                      ...                   ...\n",
            "4405  False      False  ...                    False                 False\n",
            "4406  False      False  ...                    False                 False\n",
            "4407  False      False  ...                    False                 False\n",
            "4408  False      False  ...                    False                 False\n",
            "4409  False      False  ...                    False                 False\n",
            "\n",
            "[4410 rows x 24 columns]\n"
          ],
          "name": "stdout"
        },
        {
          "output_type": "display_data",
          "data": {
            "text/html": [
              "<div>\n",
              "<style scoped>\n",
              "    .dataframe tbody tr th:only-of-type {\n",
              "        vertical-align: middle;\n",
              "    }\n",
              "\n",
              "    .dataframe tbody tr th {\n",
              "        vertical-align: top;\n",
              "    }\n",
              "\n",
              "    .dataframe thead th {\n",
              "        text-align: right;\n",
              "    }\n",
              "</style>\n",
              "<table border=\"1\" class=\"dataframe\">\n",
              "  <thead>\n",
              "    <tr style=\"text-align: right;\">\n",
              "      <th></th>\n",
              "      <th>Age</th>\n",
              "      <th>Attrition</th>\n",
              "      <th>BusinessTravel</th>\n",
              "      <th>Department</th>\n",
              "      <th>DistanceFromHome</th>\n",
              "      <th>Education</th>\n",
              "      <th>EducationField</th>\n",
              "      <th>EmployeeCount</th>\n",
              "      <th>EmployeeID</th>\n",
              "      <th>Gender</th>\n",
              "      <th>JobLevel</th>\n",
              "      <th>JobRole</th>\n",
              "      <th>MaritalStatus</th>\n",
              "      <th>MonthlyIncome</th>\n",
              "      <th>NumCompaniesWorked</th>\n",
              "      <th>Over18</th>\n",
              "      <th>PercentSalaryHike</th>\n",
              "      <th>StandardHours</th>\n",
              "      <th>StockOptionLevel</th>\n",
              "      <th>TotalWorkingYears</th>\n",
              "      <th>TrainingTimesLastYear</th>\n",
              "      <th>YearsAtCompany</th>\n",
              "      <th>YearsSinceLastPromotion</th>\n",
              "      <th>YearsWithCurrManager</th>\n",
              "    </tr>\n",
              "  </thead>\n",
              "  <tbody>\n",
              "    <tr>\n",
              "      <th>0</th>\n",
              "      <td>51</td>\n",
              "      <td>No</td>\n",
              "      <td>Travel_Rarely</td>\n",
              "      <td>Sales</td>\n",
              "      <td>6</td>\n",
              "      <td>2</td>\n",
              "      <td>Life Sciences</td>\n",
              "      <td>1</td>\n",
              "      <td>1</td>\n",
              "      <td>Female</td>\n",
              "      <td>1</td>\n",
              "      <td>Healthcare Representative</td>\n",
              "      <td>Married</td>\n",
              "      <td>131160</td>\n",
              "      <td>1.0</td>\n",
              "      <td>Y</td>\n",
              "      <td>11</td>\n",
              "      <td>8</td>\n",
              "      <td>0</td>\n",
              "      <td>1.0</td>\n",
              "      <td>6</td>\n",
              "      <td>1</td>\n",
              "      <td>0</td>\n",
              "      <td>0</td>\n",
              "    </tr>\n",
              "    <tr>\n",
              "      <th>1</th>\n",
              "      <td>31</td>\n",
              "      <td>Yes</td>\n",
              "      <td>Travel_Frequently</td>\n",
              "      <td>Research &amp; Development</td>\n",
              "      <td>10</td>\n",
              "      <td>1</td>\n",
              "      <td>Life Sciences</td>\n",
              "      <td>1</td>\n",
              "      <td>2</td>\n",
              "      <td>Female</td>\n",
              "      <td>1</td>\n",
              "      <td>Research Scientist</td>\n",
              "      <td>Single</td>\n",
              "      <td>41890</td>\n",
              "      <td>0.0</td>\n",
              "      <td>Y</td>\n",
              "      <td>23</td>\n",
              "      <td>8</td>\n",
              "      <td>1</td>\n",
              "      <td>6.0</td>\n",
              "      <td>3</td>\n",
              "      <td>5</td>\n",
              "      <td>1</td>\n",
              "      <td>4</td>\n",
              "    </tr>\n",
              "    <tr>\n",
              "      <th>2</th>\n",
              "      <td>32</td>\n",
              "      <td>No</td>\n",
              "      <td>Travel_Frequently</td>\n",
              "      <td>Research &amp; Development</td>\n",
              "      <td>17</td>\n",
              "      <td>4</td>\n",
              "      <td>Other</td>\n",
              "      <td>1</td>\n",
              "      <td>3</td>\n",
              "      <td>Male</td>\n",
              "      <td>4</td>\n",
              "      <td>Sales Executive</td>\n",
              "      <td>Married</td>\n",
              "      <td>193280</td>\n",
              "      <td>1.0</td>\n",
              "      <td>Y</td>\n",
              "      <td>15</td>\n",
              "      <td>8</td>\n",
              "      <td>3</td>\n",
              "      <td>5.0</td>\n",
              "      <td>2</td>\n",
              "      <td>5</td>\n",
              "      <td>0</td>\n",
              "      <td>3</td>\n",
              "    </tr>\n",
              "    <tr>\n",
              "      <th>3</th>\n",
              "      <td>38</td>\n",
              "      <td>No</td>\n",
              "      <td>Non-Travel</td>\n",
              "      <td>Research &amp; Development</td>\n",
              "      <td>2</td>\n",
              "      <td>5</td>\n",
              "      <td>Life Sciences</td>\n",
              "      <td>1</td>\n",
              "      <td>4</td>\n",
              "      <td>Male</td>\n",
              "      <td>3</td>\n",
              "      <td>Human Resources</td>\n",
              "      <td>Married</td>\n",
              "      <td>83210</td>\n",
              "      <td>3.0</td>\n",
              "      <td>Y</td>\n",
              "      <td>11</td>\n",
              "      <td>8</td>\n",
              "      <td>3</td>\n",
              "      <td>13.0</td>\n",
              "      <td>5</td>\n",
              "      <td>8</td>\n",
              "      <td>7</td>\n",
              "      <td>5</td>\n",
              "    </tr>\n",
              "    <tr>\n",
              "      <th>4</th>\n",
              "      <td>32</td>\n",
              "      <td>No</td>\n",
              "      <td>Travel_Rarely</td>\n",
              "      <td>Research &amp; Development</td>\n",
              "      <td>10</td>\n",
              "      <td>1</td>\n",
              "      <td>Medical</td>\n",
              "      <td>1</td>\n",
              "      <td>5</td>\n",
              "      <td>Male</td>\n",
              "      <td>1</td>\n",
              "      <td>Sales Executive</td>\n",
              "      <td>Single</td>\n",
              "      <td>23420</td>\n",
              "      <td>4.0</td>\n",
              "      <td>Y</td>\n",
              "      <td>12</td>\n",
              "      <td>8</td>\n",
              "      <td>2</td>\n",
              "      <td>9.0</td>\n",
              "      <td>2</td>\n",
              "      <td>6</td>\n",
              "      <td>0</td>\n",
              "      <td>4</td>\n",
              "    </tr>\n",
              "    <tr>\n",
              "      <th>...</th>\n",
              "      <td>...</td>\n",
              "      <td>...</td>\n",
              "      <td>...</td>\n",
              "      <td>...</td>\n",
              "      <td>...</td>\n",
              "      <td>...</td>\n",
              "      <td>...</td>\n",
              "      <td>...</td>\n",
              "      <td>...</td>\n",
              "      <td>...</td>\n",
              "      <td>...</td>\n",
              "      <td>...</td>\n",
              "      <td>...</td>\n",
              "      <td>...</td>\n",
              "      <td>...</td>\n",
              "      <td>...</td>\n",
              "      <td>...</td>\n",
              "      <td>...</td>\n",
              "      <td>...</td>\n",
              "      <td>...</td>\n",
              "      <td>...</td>\n",
              "      <td>...</td>\n",
              "      <td>...</td>\n",
              "      <td>...</td>\n",
              "    </tr>\n",
              "    <tr>\n",
              "      <th>4404</th>\n",
              "      <td>29</td>\n",
              "      <td>No</td>\n",
              "      <td>Travel_Rarely</td>\n",
              "      <td>Sales</td>\n",
              "      <td>4</td>\n",
              "      <td>3</td>\n",
              "      <td>Other</td>\n",
              "      <td>1</td>\n",
              "      <td>4405</td>\n",
              "      <td>Female</td>\n",
              "      <td>2</td>\n",
              "      <td>Human Resources</td>\n",
              "      <td>Single</td>\n",
              "      <td>35390</td>\n",
              "      <td>1.0</td>\n",
              "      <td>Y</td>\n",
              "      <td>18</td>\n",
              "      <td>8</td>\n",
              "      <td>0</td>\n",
              "      <td>6.0</td>\n",
              "      <td>2</td>\n",
              "      <td>6</td>\n",
              "      <td>1</td>\n",
              "      <td>5</td>\n",
              "    </tr>\n",
              "    <tr>\n",
              "      <th>4405</th>\n",
              "      <td>42</td>\n",
              "      <td>No</td>\n",
              "      <td>Travel_Rarely</td>\n",
              "      <td>Research &amp; Development</td>\n",
              "      <td>5</td>\n",
              "      <td>4</td>\n",
              "      <td>Medical</td>\n",
              "      <td>1</td>\n",
              "      <td>4406</td>\n",
              "      <td>Female</td>\n",
              "      <td>1</td>\n",
              "      <td>Research Scientist</td>\n",
              "      <td>Single</td>\n",
              "      <td>60290</td>\n",
              "      <td>3.0</td>\n",
              "      <td>Y</td>\n",
              "      <td>17</td>\n",
              "      <td>8</td>\n",
              "      <td>1</td>\n",
              "      <td>10.0</td>\n",
              "      <td>5</td>\n",
              "      <td>3</td>\n",
              "      <td>0</td>\n",
              "      <td>2</td>\n",
              "    </tr>\n",
              "    <tr>\n",
              "      <th>4406</th>\n",
              "      <td>29</td>\n",
              "      <td>No</td>\n",
              "      <td>Travel_Rarely</td>\n",
              "      <td>Research &amp; Development</td>\n",
              "      <td>2</td>\n",
              "      <td>4</td>\n",
              "      <td>Medical</td>\n",
              "      <td>1</td>\n",
              "      <td>4407</td>\n",
              "      <td>Male</td>\n",
              "      <td>1</td>\n",
              "      <td>Laboratory Technician</td>\n",
              "      <td>Divorced</td>\n",
              "      <td>26790</td>\n",
              "      <td>2.0</td>\n",
              "      <td>Y</td>\n",
              "      <td>15</td>\n",
              "      <td>8</td>\n",
              "      <td>0</td>\n",
              "      <td>10.0</td>\n",
              "      <td>2</td>\n",
              "      <td>3</td>\n",
              "      <td>0</td>\n",
              "      <td>2</td>\n",
              "    </tr>\n",
              "    <tr>\n",
              "      <th>4407</th>\n",
              "      <td>25</td>\n",
              "      <td>No</td>\n",
              "      <td>Travel_Rarely</td>\n",
              "      <td>Research &amp; Development</td>\n",
              "      <td>25</td>\n",
              "      <td>2</td>\n",
              "      <td>Life Sciences</td>\n",
              "      <td>1</td>\n",
              "      <td>4408</td>\n",
              "      <td>Male</td>\n",
              "      <td>2</td>\n",
              "      <td>Sales Executive</td>\n",
              "      <td>Married</td>\n",
              "      <td>37020</td>\n",
              "      <td>0.0</td>\n",
              "      <td>Y</td>\n",
              "      <td>20</td>\n",
              "      <td>8</td>\n",
              "      <td>0</td>\n",
              "      <td>5.0</td>\n",
              "      <td>4</td>\n",
              "      <td>4</td>\n",
              "      <td>1</td>\n",
              "      <td>2</td>\n",
              "    </tr>\n",
              "    <tr>\n",
              "      <th>4408</th>\n",
              "      <td>42</td>\n",
              "      <td>No</td>\n",
              "      <td>Travel_Rarely</td>\n",
              "      <td>Sales</td>\n",
              "      <td>18</td>\n",
              "      <td>2</td>\n",
              "      <td>Medical</td>\n",
              "      <td>1</td>\n",
              "      <td>4409</td>\n",
              "      <td>Male</td>\n",
              "      <td>1</td>\n",
              "      <td>Laboratory Technician</td>\n",
              "      <td>Divorced</td>\n",
              "      <td>23980</td>\n",
              "      <td>0.0</td>\n",
              "      <td>Y</td>\n",
              "      <td>14</td>\n",
              "      <td>8</td>\n",
              "      <td>1</td>\n",
              "      <td>10.0</td>\n",
              "      <td>2</td>\n",
              "      <td>9</td>\n",
              "      <td>7</td>\n",
              "      <td>8</td>\n",
              "    </tr>\n",
              "  </tbody>\n",
              "</table>\n",
              "<p>4382 rows × 24 columns</p>\n",
              "</div>"
            ],
            "text/plain": [
              "      Age Attrition  ... YearsSinceLastPromotion YearsWithCurrManager\n",
              "0      51        No  ...                       0                    0\n",
              "1      31       Yes  ...                       1                    4\n",
              "2      32        No  ...                       0                    3\n",
              "3      38        No  ...                       7                    5\n",
              "4      32        No  ...                       0                    4\n",
              "...   ...       ...  ...                     ...                  ...\n",
              "4404   29        No  ...                       1                    5\n",
              "4405   42        No  ...                       0                    2\n",
              "4406   29        No  ...                       0                    2\n",
              "4407   25        No  ...                       1                    2\n",
              "4408   42        No  ...                       7                    8\n",
              "\n",
              "[4382 rows x 24 columns]"
            ]
          },
          "metadata": {
            "tags": []
          }
        }
      ]
    },
    {
      "cell_type": "markdown",
      "metadata": {
        "id": "ugbTZNOmo0od",
        "colab_type": "text"
      },
      "source": [
        "# Encoding the data:"
      ]
    },
    {
      "cell_type": "code",
      "metadata": {
        "id": "HOPX4KPioufG",
        "colab_type": "code",
        "colab": {
          "base_uri": "https://localhost:8080/",
          "height": 426
        },
        "outputId": "f4db2ca3-b7c3-4c8e-b02d-b031819b891f"
      },
      "source": [
        "from sklearn import preprocessing\n",
        "lab_enc=preprocessing.LabelEncoder()\n",
        "dataset['Attrition']=lab_enc.fit_transform(dataset['Attrition'])\n",
        "dataset['BusinessTravel']=lab_enc.fit_transform(dataset['BusinessTravel'])\n",
        "dataset['Department']=lab_enc.fit_transform(dataset['Department'])\n",
        "dataset['EducationField']=lab_enc.fit_transform(dataset['EducationField'])\n",
        "dataset['Gender']=lab_enc.fit_transform(dataset['Gender'])\n",
        "dataset['JobRole']=lab_enc.fit_transform(dataset['JobRole'])\n",
        "dataset['MaritalStatus']=lab_enc.fit_transform(dataset['MaritalStatus'])\n",
        "display(dataset)"
      ],
      "execution_count": 4,
      "outputs": [
        {
          "output_type": "display_data",
          "data": {
            "text/html": [
              "<div>\n",
              "<style scoped>\n",
              "    .dataframe tbody tr th:only-of-type {\n",
              "        vertical-align: middle;\n",
              "    }\n",
              "\n",
              "    .dataframe tbody tr th {\n",
              "        vertical-align: top;\n",
              "    }\n",
              "\n",
              "    .dataframe thead th {\n",
              "        text-align: right;\n",
              "    }\n",
              "</style>\n",
              "<table border=\"1\" class=\"dataframe\">\n",
              "  <thead>\n",
              "    <tr style=\"text-align: right;\">\n",
              "      <th></th>\n",
              "      <th>Age</th>\n",
              "      <th>Attrition</th>\n",
              "      <th>BusinessTravel</th>\n",
              "      <th>Department</th>\n",
              "      <th>DistanceFromHome</th>\n",
              "      <th>Education</th>\n",
              "      <th>EducationField</th>\n",
              "      <th>EmployeeCount</th>\n",
              "      <th>EmployeeID</th>\n",
              "      <th>Gender</th>\n",
              "      <th>JobLevel</th>\n",
              "      <th>JobRole</th>\n",
              "      <th>MaritalStatus</th>\n",
              "      <th>MonthlyIncome</th>\n",
              "      <th>NumCompaniesWorked</th>\n",
              "      <th>Over18</th>\n",
              "      <th>PercentSalaryHike</th>\n",
              "      <th>StandardHours</th>\n",
              "      <th>StockOptionLevel</th>\n",
              "      <th>TotalWorkingYears</th>\n",
              "      <th>TrainingTimesLastYear</th>\n",
              "      <th>YearsAtCompany</th>\n",
              "      <th>YearsSinceLastPromotion</th>\n",
              "      <th>YearsWithCurrManager</th>\n",
              "    </tr>\n",
              "  </thead>\n",
              "  <tbody>\n",
              "    <tr>\n",
              "      <th>0</th>\n",
              "      <td>51</td>\n",
              "      <td>0</td>\n",
              "      <td>2</td>\n",
              "      <td>2</td>\n",
              "      <td>6</td>\n",
              "      <td>2</td>\n",
              "      <td>1</td>\n",
              "      <td>1</td>\n",
              "      <td>1</td>\n",
              "      <td>0</td>\n",
              "      <td>1</td>\n",
              "      <td>0</td>\n",
              "      <td>1</td>\n",
              "      <td>131160</td>\n",
              "      <td>1.0</td>\n",
              "      <td>Y</td>\n",
              "      <td>11</td>\n",
              "      <td>8</td>\n",
              "      <td>0</td>\n",
              "      <td>1.0</td>\n",
              "      <td>6</td>\n",
              "      <td>1</td>\n",
              "      <td>0</td>\n",
              "      <td>0</td>\n",
              "    </tr>\n",
              "    <tr>\n",
              "      <th>1</th>\n",
              "      <td>31</td>\n",
              "      <td>1</td>\n",
              "      <td>1</td>\n",
              "      <td>1</td>\n",
              "      <td>10</td>\n",
              "      <td>1</td>\n",
              "      <td>1</td>\n",
              "      <td>1</td>\n",
              "      <td>2</td>\n",
              "      <td>0</td>\n",
              "      <td>1</td>\n",
              "      <td>6</td>\n",
              "      <td>2</td>\n",
              "      <td>41890</td>\n",
              "      <td>0.0</td>\n",
              "      <td>Y</td>\n",
              "      <td>23</td>\n",
              "      <td>8</td>\n",
              "      <td>1</td>\n",
              "      <td>6.0</td>\n",
              "      <td>3</td>\n",
              "      <td>5</td>\n",
              "      <td>1</td>\n",
              "      <td>4</td>\n",
              "    </tr>\n",
              "    <tr>\n",
              "      <th>2</th>\n",
              "      <td>32</td>\n",
              "      <td>0</td>\n",
              "      <td>1</td>\n",
              "      <td>1</td>\n",
              "      <td>17</td>\n",
              "      <td>4</td>\n",
              "      <td>4</td>\n",
              "      <td>1</td>\n",
              "      <td>3</td>\n",
              "      <td>1</td>\n",
              "      <td>4</td>\n",
              "      <td>7</td>\n",
              "      <td>1</td>\n",
              "      <td>193280</td>\n",
              "      <td>1.0</td>\n",
              "      <td>Y</td>\n",
              "      <td>15</td>\n",
              "      <td>8</td>\n",
              "      <td>3</td>\n",
              "      <td>5.0</td>\n",
              "      <td>2</td>\n",
              "      <td>5</td>\n",
              "      <td>0</td>\n",
              "      <td>3</td>\n",
              "    </tr>\n",
              "    <tr>\n",
              "      <th>3</th>\n",
              "      <td>38</td>\n",
              "      <td>0</td>\n",
              "      <td>0</td>\n",
              "      <td>1</td>\n",
              "      <td>2</td>\n",
              "      <td>5</td>\n",
              "      <td>1</td>\n",
              "      <td>1</td>\n",
              "      <td>4</td>\n",
              "      <td>1</td>\n",
              "      <td>3</td>\n",
              "      <td>1</td>\n",
              "      <td>1</td>\n",
              "      <td>83210</td>\n",
              "      <td>3.0</td>\n",
              "      <td>Y</td>\n",
              "      <td>11</td>\n",
              "      <td>8</td>\n",
              "      <td>3</td>\n",
              "      <td>13.0</td>\n",
              "      <td>5</td>\n",
              "      <td>8</td>\n",
              "      <td>7</td>\n",
              "      <td>5</td>\n",
              "    </tr>\n",
              "    <tr>\n",
              "      <th>4</th>\n",
              "      <td>32</td>\n",
              "      <td>0</td>\n",
              "      <td>2</td>\n",
              "      <td>1</td>\n",
              "      <td>10</td>\n",
              "      <td>1</td>\n",
              "      <td>3</td>\n",
              "      <td>1</td>\n",
              "      <td>5</td>\n",
              "      <td>1</td>\n",
              "      <td>1</td>\n",
              "      <td>7</td>\n",
              "      <td>2</td>\n",
              "      <td>23420</td>\n",
              "      <td>4.0</td>\n",
              "      <td>Y</td>\n",
              "      <td>12</td>\n",
              "      <td>8</td>\n",
              "      <td>2</td>\n",
              "      <td>9.0</td>\n",
              "      <td>2</td>\n",
              "      <td>6</td>\n",
              "      <td>0</td>\n",
              "      <td>4</td>\n",
              "    </tr>\n",
              "    <tr>\n",
              "      <th>...</th>\n",
              "      <td>...</td>\n",
              "      <td>...</td>\n",
              "      <td>...</td>\n",
              "      <td>...</td>\n",
              "      <td>...</td>\n",
              "      <td>...</td>\n",
              "      <td>...</td>\n",
              "      <td>...</td>\n",
              "      <td>...</td>\n",
              "      <td>...</td>\n",
              "      <td>...</td>\n",
              "      <td>...</td>\n",
              "      <td>...</td>\n",
              "      <td>...</td>\n",
              "      <td>...</td>\n",
              "      <td>...</td>\n",
              "      <td>...</td>\n",
              "      <td>...</td>\n",
              "      <td>...</td>\n",
              "      <td>...</td>\n",
              "      <td>...</td>\n",
              "      <td>...</td>\n",
              "      <td>...</td>\n",
              "      <td>...</td>\n",
              "    </tr>\n",
              "    <tr>\n",
              "      <th>4404</th>\n",
              "      <td>29</td>\n",
              "      <td>0</td>\n",
              "      <td>2</td>\n",
              "      <td>2</td>\n",
              "      <td>4</td>\n",
              "      <td>3</td>\n",
              "      <td>4</td>\n",
              "      <td>1</td>\n",
              "      <td>4405</td>\n",
              "      <td>0</td>\n",
              "      <td>2</td>\n",
              "      <td>1</td>\n",
              "      <td>2</td>\n",
              "      <td>35390</td>\n",
              "      <td>1.0</td>\n",
              "      <td>Y</td>\n",
              "      <td>18</td>\n",
              "      <td>8</td>\n",
              "      <td>0</td>\n",
              "      <td>6.0</td>\n",
              "      <td>2</td>\n",
              "      <td>6</td>\n",
              "      <td>1</td>\n",
              "      <td>5</td>\n",
              "    </tr>\n",
              "    <tr>\n",
              "      <th>4405</th>\n",
              "      <td>42</td>\n",
              "      <td>0</td>\n",
              "      <td>2</td>\n",
              "      <td>1</td>\n",
              "      <td>5</td>\n",
              "      <td>4</td>\n",
              "      <td>3</td>\n",
              "      <td>1</td>\n",
              "      <td>4406</td>\n",
              "      <td>0</td>\n",
              "      <td>1</td>\n",
              "      <td>6</td>\n",
              "      <td>2</td>\n",
              "      <td>60290</td>\n",
              "      <td>3.0</td>\n",
              "      <td>Y</td>\n",
              "      <td>17</td>\n",
              "      <td>8</td>\n",
              "      <td>1</td>\n",
              "      <td>10.0</td>\n",
              "      <td>5</td>\n",
              "      <td>3</td>\n",
              "      <td>0</td>\n",
              "      <td>2</td>\n",
              "    </tr>\n",
              "    <tr>\n",
              "      <th>4406</th>\n",
              "      <td>29</td>\n",
              "      <td>0</td>\n",
              "      <td>2</td>\n",
              "      <td>1</td>\n",
              "      <td>2</td>\n",
              "      <td>4</td>\n",
              "      <td>3</td>\n",
              "      <td>1</td>\n",
              "      <td>4407</td>\n",
              "      <td>1</td>\n",
              "      <td>1</td>\n",
              "      <td>2</td>\n",
              "      <td>0</td>\n",
              "      <td>26790</td>\n",
              "      <td>2.0</td>\n",
              "      <td>Y</td>\n",
              "      <td>15</td>\n",
              "      <td>8</td>\n",
              "      <td>0</td>\n",
              "      <td>10.0</td>\n",
              "      <td>2</td>\n",
              "      <td>3</td>\n",
              "      <td>0</td>\n",
              "      <td>2</td>\n",
              "    </tr>\n",
              "    <tr>\n",
              "      <th>4407</th>\n",
              "      <td>25</td>\n",
              "      <td>0</td>\n",
              "      <td>2</td>\n",
              "      <td>1</td>\n",
              "      <td>25</td>\n",
              "      <td>2</td>\n",
              "      <td>1</td>\n",
              "      <td>1</td>\n",
              "      <td>4408</td>\n",
              "      <td>1</td>\n",
              "      <td>2</td>\n",
              "      <td>7</td>\n",
              "      <td>1</td>\n",
              "      <td>37020</td>\n",
              "      <td>0.0</td>\n",
              "      <td>Y</td>\n",
              "      <td>20</td>\n",
              "      <td>8</td>\n",
              "      <td>0</td>\n",
              "      <td>5.0</td>\n",
              "      <td>4</td>\n",
              "      <td>4</td>\n",
              "      <td>1</td>\n",
              "      <td>2</td>\n",
              "    </tr>\n",
              "    <tr>\n",
              "      <th>4408</th>\n",
              "      <td>42</td>\n",
              "      <td>0</td>\n",
              "      <td>2</td>\n",
              "      <td>2</td>\n",
              "      <td>18</td>\n",
              "      <td>2</td>\n",
              "      <td>3</td>\n",
              "      <td>1</td>\n",
              "      <td>4409</td>\n",
              "      <td>1</td>\n",
              "      <td>1</td>\n",
              "      <td>2</td>\n",
              "      <td>0</td>\n",
              "      <td>23980</td>\n",
              "      <td>0.0</td>\n",
              "      <td>Y</td>\n",
              "      <td>14</td>\n",
              "      <td>8</td>\n",
              "      <td>1</td>\n",
              "      <td>10.0</td>\n",
              "      <td>2</td>\n",
              "      <td>9</td>\n",
              "      <td>7</td>\n",
              "      <td>8</td>\n",
              "    </tr>\n",
              "  </tbody>\n",
              "</table>\n",
              "<p>4382 rows × 24 columns</p>\n",
              "</div>"
            ],
            "text/plain": [
              "      Age  Attrition  ...  YearsSinceLastPromotion  YearsWithCurrManager\n",
              "0      51          0  ...                        0                     0\n",
              "1      31          1  ...                        1                     4\n",
              "2      32          0  ...                        0                     3\n",
              "3      38          0  ...                        7                     5\n",
              "4      32          0  ...                        0                     4\n",
              "...   ...        ...  ...                      ...                   ...\n",
              "4404   29          0  ...                        1                     5\n",
              "4405   42          0  ...                        0                     2\n",
              "4406   29          0  ...                        0                     2\n",
              "4407   25          0  ...                        1                     2\n",
              "4408   42          0  ...                        7                     8\n",
              "\n",
              "[4382 rows x 24 columns]"
            ]
          },
          "metadata": {
            "tags": []
          }
        }
      ]
    },
    {
      "cell_type": "code",
      "metadata": {
        "id": "jPo_TCd8pAk-",
        "colab_type": "code",
        "colab": {
          "base_uri": "https://localhost:8080/",
          "height": 426
        },
        "outputId": "d24f9821-2c03-46a6-8847-2a88b781dcde"
      },
      "source": [
        "#Creating a table on factors that might affect attrition\n",
        "df = dataset[['Age', 'Attrition', 'BusinessTravel', 'Department', 'DistanceFromHome',\n",
        "       'Education', 'EducationField','MaritalStatus', 'JobLevel', 'JobRole', 'MonthlyIncome',\n",
        "       'NumCompaniesWorked', 'PercentSalaryHike', 'TotalWorkingYears', 'TrainingTimesLastYear',\n",
        "       'YearsAtCompany', 'YearsSinceLastPromotion', 'YearsWithCurrManager']]\n",
        "display(df)\n"
      ],
      "execution_count": 5,
      "outputs": [
        {
          "output_type": "display_data",
          "data": {
            "text/html": [
              "<div>\n",
              "<style scoped>\n",
              "    .dataframe tbody tr th:only-of-type {\n",
              "        vertical-align: middle;\n",
              "    }\n",
              "\n",
              "    .dataframe tbody tr th {\n",
              "        vertical-align: top;\n",
              "    }\n",
              "\n",
              "    .dataframe thead th {\n",
              "        text-align: right;\n",
              "    }\n",
              "</style>\n",
              "<table border=\"1\" class=\"dataframe\">\n",
              "  <thead>\n",
              "    <tr style=\"text-align: right;\">\n",
              "      <th></th>\n",
              "      <th>Age</th>\n",
              "      <th>Attrition</th>\n",
              "      <th>BusinessTravel</th>\n",
              "      <th>Department</th>\n",
              "      <th>DistanceFromHome</th>\n",
              "      <th>Education</th>\n",
              "      <th>EducationField</th>\n",
              "      <th>MaritalStatus</th>\n",
              "      <th>JobLevel</th>\n",
              "      <th>JobRole</th>\n",
              "      <th>MonthlyIncome</th>\n",
              "      <th>NumCompaniesWorked</th>\n",
              "      <th>PercentSalaryHike</th>\n",
              "      <th>TotalWorkingYears</th>\n",
              "      <th>TrainingTimesLastYear</th>\n",
              "      <th>YearsAtCompany</th>\n",
              "      <th>YearsSinceLastPromotion</th>\n",
              "      <th>YearsWithCurrManager</th>\n",
              "    </tr>\n",
              "  </thead>\n",
              "  <tbody>\n",
              "    <tr>\n",
              "      <th>0</th>\n",
              "      <td>51</td>\n",
              "      <td>0</td>\n",
              "      <td>2</td>\n",
              "      <td>2</td>\n",
              "      <td>6</td>\n",
              "      <td>2</td>\n",
              "      <td>1</td>\n",
              "      <td>1</td>\n",
              "      <td>1</td>\n",
              "      <td>0</td>\n",
              "      <td>131160</td>\n",
              "      <td>1.0</td>\n",
              "      <td>11</td>\n",
              "      <td>1.0</td>\n",
              "      <td>6</td>\n",
              "      <td>1</td>\n",
              "      <td>0</td>\n",
              "      <td>0</td>\n",
              "    </tr>\n",
              "    <tr>\n",
              "      <th>1</th>\n",
              "      <td>31</td>\n",
              "      <td>1</td>\n",
              "      <td>1</td>\n",
              "      <td>1</td>\n",
              "      <td>10</td>\n",
              "      <td>1</td>\n",
              "      <td>1</td>\n",
              "      <td>2</td>\n",
              "      <td>1</td>\n",
              "      <td>6</td>\n",
              "      <td>41890</td>\n",
              "      <td>0.0</td>\n",
              "      <td>23</td>\n",
              "      <td>6.0</td>\n",
              "      <td>3</td>\n",
              "      <td>5</td>\n",
              "      <td>1</td>\n",
              "      <td>4</td>\n",
              "    </tr>\n",
              "    <tr>\n",
              "      <th>2</th>\n",
              "      <td>32</td>\n",
              "      <td>0</td>\n",
              "      <td>1</td>\n",
              "      <td>1</td>\n",
              "      <td>17</td>\n",
              "      <td>4</td>\n",
              "      <td>4</td>\n",
              "      <td>1</td>\n",
              "      <td>4</td>\n",
              "      <td>7</td>\n",
              "      <td>193280</td>\n",
              "      <td>1.0</td>\n",
              "      <td>15</td>\n",
              "      <td>5.0</td>\n",
              "      <td>2</td>\n",
              "      <td>5</td>\n",
              "      <td>0</td>\n",
              "      <td>3</td>\n",
              "    </tr>\n",
              "    <tr>\n",
              "      <th>3</th>\n",
              "      <td>38</td>\n",
              "      <td>0</td>\n",
              "      <td>0</td>\n",
              "      <td>1</td>\n",
              "      <td>2</td>\n",
              "      <td>5</td>\n",
              "      <td>1</td>\n",
              "      <td>1</td>\n",
              "      <td>3</td>\n",
              "      <td>1</td>\n",
              "      <td>83210</td>\n",
              "      <td>3.0</td>\n",
              "      <td>11</td>\n",
              "      <td>13.0</td>\n",
              "      <td>5</td>\n",
              "      <td>8</td>\n",
              "      <td>7</td>\n",
              "      <td>5</td>\n",
              "    </tr>\n",
              "    <tr>\n",
              "      <th>4</th>\n",
              "      <td>32</td>\n",
              "      <td>0</td>\n",
              "      <td>2</td>\n",
              "      <td>1</td>\n",
              "      <td>10</td>\n",
              "      <td>1</td>\n",
              "      <td>3</td>\n",
              "      <td>2</td>\n",
              "      <td>1</td>\n",
              "      <td>7</td>\n",
              "      <td>23420</td>\n",
              "      <td>4.0</td>\n",
              "      <td>12</td>\n",
              "      <td>9.0</td>\n",
              "      <td>2</td>\n",
              "      <td>6</td>\n",
              "      <td>0</td>\n",
              "      <td>4</td>\n",
              "    </tr>\n",
              "    <tr>\n",
              "      <th>...</th>\n",
              "      <td>...</td>\n",
              "      <td>...</td>\n",
              "      <td>...</td>\n",
              "      <td>...</td>\n",
              "      <td>...</td>\n",
              "      <td>...</td>\n",
              "      <td>...</td>\n",
              "      <td>...</td>\n",
              "      <td>...</td>\n",
              "      <td>...</td>\n",
              "      <td>...</td>\n",
              "      <td>...</td>\n",
              "      <td>...</td>\n",
              "      <td>...</td>\n",
              "      <td>...</td>\n",
              "      <td>...</td>\n",
              "      <td>...</td>\n",
              "      <td>...</td>\n",
              "    </tr>\n",
              "    <tr>\n",
              "      <th>4404</th>\n",
              "      <td>29</td>\n",
              "      <td>0</td>\n",
              "      <td>2</td>\n",
              "      <td>2</td>\n",
              "      <td>4</td>\n",
              "      <td>3</td>\n",
              "      <td>4</td>\n",
              "      <td>2</td>\n",
              "      <td>2</td>\n",
              "      <td>1</td>\n",
              "      <td>35390</td>\n",
              "      <td>1.0</td>\n",
              "      <td>18</td>\n",
              "      <td>6.0</td>\n",
              "      <td>2</td>\n",
              "      <td>6</td>\n",
              "      <td>1</td>\n",
              "      <td>5</td>\n",
              "    </tr>\n",
              "    <tr>\n",
              "      <th>4405</th>\n",
              "      <td>42</td>\n",
              "      <td>0</td>\n",
              "      <td>2</td>\n",
              "      <td>1</td>\n",
              "      <td>5</td>\n",
              "      <td>4</td>\n",
              "      <td>3</td>\n",
              "      <td>2</td>\n",
              "      <td>1</td>\n",
              "      <td>6</td>\n",
              "      <td>60290</td>\n",
              "      <td>3.0</td>\n",
              "      <td>17</td>\n",
              "      <td>10.0</td>\n",
              "      <td>5</td>\n",
              "      <td>3</td>\n",
              "      <td>0</td>\n",
              "      <td>2</td>\n",
              "    </tr>\n",
              "    <tr>\n",
              "      <th>4406</th>\n",
              "      <td>29</td>\n",
              "      <td>0</td>\n",
              "      <td>2</td>\n",
              "      <td>1</td>\n",
              "      <td>2</td>\n",
              "      <td>4</td>\n",
              "      <td>3</td>\n",
              "      <td>0</td>\n",
              "      <td>1</td>\n",
              "      <td>2</td>\n",
              "      <td>26790</td>\n",
              "      <td>2.0</td>\n",
              "      <td>15</td>\n",
              "      <td>10.0</td>\n",
              "      <td>2</td>\n",
              "      <td>3</td>\n",
              "      <td>0</td>\n",
              "      <td>2</td>\n",
              "    </tr>\n",
              "    <tr>\n",
              "      <th>4407</th>\n",
              "      <td>25</td>\n",
              "      <td>0</td>\n",
              "      <td>2</td>\n",
              "      <td>1</td>\n",
              "      <td>25</td>\n",
              "      <td>2</td>\n",
              "      <td>1</td>\n",
              "      <td>1</td>\n",
              "      <td>2</td>\n",
              "      <td>7</td>\n",
              "      <td>37020</td>\n",
              "      <td>0.0</td>\n",
              "      <td>20</td>\n",
              "      <td>5.0</td>\n",
              "      <td>4</td>\n",
              "      <td>4</td>\n",
              "      <td>1</td>\n",
              "      <td>2</td>\n",
              "    </tr>\n",
              "    <tr>\n",
              "      <th>4408</th>\n",
              "      <td>42</td>\n",
              "      <td>0</td>\n",
              "      <td>2</td>\n",
              "      <td>2</td>\n",
              "      <td>18</td>\n",
              "      <td>2</td>\n",
              "      <td>3</td>\n",
              "      <td>0</td>\n",
              "      <td>1</td>\n",
              "      <td>2</td>\n",
              "      <td>23980</td>\n",
              "      <td>0.0</td>\n",
              "      <td>14</td>\n",
              "      <td>10.0</td>\n",
              "      <td>2</td>\n",
              "      <td>9</td>\n",
              "      <td>7</td>\n",
              "      <td>8</td>\n",
              "    </tr>\n",
              "  </tbody>\n",
              "</table>\n",
              "<p>4382 rows × 18 columns</p>\n",
              "</div>"
            ],
            "text/plain": [
              "      Age  Attrition  ...  YearsSinceLastPromotion  YearsWithCurrManager\n",
              "0      51          0  ...                        0                     0\n",
              "1      31          1  ...                        1                     4\n",
              "2      32          0  ...                        0                     3\n",
              "3      38          0  ...                        7                     5\n",
              "4      32          0  ...                        0                     4\n",
              "...   ...        ...  ...                      ...                   ...\n",
              "4404   29          0  ...                        1                     5\n",
              "4405   42          0  ...                        0                     2\n",
              "4406   29          0  ...                        0                     2\n",
              "4407   25          0  ...                        1                     2\n",
              "4408   42          0  ...                        7                     8\n",
              "\n",
              "[4382 rows x 18 columns]"
            ]
          },
          "metadata": {
            "tags": []
          }
        }
      ]
    },
    {
      "cell_type": "markdown",
      "metadata": {
        "id": "vgk_Z-dxpCLP",
        "colab_type": "text"
      },
      "source": [
        "# Univariate Analysis"
      ]
    },
    {
      "cell_type": "markdown",
      "metadata": {
        "id": "_pKMPZHopjB3",
        "colab_type": "text"
      },
      "source": [
        "Mean"
      ]
    },
    {
      "cell_type": "code",
      "metadata": {
        "id": "NQrfn61fpHq3",
        "colab_type": "code",
        "colab": {
          "base_uri": "https://localhost:8080/",
          "height": 354
        },
        "outputId": "91bac61b-3e55-4a91-b484-6a06d96321b6"
      },
      "source": [
        "#Calculating mean\n",
        "df.mean()"
      ],
      "execution_count": 6,
      "outputs": [
        {
          "output_type": "execute_result",
          "data": {
            "text/plain": [
              "Age                           36.933364\n",
              "Attrition                      0.160885\n",
              "BusinessTravel                 1.607257\n",
              "Department                     1.260840\n",
              "DistanceFromHome               9.198996\n",
              "Education                      2.912369\n",
              "EducationField                 2.247147\n",
              "MaritalStatus                  1.099270\n",
              "JobLevel                       2.063898\n",
              "JobRole                        4.459836\n",
              "MonthlyIncome              65061.702419\n",
              "NumCompaniesWorked             2.693291\n",
              "PercentSalaryHike             15.210634\n",
              "TotalWorkingYears             11.290278\n",
              "TrainingTimesLastYear          2.798266\n",
              "YearsAtCompany                 7.010497\n",
              "YearsSinceLastPromotion        2.191693\n",
              "YearsWithCurrManager           4.126198\n",
              "dtype: float64"
            ]
          },
          "metadata": {
            "tags": []
          },
          "execution_count": 6
        }
      ]
    },
    {
      "cell_type": "markdown",
      "metadata": {
        "id": "JO4ibbP3plEF",
        "colab_type": "text"
      },
      "source": [
        "Median"
      ]
    },
    {
      "cell_type": "code",
      "metadata": {
        "id": "1A5L2oCGpKvI",
        "colab_type": "code",
        "colab": {
          "base_uri": "https://localhost:8080/",
          "height": 354
        },
        "outputId": "edf8fbe3-c6d8-4cdc-b358-bb0081988c36"
      },
      "source": [
        "#calculating median\n",
        "df.median()"
      ],
      "execution_count": 7,
      "outputs": [
        {
          "output_type": "execute_result",
          "data": {
            "text/plain": [
              "Age                           36.0\n",
              "Attrition                      0.0\n",
              "BusinessTravel                 2.0\n",
              "Department                     1.0\n",
              "DistanceFromHome               7.0\n",
              "Education                      3.0\n",
              "EducationField                 2.0\n",
              "MaritalStatus                  1.0\n",
              "JobLevel                       2.0\n",
              "JobRole                        5.0\n",
              "MonthlyIncome              49190.0\n",
              "NumCompaniesWorked             2.0\n",
              "PercentSalaryHike             14.0\n",
              "TotalWorkingYears             10.0\n",
              "TrainingTimesLastYear          3.0\n",
              "YearsAtCompany                 5.0\n",
              "YearsSinceLastPromotion        1.0\n",
              "YearsWithCurrManager           3.0\n",
              "dtype: float64"
            ]
          },
          "metadata": {
            "tags": []
          },
          "execution_count": 7
        }
      ]
    },
    {
      "cell_type": "markdown",
      "metadata": {
        "id": "-GCmegh1pmjY",
        "colab_type": "text"
      },
      "source": [
        "Mode"
      ]
    },
    {
      "cell_type": "code",
      "metadata": {
        "id": "1Oe7S7Y9pJ-K",
        "colab_type": "code",
        "colab": {
          "base_uri": "https://localhost:8080/",
          "height": 97
        },
        "outputId": "49a4ab2f-71eb-4c50-9d5f-b9f85dc78923"
      },
      "source": [
        "df.mode()"
      ],
      "execution_count": 8,
      "outputs": [
        {
          "output_type": "execute_result",
          "data": {
            "text/html": [
              "<div>\n",
              "<style scoped>\n",
              "    .dataframe tbody tr th:only-of-type {\n",
              "        vertical-align: middle;\n",
              "    }\n",
              "\n",
              "    .dataframe tbody tr th {\n",
              "        vertical-align: top;\n",
              "    }\n",
              "\n",
              "    .dataframe thead th {\n",
              "        text-align: right;\n",
              "    }\n",
              "</style>\n",
              "<table border=\"1\" class=\"dataframe\">\n",
              "  <thead>\n",
              "    <tr style=\"text-align: right;\">\n",
              "      <th></th>\n",
              "      <th>Age</th>\n",
              "      <th>Attrition</th>\n",
              "      <th>BusinessTravel</th>\n",
              "      <th>Department</th>\n",
              "      <th>DistanceFromHome</th>\n",
              "      <th>Education</th>\n",
              "      <th>EducationField</th>\n",
              "      <th>MaritalStatus</th>\n",
              "      <th>JobLevel</th>\n",
              "      <th>JobRole</th>\n",
              "      <th>MonthlyIncome</th>\n",
              "      <th>NumCompaniesWorked</th>\n",
              "      <th>PercentSalaryHike</th>\n",
              "      <th>TotalWorkingYears</th>\n",
              "      <th>TrainingTimesLastYear</th>\n",
              "      <th>YearsAtCompany</th>\n",
              "      <th>YearsSinceLastPromotion</th>\n",
              "      <th>YearsWithCurrManager</th>\n",
              "    </tr>\n",
              "  </thead>\n",
              "  <tbody>\n",
              "    <tr>\n",
              "      <th>0</th>\n",
              "      <td>35</td>\n",
              "      <td>0</td>\n",
              "      <td>2</td>\n",
              "      <td>1</td>\n",
              "      <td>2</td>\n",
              "      <td>3</td>\n",
              "      <td>1</td>\n",
              "      <td>1</td>\n",
              "      <td>1</td>\n",
              "      <td>7</td>\n",
              "      <td>23420</td>\n",
              "      <td>1.0</td>\n",
              "      <td>11</td>\n",
              "      <td>10.0</td>\n",
              "      <td>2</td>\n",
              "      <td>5</td>\n",
              "      <td>0</td>\n",
              "      <td>2</td>\n",
              "    </tr>\n",
              "  </tbody>\n",
              "</table>\n",
              "</div>"
            ],
            "text/plain": [
              "   Age  Attrition  ...  YearsSinceLastPromotion  YearsWithCurrManager\n",
              "0   35          0  ...                        0                     2\n",
              "\n",
              "[1 rows x 18 columns]"
            ]
          },
          "metadata": {
            "tags": []
          },
          "execution_count": 8
        }
      ]
    },
    {
      "cell_type": "markdown",
      "metadata": {
        "id": "tx7eKxcLpn1d",
        "colab_type": "text"
      },
      "source": [
        "Variance"
      ]
    },
    {
      "cell_type": "code",
      "metadata": {
        "id": "lZvRFs0SpOu3",
        "colab_type": "code",
        "colab": {
          "base_uri": "https://localhost:8080/",
          "height": 354
        },
        "outputId": "bb9acad4-557e-4e02-d106-92c645f7a67c"
      },
      "source": [
        "df.var()"
      ],
      "execution_count": 9,
      "outputs": [
        {
          "output_type": "execute_result",
          "data": {
            "text/plain": [
              "Age                        8.348974e+01\n",
              "Attrition                  1.350321e-01\n",
              "BusinessTravel             4.430699e-01\n",
              "Department                 2.782150e-01\n",
              "DistanceFromHome           6.569744e+01\n",
              "Education                  1.050068e+00\n",
              "EducationField             1.768395e+00\n",
              "MaritalStatus              5.322569e-01\n",
              "JobLevel                   1.223490e+00\n",
              "JobRole                    6.056706e+00\n",
              "MonthlyIncome              2.222397e+09\n",
              "NumCompaniesWorked         6.239165e+00\n",
              "PercentSalaryHike          1.341762e+01\n",
              "TotalWorkingYears          6.061739e+01\n",
              "TrainingTimesLastYear      1.662558e+00\n",
              "YearsAtCompany             3.756894e+01\n",
              "YearsSinceLastPromotion    1.040059e+01\n",
              "YearsWithCurrManager       1.274257e+01\n",
              "dtype: float64"
            ]
          },
          "metadata": {
            "tags": []
          },
          "execution_count": 9
        }
      ]
    },
    {
      "cell_type": "markdown",
      "metadata": {
        "id": "MuMK3_yoppOJ",
        "colab_type": "text"
      },
      "source": [
        "Skew"
      ]
    },
    {
      "cell_type": "code",
      "metadata": {
        "id": "PinMZWtQpQte",
        "colab_type": "code",
        "colab": {
          "base_uri": "https://localhost:8080/",
          "height": 587
        },
        "outputId": "4032749e-e5f7-40cd-e6e3-21e01a2b52e9"
      },
      "source": [
        "#finding skewness\n",
        "df_skew=pd.DataFrame(df.skew(),columns=[\"Skew\"])\n",
        "df_skew"
      ],
      "execution_count": 10,
      "outputs": [
        {
          "output_type": "execute_result",
          "data": {
            "text/html": [
              "<div>\n",
              "<style scoped>\n",
              "    .dataframe tbody tr th:only-of-type {\n",
              "        vertical-align: middle;\n",
              "    }\n",
              "\n",
              "    .dataframe tbody tr th {\n",
              "        vertical-align: top;\n",
              "    }\n",
              "\n",
              "    .dataframe thead th {\n",
              "        text-align: right;\n",
              "    }\n",
              "</style>\n",
              "<table border=\"1\" class=\"dataframe\">\n",
              "  <thead>\n",
              "    <tr style=\"text-align: right;\">\n",
              "      <th></th>\n",
              "      <th>Skew</th>\n",
              "    </tr>\n",
              "  </thead>\n",
              "  <tbody>\n",
              "    <tr>\n",
              "      <th>Age</th>\n",
              "      <td>0.413048</td>\n",
              "    </tr>\n",
              "    <tr>\n",
              "      <th>Attrition</th>\n",
              "      <td>1.846529</td>\n",
              "    </tr>\n",
              "    <tr>\n",
              "      <th>BusinessTravel</th>\n",
              "      <td>-1.437507</td>\n",
              "    </tr>\n",
              "    <tr>\n",
              "      <th>Department</th>\n",
              "      <td>0.173436</td>\n",
              "    </tr>\n",
              "    <tr>\n",
              "      <th>DistanceFromHome</th>\n",
              "      <td>0.955517</td>\n",
              "    </tr>\n",
              "    <tr>\n",
              "      <th>Education</th>\n",
              "      <td>-0.288977</td>\n",
              "    </tr>\n",
              "    <tr>\n",
              "      <th>EducationField</th>\n",
              "      <td>0.550083</td>\n",
              "    </tr>\n",
              "    <tr>\n",
              "      <th>MaritalStatus</th>\n",
              "      <td>-0.155093</td>\n",
              "    </tr>\n",
              "    <tr>\n",
              "      <th>JobLevel</th>\n",
              "      <td>1.021797</td>\n",
              "    </tr>\n",
              "    <tr>\n",
              "      <th>JobRole</th>\n",
              "      <td>-0.357663</td>\n",
              "    </tr>\n",
              "    <tr>\n",
              "      <th>MonthlyIncome</th>\n",
              "      <td>1.367457</td>\n",
              "    </tr>\n",
              "    <tr>\n",
              "      <th>NumCompaniesWorked</th>\n",
              "      <td>1.029174</td>\n",
              "    </tr>\n",
              "    <tr>\n",
              "      <th>PercentSalaryHike</th>\n",
              "      <td>0.819510</td>\n",
              "    </tr>\n",
              "    <tr>\n",
              "      <th>TotalWorkingYears</th>\n",
              "      <td>1.115419</td>\n",
              "    </tr>\n",
              "    <tr>\n",
              "      <th>TrainingTimesLastYear</th>\n",
              "      <td>0.551818</td>\n",
              "    </tr>\n",
              "    <tr>\n",
              "      <th>YearsAtCompany</th>\n",
              "      <td>1.764619</td>\n",
              "    </tr>\n",
              "    <tr>\n",
              "      <th>YearsSinceLastPromotion</th>\n",
              "      <td>1.980992</td>\n",
              "    </tr>\n",
              "    <tr>\n",
              "      <th>YearsWithCurrManager</th>\n",
              "      <td>0.834277</td>\n",
              "    </tr>\n",
              "  </tbody>\n",
              "</table>\n",
              "</div>"
            ],
            "text/plain": [
              "                             Skew\n",
              "Age                      0.413048\n",
              "Attrition                1.846529\n",
              "BusinessTravel          -1.437507\n",
              "Department               0.173436\n",
              "DistanceFromHome         0.955517\n",
              "Education               -0.288977\n",
              "EducationField           0.550083\n",
              "MaritalStatus           -0.155093\n",
              "JobLevel                 1.021797\n",
              "JobRole                 -0.357663\n",
              "MonthlyIncome            1.367457\n",
              "NumCompaniesWorked       1.029174\n",
              "PercentSalaryHike        0.819510\n",
              "TotalWorkingYears        1.115419\n",
              "TrainingTimesLastYear    0.551818\n",
              "YearsAtCompany           1.764619\n",
              "YearsSinceLastPromotion  1.980992\n",
              "YearsWithCurrManager     0.834277"
            ]
          },
          "metadata": {
            "tags": []
          },
          "execution_count": 10
        }
      ]
    },
    {
      "cell_type": "markdown",
      "metadata": {
        "id": "_6xuuECipVMG",
        "colab_type": "text"
      },
      "source": [
        "Age, Education and TrainingTimesLastYear are having skewness between -0.5 and 0.5 hence, they are approximately symmetrical"
      ]
    },
    {
      "cell_type": "markdown",
      "metadata": {
        "id": "nAQFd7pgqPKp",
        "colab_type": "text"
      },
      "source": [
        "Distribution Plot:"
      ]
    },
    {
      "cell_type": "code",
      "metadata": {
        "id": "fnm5OogzpTDb",
        "colab_type": "code",
        "colab": {
          "base_uri": "https://localhost:8080/",
          "height": 294
        },
        "outputId": "80c04f1c-ca97-42a8-cc45-4379df5beda9"
      },
      "source": [
        "from scipy.stats import norm\n",
        "#normal distribution of Age\n",
        "domain=np.linspace(df['Age'].min(),df['Age'].max(),df['Age'].count())\n",
        "plt.plot(domain,norm.pdf(domain,df['Age'].mean(),df['Age'].std()))\n",
        "plt.title(\"Normalization\")\n",
        "plt.xlabel(\"Age\")\n",
        "plt.show()"
      ],
      "execution_count": 12,
      "outputs": [
        {
          "output_type": "display_data",
          "data": {
            "image/png": "[encoded data removed]",
            "text/plain": [
              "<Figure size 432x288 with 1 Axes>"
            ]
          },
          "metadata": {
            "tags": [],
            "needs_background": "light"
          }
        }
      ]
    },
    {
      "cell_type": "code",
      "metadata": {
        "id": "ViMFcW5osDAG",
        "colab_type": "code",
        "colab": {
          "base_uri": "https://localhost:8080/",
          "height": 317
        },
        "outputId": "1b4f380a-c332-44d0-ec7d-d0340ed0da69"
      },
      "source": [
        "plt.hist(df['Age'])"
      ],
      "execution_count": 18,
      "outputs": [
        {
          "output_type": "execute_result",
          "data": {
            "text/plain": [
              "(array([169., 314., 666., 792., 759., 644., 392., 276., 230., 140.]),\n",
              " array([18. , 22.2, 26.4, 30.6, 34.8, 39. , 43.2, 47.4, 51.6, 55.8, 60. ]),\n",
              " <a list of 10 Patch objects>)"
            ]
          },
          "metadata": {
            "tags": []
          },
          "execution_count": 18
        },
        {
          "output_type": "display_data",
          "data": {
            "image/png": "[encoded data removed]",
            "text/plain": [
              "<Figure size 432x288 with 1 Axes>"
            ]
          },
          "metadata": {
            "tags": [],
            "needs_background": "light"
          }
        }
      ]
    },
    {
      "cell_type": "code",
      "metadata": {
        "id": "geAXwwMbqU8k",
        "colab_type": "code",
        "colab": {
          "base_uri": "https://localhost:8080/",
          "height": 264
        },
        "outputId": "525040c3-c2f6-4c9d-82ae-ee54cd6499f2"
      },
      "source": [
        "\n",
        "plt.hist(df['Education'])\n",
        "plt.show()"
      ],
      "execution_count": 13,
      "outputs": [
        {
          "output_type": "display_data",
          "data": {
            "image/png": "[encoded data removed]",
            "text/plain": [
              "<Figure size 432x288 with 1 Axes>"
            ]
          },
          "metadata": {
            "tags": [],
            "needs_background": "light"
          }
        }
      ]
    },
    {
      "cell_type": "code",
      "metadata": {
        "id": "4pXOIXjnqaLP",
        "colab_type": "code",
        "colab": {
          "base_uri": "https://localhost:8080/",
          "height": 264
        },
        "outputId": "31b449aa-097d-45b9-a449-18bfa7f95b2c"
      },
      "source": [
        "plt.hist(df['TrainingTimesLastYear'])\n",
        "plt.show()"
      ],
      "execution_count": 14,
      "outputs": [
        {
          "output_type": "display_data",
          "data": {
            "image/png": "[encoded data removed]",
            "text/plain": [
              "<Figure size 432x288 with 1 Axes>"
            ]
          },
          "metadata": {
            "tags": [],
            "needs_background": "light"
          }
        }
      ]
    },
    {
      "cell_type": "markdown",
      "metadata": {
        "id": "6pW6e7BHqjgD",
        "colab_type": "text"
      },
      "source": [
        "Kurtosis:"
      ]
    },
    {
      "cell_type": "code",
      "metadata": {
        "id": "V-PpxchzqgZT",
        "colab_type": "code",
        "colab": {
          "base_uri": "https://localhost:8080/",
          "height": 587
        },
        "outputId": "5f05067d-a9fb-4636-d78a-a13241bdab08"
      },
      "source": [
        "df_kurt = pd.DataFrame(df.kurt(), columns = ['Kurtosis'])\n",
        "df_kurt"
      ],
      "execution_count": 15,
      "outputs": [
        {
          "output_type": "execute_result",
          "data": {
            "text/html": [
              "<div>\n",
              "<style scoped>\n",
              "    .dataframe tbody tr th:only-of-type {\n",
              "        vertical-align: middle;\n",
              "    }\n",
              "\n",
              "    .dataframe tbody tr th {\n",
              "        vertical-align: top;\n",
              "    }\n",
              "\n",
              "    .dataframe thead th {\n",
              "        text-align: right;\n",
              "    }\n",
              "</style>\n",
              "<table border=\"1\" class=\"dataframe\">\n",
              "  <thead>\n",
              "    <tr style=\"text-align: right;\">\n",
              "      <th></th>\n",
              "      <th>Kurtosis</th>\n",
              "    </tr>\n",
              "  </thead>\n",
              "  <tbody>\n",
              "    <tr>\n",
              "      <th>Age</th>\n",
              "      <td>-0.409517</td>\n",
              "    </tr>\n",
              "    <tr>\n",
              "      <th>Attrition</th>\n",
              "      <td>1.410313</td>\n",
              "    </tr>\n",
              "    <tr>\n",
              "      <th>BusinessTravel</th>\n",
              "      <td>0.695632</td>\n",
              "    </tr>\n",
              "    <tr>\n",
              "      <th>Department</th>\n",
              "      <td>-0.394980</td>\n",
              "    </tr>\n",
              "    <tr>\n",
              "      <th>DistanceFromHome</th>\n",
              "      <td>-0.230691</td>\n",
              "    </tr>\n",
              "    <tr>\n",
              "      <th>Education</th>\n",
              "      <td>-0.565008</td>\n",
              "    </tr>\n",
              "    <tr>\n",
              "      <th>EducationField</th>\n",
              "      <td>-0.687173</td>\n",
              "    </tr>\n",
              "    <tr>\n",
              "      <th>MaritalStatus</th>\n",
              "      <td>-1.112941</td>\n",
              "    </tr>\n",
              "    <tr>\n",
              "      <th>JobLevel</th>\n",
              "      <td>0.388189</td>\n",
              "    </tr>\n",
              "    <tr>\n",
              "      <th>JobRole</th>\n",
              "      <td>-1.194397</td>\n",
              "    </tr>\n",
              "    <tr>\n",
              "      <th>MonthlyIncome</th>\n",
              "      <td>0.990836</td>\n",
              "    </tr>\n",
              "    <tr>\n",
              "      <th>NumCompaniesWorked</th>\n",
              "      <td>0.014307</td>\n",
              "    </tr>\n",
              "    <tr>\n",
              "      <th>PercentSalaryHike</th>\n",
              "      <td>-0.306951</td>\n",
              "    </tr>\n",
              "    <tr>\n",
              "      <th>TotalWorkingYears</th>\n",
              "      <td>0.909316</td>\n",
              "    </tr>\n",
              "    <tr>\n",
              "      <th>TrainingTimesLastYear</th>\n",
              "      <td>0.494215</td>\n",
              "    </tr>\n",
              "    <tr>\n",
              "      <th>YearsAtCompany</th>\n",
              "      <td>3.930726</td>\n",
              "    </tr>\n",
              "    <tr>\n",
              "      <th>YearsSinceLastPromotion</th>\n",
              "      <td>3.592162</td>\n",
              "    </tr>\n",
              "    <tr>\n",
              "      <th>YearsWithCurrManager</th>\n",
              "      <td>0.170703</td>\n",
              "    </tr>\n",
              "  </tbody>\n",
              "</table>\n",
              "</div>"
            ],
            "text/plain": [
              "                         Kurtosis\n",
              "Age                     -0.409517\n",
              "Attrition                1.410313\n",
              "BusinessTravel           0.695632\n",
              "Department              -0.394980\n",
              "DistanceFromHome        -0.230691\n",
              "Education               -0.565008\n",
              "EducationField          -0.687173\n",
              "MaritalStatus           -1.112941\n",
              "JobLevel                 0.388189\n",
              "JobRole                 -1.194397\n",
              "MonthlyIncome            0.990836\n",
              "NumCompaniesWorked       0.014307\n",
              "PercentSalaryHike       -0.306951\n",
              "TotalWorkingYears        0.909316\n",
              "TrainingTimesLastYear    0.494215\n",
              "YearsAtCompany           3.930726\n",
              "YearsSinceLastPromotion  3.592162\n",
              "YearsWithCurrManager     0.170703"
            ]
          },
          "metadata": {
            "tags": []
          },
          "execution_count": 15
        }
      ]
    },
    {
      "cell_type": "markdown",
      "metadata": {
        "id": "y-cC3HSLqv0_",
        "colab_type": "text"
      },
      "source": [
        "Outliers:"
      ]
    },
    {
      "cell_type": "code",
      "metadata": {
        "id": "-Q4L5-3QqsKd",
        "colab_type": "code",
        "colab": {
          "base_uri": "https://localhost:8080/",
          "height": 264
        },
        "outputId": "446538a2-7e08-438b-e2f7-2c0c12707646"
      },
      "source": [
        "plt.boxplot(df['Age'])\n",
        "plt.show()"
      ],
      "execution_count": 16,
      "outputs": [
        {
          "output_type": "display_data",
          "data": {
            "image/png": "[encoded data removed]",
            "text/plain": [
              "<Figure size 432x288 with 1 Axes>"
            ]
          },
          "metadata": {
            "tags": [],
            "needs_background": "light"
          }
        }
      ]
    },
    {
      "cell_type": "markdown",
      "metadata": {
        "id": "F5XibGO_q3IK",
        "colab_type": "text"
      },
      "source": [
        "From above box plot we can say that age is normally disributed and has no Outliers"
      ]
    },
    {
      "cell_type": "code",
      "metadata": {
        "id": "xPCulikBq2tn",
        "colab_type": "code",
        "colab": {
          "base_uri": "https://localhost:8080/",
          "height": 264
        },
        "outputId": "5af2fff0-04cc-4408-eb7e-8e60958da484"
      },
      "source": [
        "\n",
        "plt.boxplot(df['MonthlyIncome'])\n",
        "plt.show()"
      ],
      "execution_count": 17,
      "outputs": [
        {
          "output_type": "display_data",
          "data": {
            "image/png": "[encoded data removed]",
            "text/plain": [
              "<Figure size 432x288 with 1 Axes>"
            ]
          },
          "metadata": {
            "tags": [],
            "needs_background": "light"
          }
        }
      ]
    },
    {
      "cell_type": "markdown",
      "metadata": {
        "id": "RgVZeT3hrKc4",
        "colab_type": "text"
      },
      "source": [
        "From above box plot we can say that MonthlyIncome has more no of outliers and positively skewed to the right"
      ]
    },
    {
      "cell_type": "code",
      "metadata": {
        "id": "jREds-3zskjS",
        "colab_type": "code",
        "colab": {
          "base_uri": "https://localhost:8080/",
          "height": 264
        },
        "outputId": "e266dcb8-6250-455f-8f99-aaeccb383ef3"
      },
      "source": [
        "plt.boxplot(df['YearsAtCompany'])\n",
        "plt.show()"
      ],
      "execution_count": 20,
      "outputs": [
        {
          "output_type": "display_data",
          "data": {
            "image/png": "[encoded data removed]",
            "text/plain": [
              "<Figure size 432x288 with 1 Axes>"
            ]
          },
          "metadata": {
            "tags": [],
            "needs_background": "light"
          }
        }
      ]
    },
    {
      "cell_type": "markdown",
      "metadata": {
        "id": "tIwFiT7gsxEE",
        "colab_type": "text"
      },
      "source": [
        "From above box plot we can say that YearsAtCompany is Right Skewed with several outliers"
      ]
    },
    {
      "cell_type": "code",
      "metadata": {
        "id": "578icCQ7zX4A",
        "colab_type": "code",
        "colab": {
          "base_uri": "https://localhost:8080/",
          "height": 406
        },
        "outputId": "d3247c01-6a02-4488-fe74-405162956cf2"
      },
      "source": [
        "plt.boxplot(df['NumCompaniesWorked'])"
      ],
      "execution_count": 27,
      "outputs": [
        {
          "output_type": "execute_result",
          "data": {
            "text/plain": [
              "{'boxes': [<matplotlib.lines.Line2D at 0x7f92c5992748>],\n",
              " 'caps': [<matplotlib.lines.Line2D at 0x7f92c599c198>,\n",
              "  <matplotlib.lines.Line2D at 0x7f92c599c518>],\n",
              " 'fliers': [<matplotlib.lines.Line2D at 0x7f92c599cc18>],\n",
              " 'means': [],\n",
              " 'medians': [<matplotlib.lines.Line2D at 0x7f92c599c898>],\n",
              " 'whiskers': [<matplotlib.lines.Line2D at 0x7f92c5992a58>,\n",
              "  <matplotlib.lines.Line2D at 0x7f92c5992dd8>]}"
            ]
          },
          "metadata": {
            "tags": []
          },
          "execution_count": 27
        },
        {
          "output_type": "display_data",
          "data": {
            "image/png": "[encoded data removed]",
            "text/plain": [
              "<Figure size 432x288 with 1 Axes>"
            ]
          },
          "metadata": {
            "tags": [],
            "needs_background": "light"
          }
        }
      ]
    },
    {
      "cell_type": "markdown",
      "metadata": {
        "id": "aVWTq_eOHr3F",
        "colab_type": "text"
      },
      "source": [
        "# **Data Visualization**"
      ]
    },
    {
      "cell_type": "code",
      "metadata": {
        "id": "-Z_WaJ2uH0sQ",
        "colab_type": "code",
        "colab": {
          "base_uri": "https://localhost:8080/",
          "height": 1000
        },
        "outputId": "efa3c70e-dced-4290-80cd-d99fc13b3809"
      },
      "source": [
        "plt.figure(figsize=(24,24))\n",
        "sns.heatmap(df.corr(),cmap='rainbow',annot=True)\n",
        "plt.show()"
      ],
      "execution_count": 78,
      "outputs": [
        {
          "output_type": "display_data",
          "data": {
            "image/png": "[encoded data removed]",
            "text/plain": [
              "<Figure size 1728x1728 with 2 Axes>"
            ]
          },
          "metadata": {
            "tags": [],
            "needs_background": "light"
          }
        }
      ]
    },
    {
      "cell_type": "markdown",
      "metadata": {
        "id": "dx-Sj2avIDiv",
        "colab_type": "text"
      },
      "source": [
        "JobRole Plot"
      ]
    },
    {
      "cell_type": "code",
      "metadata": {
        "id": "zWl6mmzPIAy-",
        "colab_type": "code",
        "colab": {
          "base_uri": "https://localhost:8080/",
          "height": 278
        },
        "outputId": "d767ef4f-8b26-4564-8afd-0789ee12f610"
      },
      "source": [
        "sns.countplot(y=\"JobRole\", hue=\"Attrition\", data=dataset)\n",
        "plt.show()"
      ],
      "execution_count": 84,
      "outputs": [
        {
          "output_type": "display_data",
          "data": {
            "image/png": "[encoded data removed]",
            "text/plain": [
              "<Figure size 432x288 with 1 Axes>"
            ]
          },
          "metadata": {
            "tags": [],
            "needs_background": "light"
          }
        }
      ]
    },
    {
      "cell_type": "markdown",
      "metadata": {
        "id": "5Ol6aBm4IZTL",
        "colab_type": "text"
      },
      "source": [
        "Department Plot"
      ]
    },
    {
      "cell_type": "code",
      "metadata": {
        "id": "iDw6E1XdIgBs",
        "colab_type": "code",
        "colab": {
          "base_uri": "https://localhost:8080/",
          "height": 278
        },
        "outputId": "f04989d1-6418-4e8b-e839-a8f685e43657"
      },
      "source": [
        "sns.countplot(y=\"Department\", hue=\"Attrition\", data=dataset)\n",
        "plt.show()"
      ],
      "execution_count": 86,
      "outputs": [
        {
          "output_type": "display_data",
          "data": {
            "image/png": "[encoded data removed]",
            "text/plain": [
              "<Figure size 432x288 with 1 Axes>"
            ]
          },
          "metadata": {
            "tags": [],
            "needs_background": "light"
          }
        }
      ]
    },
    {
      "cell_type": "markdown",
      "metadata": {
        "id": "j7oxikPdIiWF",
        "colab_type": "text"
      },
      "source": [
        "Business Travel Plot\n",
        "\n",
        "\n"
      ]
    },
    {
      "cell_type": "code",
      "metadata": {
        "id": "W7K9MdLkIvVR",
        "colab_type": "code",
        "colab": {
          "base_uri": "https://localhost:8080/",
          "height": 278
        },
        "outputId": "577f644e-660a-40bc-f5d1-a8f49f4ccbee"
      },
      "source": [
        "\n",
        "sns.countplot(y=\"BusinessTravel\", hue=\"Attrition\", data=dataset)\n",
        "plt.show()"
      ],
      "execution_count": 87,
      "outputs": [
        {
          "output_type": "display_data",
          "data": {
            "image/png": "[encoded data removed]",
            "text/plain": [
              "<Figure size 432x288 with 1 Axes>"
            ]
          },
          "metadata": {
            "tags": [],
            "needs_background": "light"
          }
        }
      ]
    },
    {
      "cell_type": "markdown",
      "metadata": {
        "id": "y0fSPhSOJkFu",
        "colab_type": "text"
      },
      "source": [
        "Gender Plot"
      ]
    },
    {
      "cell_type": "code",
      "metadata": {
        "id": "Q3cZUkxvI8et",
        "colab_type": "code",
        "colab": {
          "base_uri": "https://localhost:8080/",
          "height": 278
        },
        "outputId": "4fb8eda7-e813-44b8-bca5-1f9c8ce62be0"
      },
      "source": [
        "sns.countplot(y=\"Gender\", hue=\"Attrition\", data=dataset)\n",
        "plt.show()"
      ],
      "execution_count": 88,
      "outputs": [
        {
          "output_type": "display_data",
          "data": {
            "image/png": "[encoded data removed]",
            "text/plain": [
              "<Figure size 432x288 with 1 Axes>"
            ]
          },
          "metadata": {
            "tags": [],
            "needs_background": "light"
          }
        }
      ]
    },
    {
      "cell_type": "markdown",
      "metadata": {
        "id": "6x761bH9JB2P",
        "colab_type": "text"
      },
      "source": [
        "Education Field Plot"
      ]
    },
    {
      "cell_type": "code",
      "metadata": {
        "id": "deSSPogyJMec",
        "colab_type": "code",
        "colab": {
          "base_uri": "https://localhost:8080/",
          "height": 278
        },
        "outputId": "8057ec2e-13e0-4cbf-9034-40d54bb018c6"
      },
      "source": [
        "sns.countplot(y=\"EducationField\", hue=\"Attrition\", data=dataset)\n",
        "plt.show()"
      ],
      "execution_count": 90,
      "outputs": [
        {
          "output_type": "display_data",
          "data": {
            "image/png": "[encoded data removed]",
            "text/plain": [
              "<Figure size 432x288 with 1 Axes>"
            ]
          },
          "metadata": {
            "tags": [],
            "needs_background": "light"
          }
        }
      ]
    },
    {
      "cell_type": "markdown",
      "metadata": {
        "id": "2yBycdQRrfJ4",
        "colab_type": "text"
      },
      "source": [
        "# **Statistical Tests**"
      ]
    },
    {
      "cell_type": "markdown",
      "metadata": {
        "id": "vaCVIWM5ryEA",
        "colab_type": "text"
      },
      "source": [
        "# MannWhitney Tests:"
      ]
    },
    {
      "cell_type": "code",
      "metadata": {
        "id": "U-pz7nIdresz",
        "colab_type": "code",
        "colab": {}
      },
      "source": [
        "#Here we are comparing two Independent samples\n",
        "con = df[['Age', 'DistanceFromHome', 'MonthlyIncome','NumCompaniesWorked', 'PercentSalaryHike', 'TotalWorkingYears', 'TrainingTimesLastYear',\n",
        "       'YearsAtCompany', 'YearsSinceLastPromotion', 'YearsWithCurrManager']]"
      ],
      "execution_count": 21,
      "outputs": []
    },
    {
      "cell_type": "code",
      "metadata": {
        "id": "eyZNCTviqz1i",
        "colab_type": "code",
        "colab": {}
      },
      "source": [
        "from scipy.stats import mannwhitneyu\n",
        "def mwtest(name):\n",
        "  print(f\"{name} with Attrition\")\n",
        "  print(f\"\\t Null Hypothesis=There is no significant difference in attrition_yes_{name} with attrition_no_{name}\")\n",
        "  print(f\"\\tAlternative Hypothesis=There is significant difference in attrition_yes{name} with attrition_no{name}\\n\")\n",
        "  print(\"\\tPerforming mannwhitney test to obtain p value\")\n",
        "  stats,p=mannwhitneyu(data_yes[name],data_no[name])\n",
        "  print(\"\\t\",p)\n",
        "  if(p<0.05):\n",
        "    print(f\"\\tReject the Nulll hypothesis,Hence there is significant difference in {name} between attrition Yes and No\")\n",
        "  else:\n",
        "    print(f\"\\tAccept the Null hypothesis,Hence there is no significant difference in {name} between attrition Yes and No\")\n",
        "  print(\"\\n\")"
      ],
      "execution_count": 22,
      "outputs": []
    },
    {
      "cell_type": "code",
      "metadata": {
        "id": "48ScyCJstKLw",
        "colab_type": "code",
        "colab": {
          "base_uri": "https://localhost:8080/",
          "height": 1000
        },
        "outputId": "4c957c39-6c69-461a-a1ef-b40f51fe7306"
      },
      "source": [
        "col=list(con.columns)\n",
        "for name in col:\n",
        "  mwtest(name)"
      ],
      "execution_count": 25,
      "outputs": [
        {
          "output_type": "stream",
          "text": [
            "Age with Attrition\n",
            "\t Null Hypothesis=There is no significant difference in attrition_yes_Age with attrition_no_Age\n",
            "\tAlternative Hypothesis=There is significant difference in attrition_yesAge with attrition_noAge\n",
            "\n",
            "\tPerforming mannwhitney test to obtain p value\n",
            "\t 2.9951588479067175e-30\n",
            "\tReject the Nulll hypothesis,Hence there is significant difference in Age between attrition Yes and No\n",
            "\n",
            "\n",
            "DistanceFromHome with Attrition\n",
            "\t Null Hypothesis=There is no significant difference in attrition_yes_DistanceFromHome with attrition_no_DistanceFromHome\n",
            "\tAlternative Hypothesis=There is significant difference in attrition_yesDistanceFromHome with attrition_noDistanceFromHome\n",
            "\n",
            "\tPerforming mannwhitney test to obtain p value\n",
            "\t 0.4629185205822659\n",
            "\tAccept the Null hypothesis,Hence there is no significant difference in DistanceFromHome between attrition Yes and No\n",
            "\n",
            "\n",
            "MonthlyIncome with Attrition\n",
            "\t Null Hypothesis=There is no significant difference in attrition_yes_MonthlyIncome with attrition_no_MonthlyIncome\n",
            "\tAlternative Hypothesis=There is significant difference in attrition_yesMonthlyIncome with attrition_noMonthlyIncome\n",
            "\n",
            "\tPerforming mannwhitney test to obtain p value\n",
            "\t 0.053577283839938566\n",
            "\tAccept the Null hypothesis,Hence there is no significant difference in MonthlyIncome between attrition Yes and No\n",
            "\n",
            "\n",
            "NumCompaniesWorked with Attrition\n",
            "\t Null Hypothesis=There is no significant difference in attrition_yes_NumCompaniesWorked with attrition_no_NumCompaniesWorked\n",
            "\tAlternative Hypothesis=There is significant difference in attrition_yesNumCompaniesWorked with attrition_noNumCompaniesWorked\n",
            "\n",
            "\tPerforming mannwhitney test to obtain p value\n",
            "\t 0.02488087998120482\n",
            "\tReject the Nulll hypothesis,Hence there is significant difference in NumCompaniesWorked between attrition Yes and No\n",
            "\n",
            "\n",
            "PercentSalaryHike with Attrition\n",
            "\t Null Hypothesis=There is no significant difference in attrition_yes_PercentSalaryHike with attrition_no_PercentSalaryHike\n",
            "\tAlternative Hypothesis=There is significant difference in attrition_yesPercentSalaryHike with attrition_noPercentSalaryHike\n",
            "\n",
            "\tPerforming mannwhitney test to obtain p value\n",
            "\t 0.018660129917539733\n",
            "\tReject the Nulll hypothesis,Hence there is significant difference in PercentSalaryHike between attrition Yes and No\n",
            "\n",
            "\n",
            "TotalWorkingYears with Attrition\n",
            "\t Null Hypothesis=There is no significant difference in attrition_yes_TotalWorkingYears with attrition_no_TotalWorkingYears\n",
            "\tAlternative Hypothesis=There is significant difference in attrition_yesTotalWorkingYears with attrition_noTotalWorkingYears\n",
            "\n",
            "\tPerforming mannwhitney test to obtain p value\n",
            "\t 2.8897554531400447e-39\n",
            "\tReject the Nulll hypothesis,Hence there is significant difference in TotalWorkingYears between attrition Yes and No\n",
            "\n",
            "\n",
            "TrainingTimesLastYear with Attrition\n",
            "\t Null Hypothesis=There is no significant difference in attrition_yes_TrainingTimesLastYear with attrition_no_TrainingTimesLastYear\n",
            "\tAlternative Hypothesis=There is significant difference in attrition_yesTrainingTimesLastYear with attrition_noTrainingTimesLastYear\n",
            "\n",
            "\tPerforming mannwhitney test to obtain p value\n",
            "\t 0.005167954938699059\n",
            "\tReject the Nulll hypothesis,Hence there is significant difference in TrainingTimesLastYear between attrition Yes and No\n",
            "\n",
            "\n",
            "YearsAtCompany with Attrition\n",
            "\t Null Hypothesis=There is no significant difference in attrition_yes_YearsAtCompany with attrition_no_YearsAtCompany\n",
            "\tAlternative Hypothesis=There is significant difference in attrition_yesYearsAtCompany with attrition_noYearsAtCompany\n",
            "\n",
            "\tPerforming mannwhitney test to obtain p value\n",
            "\t 6.047598261692858e-37\n",
            "\tReject the Nulll hypothesis,Hence there is significant difference in YearsAtCompany between attrition Yes and No\n",
            "\n",
            "\n",
            "YearsSinceLastPromotion with Attrition\n",
            "\t Null Hypothesis=There is no significant difference in attrition_yes_YearsSinceLastPromotion with attrition_no_YearsSinceLastPromotion\n",
            "\tAlternative Hypothesis=There is significant difference in attrition_yesYearsSinceLastPromotion with attrition_noYearsSinceLastPromotion\n",
            "\n",
            "\tPerforming mannwhitney test to obtain p value\n",
            "\t 0.0002021180346719736\n",
            "\tReject the Nulll hypothesis,Hence there is significant difference in YearsSinceLastPromotion between attrition Yes and No\n",
            "\n",
            "\n",
            "YearsWithCurrManager with Attrition\n",
            "\t Null Hypothesis=There is no significant difference in attrition_yes_YearsWithCurrManager with attrition_no_YearsWithCurrManager\n",
            "\tAlternative Hypothesis=There is significant difference in attrition_yesYearsWithCurrManager with attrition_noYearsWithCurrManager\n",
            "\n",
            "\tPerforming mannwhitney test to obtain p value\n",
            "\t 1.2365483142169853e-31\n",
            "\tReject the Nulll hypothesis,Hence there is significant difference in YearsWithCurrManager between attrition Yes and No\n",
            "\n",
            "\n"
          ],
          "name": "stdout"
        }
      ]
    },
    {
      "cell_type": "markdown",
      "metadata": {
        "id": "Oh4geoQO3g_d",
        "colab_type": "text"
      },
      "source": [
        "# Inference:\n",
        "\n",
        "\n",
        "*   There is significant difference in Age between attrition Yes and No\n",
        "\n",
        "*   There is significant difference in attrition_yesNumCompaniesWorked with attrition_noNumCompaniesWorked\n",
        "*There is significant difference in NumCompaniesWorked between attrition Yes and No\n",
        "* There is significant difference in PercentSalaryHike between attrition Yes and No\n",
        "*There is significant difference in TotalWorkingYears between attrition Yes and No\n",
        "*There is significant difference in TrainingTimesLastYear between attrition Yes and No\n",
        "*There is significant difference in YearsAtCompany between attrition Yes and No\n",
        "*There is significant difference in YearsSinceLastPromotion between attrition Yes and No\n",
        "*There is significant difference in YearsWithCurrManager between attrition Yes and No\n",
        "\n",
        "\n",
        "\n"
      ]
    },
    {
      "cell_type": "markdown",
      "metadata": {
        "id": "wgdfKn6Guy59",
        "colab_type": "text"
      },
      "source": [
        "# Independent T Test"
      ]
    },
    {
      "cell_type": "code",
      "metadata": {
        "id": "e6UN-8E8zwPt",
        "colab_type": "code",
        "colab": {
          "base_uri": "https://localhost:8080/",
          "height": 87
        },
        "outputId": "f15b1687-cc64-41c8-d0b5-da20435dfb20"
      },
      "source": [
        "#Checking affect of attrition of employees for lower job_level and higher job_level\n",
        "print(\"H0: There is no significant difference in attrition of employees with lower job_level and higher job_level\")\n",
        "print(\"Ha:There is significant difference in attrition of employees with lower job_level and higher job_level\")\n",
        "jb_lev_1=data_yes[data_yes['JobLevel']<=2]\n",
        "jb_lev_2=data_yes[data_yes['JobLevel']>2]\n",
        "from scipy.stats import ttest_ind\n",
        "stats,p=ttest_ind(jb_lev_1[\"JobLevel\"],jb_lev_2[\"JobLevel\"])\n",
        "print(stats,p)\n",
        "if(p<0.05):\n",
        "  print(\"Reject null hypothesis,Hence there is significant difference in attrition of employees with lower job_level and higher job_level \")\n",
        "else:\n",
        "  print(\"Accept null hypothesis,Hence there is no significant difference in attrition of employees with lower job_level and higher job_level\")"
      ],
      "execution_count": 93,
      "outputs": [
        {
          "output_type": "stream",
          "text": [
            "H0: There is no significant difference in attrition of employees with lower job_level and higher job_level\n",
            "Ha:There is significant difference in attrition of employees with lower job_level and higher job_level\n",
            "-41.77461670346038 2.434278190234009e-193\n",
            "Reject null hypothesis,Hence there is significant difference in attrition of employees with lower job_level and higher job_level \n"
          ],
          "name": "stdout"
        }
      ]
    },
    {
      "cell_type": "code",
      "metadata": {
        "id": "Vr1Lfjbq0JY3",
        "colab_type": "code",
        "colab": {
          "base_uri": "https://localhost:8080/",
          "height": 87
        },
        "outputId": "e40fc372-023e-4d1b-a061-6f728eb35124"
      },
      "source": [
        "#Checking affect of attrition of employees for yearsatcompany less than 7 years and greater than 7 years\n",
        "print(\"H0:There is no significant difference in attrition of employees with years at the company less than 7 years and more than 7 years\")\n",
        "print(\"Ha:There is significant difference in attrition of employees with years at the company less than 7 years and more than 7 years\")\n",
        "yearscomp1=data_yes[data_yes['YearsAtCompany']<=7]\n",
        "yearscomp2=data_yes[data_yes['YearsAtCompany']>7]\n",
        "stats,p=ttest_ind(yearscomp1['YearsAtCompany'],yearscomp2['YearsAtCompany'])\n",
        "print(stats,p)\n",
        "if p<0.05:\n",
        "  print(\"Reject Null Hypothesis,Hence there is significant difference in attrition of employees with years at the company less than 7 years and more than 7 years\")\n",
        "else:\n",
        "  print(\"Accept Null Hypothesis,Hence there is no significant difference in attrition of employees with years at the company less than 7 years and more than 7 years\")"
      ],
      "execution_count": 92,
      "outputs": [
        {
          "output_type": "stream",
          "text": [
            "H0:There is no significant difference in attrition of employees with years at the company less than 7 years and more than 7 years\n",
            "Ha:There is significant difference in attrition of employees with years at the company less than 7 years and more than 7 years\n",
            "-30.707163755502485 2.3649637620928476e-132\n",
            "Reject Null Hypothesis,Hence there is significant difference in attrition of employees with years at the company less than 7 years and more than 7 years\n"
          ],
          "name": "stdout"
        }
      ]
    },
    {
      "cell_type": "code",
      "metadata": {
        "id": "wxRlCxlR1POL",
        "colab_type": "code",
        "colab": {
          "base_uri": "https://localhost:8080/",
          "height": 87
        },
        "outputId": "25d94c34-470d-4ba9-ca7c-2c1ba6126b46"
      },
      "source": [
        "#Checking affect of attrition of employees for TotalWorkingYears less than 10 and greater than 10\n",
        "print(\"H0:There is no signicant difference of attrition of employees with TotalWorkingYears<10 and greater than 10\")\n",
        "print(\"Ha:There is signicant difference of attrition of employees with TotalWorkingYears<10 and greater than 10\")\n",
        "t_w_y1=data_yes[data_yes['TotalWorkingYears']<10]\n",
        "t_w_y2=data_yes[data_yes['TotalWorkingYears']>=10]\n",
        "stats,p=ttest_ind(t_w_y1['TotalWorkingYears'],t_w_y2['TotalWorkingYears'])\n",
        "print(stats,p)\n",
        "if p<0.05:\n",
        "  print(\"Reject null hypothesis,Hence there is signicant difference of attrition of employees with TotalWorkingYears<10 and greater than 10\")\n",
        "else:\n",
        "   print(\"Accept null hypothesis,Hence there is no signicant difference of attrition of employees with TotalWorkingYears<10 and greater than 10\")"
      ],
      "execution_count": 94,
      "outputs": [
        {
          "output_type": "stream",
          "text": [
            "H0:There is no signicant difference of attrition of employees with TotalWorkingYears<10 and greater than 10\n",
            "Ha:There is signicant difference of attrition of employees with TotalWorkingYears<10 and greater than 10\n",
            "-30.628770159392115 8.757044604724673e-132\n",
            "Reject null hypothesis,Hence there is signicant difference of attrition of employees with TotalWorkingYears<10 and greater than 10\n"
          ],
          "name": "stdout"
        }
      ]
    },
    {
      "cell_type": "markdown",
      "metadata": {
        "id": "wONOT2iD2UJP",
        "colab_type": "text"
      },
      "source": [
        "# Inference: \n",
        "\n",
        "\n",
        "*   There is significant difference in attrition of employees with lower job_level and higher job_level\n",
        "*    There is significant difference in attrition of employees with years at the company less than 7 years and more than 7 years\n",
        "*There is signicant difference of attrition of employees with TotalWorkingYears less than 10 years and greater than 10 years\n",
        "\n",
        "\n"
      ]
    },
    {
      "cell_type": "markdown",
      "metadata": {
        "id": "Rqzmsf7i6luf",
        "colab_type": "text"
      },
      "source": [
        "# Chi Square Test"
      ]
    },
    {
      "cell_type": "code",
      "metadata": {
        "id": "leGQxH306tbg",
        "colab_type": "code",
        "colab": {}
      },
      "source": [
        "import scipy.stats as stats\n",
        "import seaborn as sns\n",
        "from scipy.stats import chi2_contingency\n",
        "def chi(name):\n",
        "  print(f\"Chi square test to find the dependency between {name} and Attrition\")\n",
        "  table=pd.crosstab(dataset[name],dataset['Attrition'])\n",
        "  print(\"\\nTable:\\n\\n\",table)\n",
        "  stats,p,dof,expected=chi2_contingency(table)\n",
        "  print(\"Value of p is\\n\",p)\n",
        "  if p<0.05:\n",
        "    print(f\"Reject Null Hypothesis,Hence there is dependency between {name} and Attrition\")\n",
        "  else:\n",
        "    print(f\"Accept Null Hypothesis,Hence there is no dependency between {name} and Attrition\")"
      ],
      "execution_count": 46,
      "outputs": []
    },
    {
      "cell_type": "code",
      "metadata": {
        "id": "jq9yiYm16wGj",
        "colab_type": "code",
        "colab": {
          "base_uri": "https://localhost:8080/",
          "height": 212
        },
        "outputId": "17ab8512-ccd8-4cf2-e3f2-75f8b90a362e"
      },
      "source": [
        "chi('Gender')"
      ],
      "execution_count": 47,
      "outputs": [
        {
          "output_type": "stream",
          "text": [
            "Chi square test to find the dependency between Gender and Attrition\n",
            "\n",
            "Table:\n",
            "\n",
            " Attrition    No  Yes\n",
            "Gender              \n",
            "Female     1494  270\n",
            "Male       2205  441\n",
            "Value of p is\n",
            " 0.24529482862926827\n",
            "Accept Null Hypothesis,Hence there is no dependency between Gender and Attrition\n"
          ],
          "name": "stdout"
        }
      ]
    },
    {
      "cell_type": "code",
      "metadata": {
        "id": "9w2e_UJE6z5E",
        "colab_type": "code",
        "colab": {
          "base_uri": "https://localhost:8080/",
          "height": 230
        },
        "outputId": "73536f52-c089-424a-a845-d621fd08b4fc"
      },
      "source": [
        "chi('BusinessTravel')"
      ],
      "execution_count": 48,
      "outputs": [
        {
          "output_type": "stream",
          "text": [
            "Chi square test to find the dependency between BusinessTravel and Attrition\n",
            "\n",
            "Table:\n",
            "\n",
            " Attrition            No  Yes\n",
            "BusinessTravel              \n",
            "Non-Travel          414   36\n",
            "Travel_Frequently   624  207\n",
            "Travel_Rarely      2661  468\n",
            "Value of p is\n",
            " 1.764276972983189e-16\n",
            "Reject Null Hypothesis,Hence there is dependency between BusinessTravel and Attrition\n"
          ],
          "name": "stdout"
        }
      ]
    },
    {
      "cell_type": "code",
      "metadata": {
        "id": "XVteWVsQ62ox",
        "colab_type": "code",
        "colab": {
          "base_uri": "https://localhost:8080/",
          "height": 265
        },
        "outputId": "38625b80-cedf-4fc9-da4b-ee63576b43db"
      },
      "source": [
        "chi('Education')\n"
      ],
      "execution_count": 49,
      "outputs": [
        {
          "output_type": "stream",
          "text": [
            "Chi square test to find the dependency between Education and Attrition\n",
            "\n",
            "Table:\n",
            "\n",
            " Attrition    No  Yes\n",
            "Education           \n",
            "1           432   78\n",
            "2           687  159\n",
            "3          1449  267\n",
            "4          1008  186\n",
            "5           123   21\n",
            "Value of p is\n",
            " 0.22759826301782393\n",
            "Accept Null Hypothesis,Hence there is no dependency between Education and Attrition\n"
          ],
          "name": "stdout"
        }
      ]
    },
    {
      "cell_type": "code",
      "metadata": {
        "id": "LdGMpH0U1AmK",
        "colab_type": "code",
        "colab": {
          "base_uri": "https://localhost:8080/",
          "height": 230
        },
        "outputId": "b1f325f1-25a2-4d9d-f8ce-edc3b480b628"
      },
      "source": [
        "chi('Department')"
      ],
      "execution_count": 50,
      "outputs": [
        {
          "output_type": "stream",
          "text": [
            "Chi square test to find the dependency between Department and Attrition\n",
            "\n",
            "Table:\n",
            "\n",
            " Attrition                 No  Yes\n",
            "Department                       \n",
            "Human Resources          132   57\n",
            "Research & Development  2430  453\n",
            "Sales                   1137  201\n",
            "Value of p is\n",
            " 4.820888218170407e-07\n",
            "Reject Null Hypothesis,Hence there is dependency between Department and Attrition\n"
          ],
          "name": "stdout"
        }
      ]
    },
    {
      "cell_type": "code",
      "metadata": {
        "id": "lPx3Dw8I66Ah",
        "colab_type": "code",
        "colab": {
          "base_uri": "https://localhost:8080/",
          "height": 230
        },
        "outputId": "18c8174d-e34f-4960-9262-28bddffeb98f"
      },
      "source": [
        "chi('MaritalStatus')"
      ],
      "execution_count": 51,
      "outputs": [
        {
          "output_type": "stream",
          "text": [
            "Chi square test to find the dependency between MaritalStatus and Attrition\n",
            "\n",
            "Table:\n",
            "\n",
            " Attrition        No  Yes\n",
            "MaritalStatus           \n",
            "Divorced        882   99\n",
            "Married        1767  252\n",
            "Single         1050  360\n",
            "Value of p is\n",
            " 8.45385940605786e-31\n",
            "Reject Null Hypothesis,Hence there is dependency between MaritalStatus and Attrition\n"
          ],
          "name": "stdout"
        }
      ]
    },
    {
      "cell_type": "code",
      "metadata": {
        "id": "Yl122jGB68aZ",
        "colab_type": "code",
        "colab": {
          "base_uri": "https://localhost:8080/",
          "height": 247
        },
        "outputId": "55cb51a9-4340-4acd-ab6d-b4d62b3528da"
      },
      "source": [
        "chi('StockOptionLevel')"
      ],
      "execution_count": 52,
      "outputs": [
        {
          "output_type": "stream",
          "text": [
            "Chi square test to find the dependency between StockOptionLevel and Attrition\n",
            "\n",
            "Table:\n",
            "\n",
            " Attrition           No  Yes\n",
            "StockOptionLevel           \n",
            "0                 1575  318\n",
            "1                 1518  270\n",
            "2                  390   84\n",
            "3                  216   39\n",
            "Value of p is\n",
            " 0.38454683657380506\n",
            "Accept Null Hypothesis,Hence there is no dependency between StockOptionLevel and Attrition\n"
          ],
          "name": "stdout"
        }
      ]
    },
    {
      "cell_type": "markdown",
      "metadata": {
        "id": "Q9MxOu9_6_bp",
        "colab_type": "text"
      },
      "source": [
        "# Inference:\n",
        "\n",
        "\n",
        "* There is dependency between BusinessTravel and Attrition\n",
        "*There is dependency between Department and Attrition\n",
        "*There is dependency between MaritalStatus and Attrition\n",
        "\n"
      ]
    },
    {
      "cell_type": "markdown",
      "metadata": {
        "id": "kQe3eG_v9y2j",
        "colab_type": "text"
      },
      "source": [
        "**Correlation Analysis**"
      ]
    },
    {
      "cell_type": "code",
      "metadata": {
        "id": "LblX26_W6-jf",
        "colab_type": "code",
        "colab": {}
      },
      "source": [
        "from scipy.stats import pearsonr\n",
        "def corr_an (column):\n",
        "    print(f\"Correlation Analysis of Attrition vs {column}:\\n\")\n",
        "    print(f\"\\tH0: There is no significant relation between Attrition and {column}\")\n",
        "    print(f\"\\tH1: There is significant relation between Attrition and {column}\\n\")\n",
        "    corr_, p = pearsonr(df['Attrition'], df[column])\n",
        "    corr_ = round(corr_, 3)\n",
        "    p = round(corr_, 3)\n",
        "    \n",
        "    \n",
        "    if p > 0.05:\n",
        "        print(f\"\\n\\tHere, the P value of {p} is > 0.05 so we are accepting H0 \\n\\tHence there is no significant correlation between Attrition and {column}\")\n",
        "    else:\n",
        "        print(f\"\\n\\tHere, the P value of {p} is < 0.05 so we are rejecting H0 \\n\\tHence there is significant correlation between Attrition and {column}\") \n",
        "    print(\"\\n----------\\n\")"
      ],
      "execution_count": 72,
      "outputs": []
    },
    {
      "cell_type": "code",
      "metadata": {
        "id": "MTAFKR1x972N",
        "colab_type": "code",
        "colab": {
          "base_uri": "https://localhost:8080/",
          "height": 1000
        },
        "outputId": "409bfb95-ec7d-4fdc-a679-91298827c01e"
      },
      "source": [
        "corr = dataset[['Age', 'DistanceFromHome','BusinessTravel','Department','MaritalStatus','MonthlyIncome','NumCompaniesWorked', 'PercentSalaryHike', 'TotalWorkingYears', 'TrainingTimesLastYear',\n",
        "       'YearsAtCompany', 'YearsSinceLastPromotion', 'YearsWithCurrManager']]\n",
        "for name in corr:\n",
        "  corr_an(name)"
      ],
      "execution_count": 73,
      "outputs": [
        {
          "output_type": "stream",
          "text": [
            "Correlation Analysis of Attrition vs Age:\n",
            "\n",
            "\tH0: There is no significant relation between Attrition and Age\n",
            "\tH1: There is significant relation between Attrition and Age\n",
            "\n",
            "\n",
            "\tHere, the P value of -0.158 is < 0.05 so we are rejecting H0 \n",
            "\tHence there is significant correlation between Attrition and Age\n",
            "\n",
            "----------\n",
            "\n",
            "Correlation Analysis of Attrition vs DistanceFromHome:\n",
            "\n",
            "\tH0: There is no significant relation between Attrition and DistanceFromHome\n",
            "\tH1: There is significant relation between Attrition and DistanceFromHome\n",
            "\n",
            "\n",
            "\tHere, the P value of -0.009 is < 0.05 so we are rejecting H0 \n",
            "\tHence there is significant correlation between Attrition and DistanceFromHome\n",
            "\n",
            "----------\n",
            "\n",
            "Correlation Analysis of Attrition vs BusinessTravel:\n",
            "\n",
            "\tH0: There is no significant relation between Attrition and BusinessTravel\n",
            "\tH1: There is significant relation between Attrition and BusinessTravel\n",
            "\n",
            "\n",
            "\tHere, the P value of 0.001 is < 0.05 so we are rejecting H0 \n",
            "\tHence there is significant correlation between Attrition and BusinessTravel\n",
            "\n",
            "----------\n",
            "\n",
            "Correlation Analysis of Attrition vs Department:\n",
            "\n",
            "\tH0: There is no significant relation between Attrition and Department\n",
            "\tH1: There is significant relation between Attrition and Department\n",
            "\n",
            "\n",
            "\tHere, the P value of -0.045 is < 0.05 so we are rejecting H0 \n",
            "\tHence there is significant correlation between Attrition and Department\n",
            "\n",
            "----------\n",
            "\n",
            "Correlation Analysis of Attrition vs MaritalStatus:\n",
            "\n",
            "\tH0: There is no significant relation between Attrition and MaritalStatus\n",
            "\tH1: There is significant relation between Attrition and MaritalStatus\n",
            "\n",
            "\n",
            "\tHere, the P value of 0.16 is > 0.05 so we are accepting H0 \n",
            "\tHence there is no significant correlation between Attrition and MaritalStatus\n",
            "\n",
            "----------\n",
            "\n",
            "Correlation Analysis of Attrition vs MonthlyIncome:\n",
            "\n",
            "\tH0: There is no significant relation between Attrition and MonthlyIncome\n",
            "\tH1: There is significant relation between Attrition and MonthlyIncome\n",
            "\n",
            "\n",
            "\tHere, the P value of -0.03 is < 0.05 so we are rejecting H0 \n",
            "\tHence there is significant correlation between Attrition and MonthlyIncome\n",
            "\n",
            "----------\n",
            "\n",
            "Correlation Analysis of Attrition vs NumCompaniesWorked:\n",
            "\n",
            "\tH0: There is no significant relation between Attrition and NumCompaniesWorked\n",
            "\tH1: There is significant relation between Attrition and NumCompaniesWorked\n",
            "\n",
            "\n",
            "\tHere, the P value of 0.043 is < 0.05 so we are rejecting H0 \n",
            "\tHence there is significant correlation between Attrition and NumCompaniesWorked\n",
            "\n",
            "----------\n",
            "\n",
            "Correlation Analysis of Attrition vs PercentSalaryHike:\n",
            "\n",
            "\tH0: There is no significant relation between Attrition and PercentSalaryHike\n",
            "\tH1: There is significant relation between Attrition and PercentSalaryHike\n",
            "\n",
            "\n",
            "\tHere, the P value of 0.033 is < 0.05 so we are rejecting H0 \n",
            "\tHence there is significant correlation between Attrition and PercentSalaryHike\n",
            "\n",
            "----------\n",
            "\n",
            "Correlation Analysis of Attrition vs TotalWorkingYears:\n",
            "\n",
            "\tH0: There is no significant relation between Attrition and TotalWorkingYears\n",
            "\tH1: There is significant relation between Attrition and TotalWorkingYears\n",
            "\n",
            "\n",
            "\tHere, the P value of -0.17 is < 0.05 so we are rejecting H0 \n",
            "\tHence there is significant correlation between Attrition and TotalWorkingYears\n",
            "\n",
            "----------\n",
            "\n",
            "Correlation Analysis of Attrition vs TrainingTimesLastYear:\n",
            "\n",
            "\tH0: There is no significant relation between Attrition and TrainingTimesLastYear\n",
            "\tH1: There is significant relation between Attrition and TrainingTimesLastYear\n",
            "\n",
            "\n",
            "\tHere, the P value of -0.048 is < 0.05 so we are rejecting H0 \n",
            "\tHence there is significant correlation between Attrition and TrainingTimesLastYear\n",
            "\n",
            "----------\n",
            "\n",
            "Correlation Analysis of Attrition vs YearsAtCompany:\n",
            "\n",
            "\tH0: There is no significant relation between Attrition and YearsAtCompany\n",
            "\tH1: There is significant relation between Attrition and YearsAtCompany\n",
            "\n",
            "\n",
            "\tHere, the P value of -0.133 is < 0.05 so we are rejecting H0 \n",
            "\tHence there is significant correlation between Attrition and YearsAtCompany\n",
            "\n",
            "----------\n",
            "\n",
            "Correlation Analysis of Attrition vs YearsSinceLastPromotion:\n",
            "\n",
            "\tH0: There is no significant relation between Attrition and YearsSinceLastPromotion\n",
            "\tH1: There is significant relation between Attrition and YearsSinceLastPromotion\n",
            "\n",
            "\n",
            "\tHere, the P value of -0.031 is < 0.05 so we are rejecting H0 \n",
            "\tHence there is significant correlation between Attrition and YearsSinceLastPromotion\n",
            "\n",
            "----------\n",
            "\n",
            "Correlation Analysis of Attrition vs YearsWithCurrManager:\n",
            "\n",
            "\tH0: There is no significant relation between Attrition and YearsWithCurrManager\n",
            "\tH1: There is significant relation between Attrition and YearsWithCurrManager\n",
            "\n",
            "\n",
            "\tHere, the P value of -0.155 is < 0.05 so we are rejecting H0 \n",
            "\tHence there is significant correlation between Attrition and YearsWithCurrManager\n",
            "\n",
            "----------\n",
            "\n"
          ],
          "name": "stdout"
        }
      ]
    }
  ]
}